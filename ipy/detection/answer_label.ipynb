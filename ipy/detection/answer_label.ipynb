{
 "cells": [
  {
   "cell_type": "code",
   "execution_count": null,
   "metadata": {
    "collapsed": false
   },
   "outputs": [],
   "source": []
  },
  {
   "cell_type": "code",
   "execution_count": 182,
   "metadata": {
    "collapsed": false,
    "scrolled": false
   },
   "outputs": [
    {
     "data": {
      "text/html": [
       "<div>\n",
       "<style scoped>\n",
       "    .dataframe tbody tr th:only-of-type {\n",
       "        vertical-align: middle;\n",
       "    }\n",
       "\n",
       "    .dataframe tbody tr th {\n",
       "        vertical-align: top;\n",
       "    }\n",
       "\n",
       "    .dataframe thead th {\n",
       "        text-align: right;\n",
       "    }\n",
       "</style>\n",
       "<table border=\"1\" class=\"dataframe\">\n",
       "  <thead>\n",
       "    <tr style=\"text-align: right;\">\n",
       "      <th></th>\n",
       "      <th>Fri</th>\n",
       "      <th>Mon</th>\n",
       "      <th>Sat</th>\n",
       "      <th>Sun</th>\n",
       "      <th>Thurs</th>\n",
       "      <th>Tue</th>\n",
       "      <th>Wed</th>\n",
       "      <th>area_ratio</th>\n",
       "      <th>degree_mean</th>\n",
       "      <th>degree_std</th>\n",
       "      <th>...</th>\n",
       "      <th>overall_dir_left_down</th>\n",
       "      <th>overall_dir_left_up</th>\n",
       "      <th>overall_dir_right</th>\n",
       "      <th>overall_dir_right_down</th>\n",
       "      <th>overall_dir_right_up</th>\n",
       "      <th>right</th>\n",
       "      <th>right_down</th>\n",
       "      <th>right_up</th>\n",
       "      <th>up</th>\n",
       "      <th>var</th>\n",
       "    </tr>\n",
       "  </thead>\n",
       "  <tbody>\n",
       "    <tr>\n",
       "      <th>0</th>\n",
       "      <td>0</td>\n",
       "      <td>0</td>\n",
       "      <td>1</td>\n",
       "      <td>0</td>\n",
       "      <td>0</td>\n",
       "      <td>0</td>\n",
       "      <td>0</td>\n",
       "      <td>0.000030</td>\n",
       "      <td>149.783784</td>\n",
       "      <td>119.499663</td>\n",
       "      <td>...</td>\n",
       "      <td>0.0</td>\n",
       "      <td>0</td>\n",
       "      <td>1</td>\n",
       "      <td>0</td>\n",
       "      <td>0</td>\n",
       "      <td>0.297297</td>\n",
       "      <td>0.054054</td>\n",
       "      <td>0.189189</td>\n",
       "      <td>0.027027</td>\n",
       "      <td>0.0000</td>\n",
       "    </tr>\n",
       "    <tr>\n",
       "      <th>1</th>\n",
       "      <td>0</td>\n",
       "      <td>0</td>\n",
       "      <td>1</td>\n",
       "      <td>0</td>\n",
       "      <td>0</td>\n",
       "      <td>0</td>\n",
       "      <td>0</td>\n",
       "      <td>0.000045</td>\n",
       "      <td>121.428571</td>\n",
       "      <td>116.511422</td>\n",
       "      <td>...</td>\n",
       "      <td>0.0</td>\n",
       "      <td>0</td>\n",
       "      <td>1</td>\n",
       "      <td>0</td>\n",
       "      <td>0</td>\n",
       "      <td>0.357143</td>\n",
       "      <td>0.119048</td>\n",
       "      <td>0.095238</td>\n",
       "      <td>0.000000</td>\n",
       "      <td>19.7564</td>\n",
       "    </tr>\n",
       "    <tr>\n",
       "      <th>2</th>\n",
       "      <td>0</td>\n",
       "      <td>0</td>\n",
       "      <td>1</td>\n",
       "      <td>0</td>\n",
       "      <td>0</td>\n",
       "      <td>0</td>\n",
       "      <td>0</td>\n",
       "      <td>0.000000</td>\n",
       "      <td>106.333333</td>\n",
       "      <td>124.348301</td>\n",
       "      <td>...</td>\n",
       "      <td>0.0</td>\n",
       "      <td>0</td>\n",
       "      <td>1</td>\n",
       "      <td>0</td>\n",
       "      <td>0</td>\n",
       "      <td>0.472222</td>\n",
       "      <td>0.083333</td>\n",
       "      <td>0.111111</td>\n",
       "      <td>0.027778</td>\n",
       "      <td>23.1904</td>\n",
       "    </tr>\n",
       "    <tr>\n",
       "      <th>3</th>\n",
       "      <td>0</td>\n",
       "      <td>0</td>\n",
       "      <td>1</td>\n",
       "      <td>0</td>\n",
       "      <td>0</td>\n",
       "      <td>0</td>\n",
       "      <td>0</td>\n",
       "      <td>0.000045</td>\n",
       "      <td>111.000000</td>\n",
       "      <td>140.305549</td>\n",
       "      <td>...</td>\n",
       "      <td>0.0</td>\n",
       "      <td>0</td>\n",
       "      <td>1</td>\n",
       "      <td>0</td>\n",
       "      <td>0</td>\n",
       "      <td>0.500000</td>\n",
       "      <td>0.088235</td>\n",
       "      <td>0.205882</td>\n",
       "      <td>0.000000</td>\n",
       "      <td>20.9167</td>\n",
       "    </tr>\n",
       "    <tr>\n",
       "      <th>4</th>\n",
       "      <td>0</td>\n",
       "      <td>0</td>\n",
       "      <td>1</td>\n",
       "      <td>0</td>\n",
       "      <td>0</td>\n",
       "      <td>0</td>\n",
       "      <td>0</td>\n",
       "      <td>0.000000</td>\n",
       "      <td>86.454545</td>\n",
       "      <td>129.904415</td>\n",
       "      <td>...</td>\n",
       "      <td>0.0</td>\n",
       "      <td>0</td>\n",
       "      <td>1</td>\n",
       "      <td>0</td>\n",
       "      <td>0</td>\n",
       "      <td>0.666667</td>\n",
       "      <td>0.060606</td>\n",
       "      <td>0.090909</td>\n",
       "      <td>0.000000</td>\n",
       "      <td>21.9560</td>\n",
       "    </tr>\n",
       "  </tbody>\n",
       "</table>\n",
       "<p>5 rows × 46 columns</p>\n",
       "</div>"
      ],
      "text/plain": [
       "   Fri  Mon  Sat  Sun  Thurs  Tue  Wed  area_ratio  degree_mean  degree_std  \\\n",
       "0    0    0    1    0      0    0    0    0.000030   149.783784  119.499663   \n",
       "1    0    0    1    0      0    0    0    0.000045   121.428571  116.511422   \n",
       "2    0    0    1    0      0    0    0    0.000000   106.333333  124.348301   \n",
       "3    0    0    1    0      0    0    0    0.000045   111.000000  140.305549   \n",
       "4    0    0    1    0      0    0    0    0.000000    86.454545  129.904415   \n",
       "\n",
       "    ...     overall_dir_left_down  overall_dir_left_up  overall_dir_right  \\\n",
       "0   ...                       0.0                    0                  1   \n",
       "1   ...                       0.0                    0                  1   \n",
       "2   ...                       0.0                    0                  1   \n",
       "3   ...                       0.0                    0                  1   \n",
       "4   ...                       0.0                    0                  1   \n",
       "\n",
       "   overall_dir_right_down  overall_dir_right_up     right  right_down  \\\n",
       "0                       0                     0  0.297297    0.054054   \n",
       "1                       0                     0  0.357143    0.119048   \n",
       "2                       0                     0  0.472222    0.083333   \n",
       "3                       0                     0  0.500000    0.088235   \n",
       "4                       0                     0  0.666667    0.060606   \n",
       "\n",
       "   right_up        up      var  \n",
       "0  0.189189  0.027027   0.0000  \n",
       "1  0.095238  0.000000  19.7564  \n",
       "2  0.111111  0.027778  23.1904  \n",
       "3  0.205882  0.000000  20.9167  \n",
       "4  0.090909  0.000000  21.9560  \n",
       "\n",
       "[5 rows x 46 columns]"
      ]
     },
     "execution_count": 182,
     "metadata": {},
     "output_type": "execute_result"
    }
   ],
   "source": [
    "dataset_df =pd.DataFrame()\n",
    "\n",
    "day_lst = [\"20170416\", \"20170417\", \"20170418\", \"20170420\", \"20170421\"]\n",
    "day_lst = [\"20181030\"]\n",
    "\n",
    "for day in day_lst:\n",
    "    for t_idx in range(9, 17):\n",
    "        tmp_dataset_df = pd.read_csv(\"../../data/datasets/{0}/default/time_series_{1}.csv\".format(day, t_idx))\n",
    "    \n",
    "        # check NaN count\n",
    "        assert tmp_dataset_df.isnull().values.sum() == 0\n",
    "\n",
    "        dataset_df = pd.concat([dataset_df, tmp_dataset_df])\n",
    "\n",
    "    # shuffle dataset\n",
    "    #dataset_df = dataset_df.sample(frac=1)\n",
    "    dataset_df = dataset_df.fillna(0)\n",
    "\n",
    "    # check NaN count\n",
    "    assert dataset_df.isnull().values.sum() == 0\n",
    "    \n",
    "    \n",
    "dataset_df.head()"
   ]
  },
  {
   "cell_type": "code",
   "execution_count": 184,
   "metadata": {
    "collapsed": false,
    "scrolled": true
   },
   "outputs": [],
   "source": [
    "thresh_lst = []\n",
    "for t in range(9, 17):\n",
    "    thresh_df = pd.read_csv(\"../../data/statistics/20170422/{}/acc_thresh.csv\".format(t))\n",
    "    thresh_lst.extend(list(thresh_df[thresh_df[\"frame_num\"]%30 == 0][\"acc_thresh\"]))"
   ]
  },
  {
   "cell_type": "code",
   "execution_count": 185,
   "metadata": {
    "collapsed": false
   },
   "outputs": [
    {
     "data": {
      "text/plain": [
       "150.0"
      ]
     },
     "execution_count": 185,
     "metadata": {},
     "output_type": "execute_result"
    }
   ],
   "source": [
    "np.min(thresh_lst[100:])"
   ]
  },
  {
   "cell_type": "code",
   "execution_count": 186,
   "metadata": {
    "collapsed": false
   },
   "outputs": [
    {
     "data": {
      "text/plain": [
       "[<matplotlib.lines.Line2D at 0x15c5683c8>]"
      ]
     },
     "execution_count": 186,
     "metadata": {},
     "output_type": "execute_result"
    },
    {
     "data": {
      "image/png": "[encoded data removed]",
      "text/plain": [
       "<matplotlib.figure.Figure at 0x15e741f98>"
      ]
     },
     "metadata": {},
     "output_type": "display_data"
    }
   ],
   "source": [
    "plt.figure(figsize=(16, 4))\n",
    "plt.plot(list(dataset_df[\"max\"]))\n",
    "plt.plot(thresh_lst)"
   ]
  },
  {
   "cell_type": "code",
   "execution_count": 187,
   "metadata": {
    "collapsed": false
   },
   "outputs": [
    {
     "data": {
      "text/plain": [
       "[<matplotlib.lines.Line2D at 0x13d5ed128>]"
      ]
     },
     "execution_count": 187,
     "metadata": {},
     "output_type": "execute_result"
    },
    {
     "data": {
      "image/png": "[encoded data removed]",
      "text/plain": [
       "<matplotlib.figure.Figure at 0x13d602128>"
      ]
     },
     "metadata": {},
     "output_type": "display_data"
    }
   ],
   "source": [
    "plt.figure(figsize=(16, 4))\n",
    "plt.plot(list(dataset_df[\"label\"]))"
   ]
  },
  {
   "cell_type": "code",
   "execution_count": 188,
   "metadata": {
    "collapsed": false
   },
   "outputs": [
    {
     "name": "stdout",
     "output_type": "stream",
     "text": [
      "***************** Train *****************\n",
      "Normal: 28615\n",
      "Anormal: 141\n",
      "Anormaly rate [%]: 0.49274855844836624\n"
     ]
    }
   ],
   "source": [
    "# check data balance, and convert numpy\n",
    "y_train = dataset_df[\"label\"].values\n",
    "print(\"***************** Train *****************\")\n",
    "print(\"Normal: {}\".format(np.sum(y_train==0)))\n",
    "print(\"Anormal: {}\".format(np.sum(y_train==1)))\n",
    "print(\"Anormaly rate [%]: {}\".format(100*(np.sum(y_train==1)/np.sum(y_train==0))))\n",
    "\n",
    "dataset_df = dataset_df.drop([\"label\"], axis=1)\n",
    "X_train = dataset_df.values"
   ]
  },
  {
   "cell_type": "code",
   "execution_count": 189,
   "metadata": {
    "collapsed": false
   },
   "outputs": [
    {
     "name": "stdout",
     "output_type": "stream",
     "text": [
      "***************** Test *****************\n",
      "Normal: 28672\n",
      "Anormal: 84\n",
      "Anormaly rate [%]: 0.29296875\n"
     ]
    }
   ],
   "source": [
    "test_df = pd.DataFrame(columns=dataset_df.columns)\n",
    "\n",
    "for t_idx in range(9, 17):\n",
    "    tmp_test_df = pd.read_csv(\"../../data/datasets/20170422/normalize/time_series_{0}.csv\".format(t_idx))\n",
    "\n",
    "    # check NaN count\n",
    "    assert tmp_test_df.isnull().values.sum() == 0\n",
    "\n",
    "    test_df = pd.concat([test_df, tmp_test_df])\n",
    "\n",
    "\n",
    "test_df = test_df.fillna(0)\n",
    "\n",
    "# check NaN count\n",
    "assert test_df.isnull().values.sum() == 0\n",
    "    \n",
    "# check data balance, and convert numpy\n",
    "y_test = test_df[\"label\"].values\n",
    "print(\"***************** Test *****************\")\n",
    "print(\"Normal: {}\".format(np.sum(y_test==0)))\n",
    "print(\"Anormal: {}\".format(np.sum(y_test==1)))\n",
    "print(\"Anormaly rate [%]: {}\".format(100*(np.sum(y_test==1)/np.sum(y_test==0))))\n",
    "\n",
    "#test_df = test_df.drop([\"label\", \"max\"], axis=1)\n",
    "test_df = test_df.drop(\"label\", axis=1)\n",
    "X_test = test_df.values"
   ]
  },
  {
   "cell_type": "code",
   "execution_count": null,
   "metadata": {
    "collapsed": true
   },
   "outputs": [],
   "source": []
  }
 ],
 "metadata": {
  "anaconda-cloud": {},
  "kernelspec": {
   "display_name": "Python [conda env:anaconda3-4.2.0]",
   "language": "python",
   "name": "conda-env-anaconda3-4.2.0-py"
  },
  "language_info": {
   "codemirror_mode": {
    "name": "ipython",
    "version": 3
   },
   "file_extension": ".py",
   "mimetype": "text/x-python",
   "name": "python",
   "nbconvert_exporter": "python",
   "pygments_lexer": "ipython3",
   "version": "3.5.2"
  }
 },
 "nbformat": 4,
 "nbformat_minor": 1
}
