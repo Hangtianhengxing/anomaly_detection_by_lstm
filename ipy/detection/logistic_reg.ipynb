{
 "cells": [
  {
   "cell_type": "code",
   "execution_count": 1,
   "metadata": {
    "collapsed": false
   },
   "outputs": [],
   "source": [
    "%matplotlib inline\n",
    "import matplotlib.pyplot as plt\n",
    "from sklearn.linear_model import LogisticRegression\n",
    "from sklearn.model_selection import train_test_split\n",
    "from sklearn.metrics import accuracy_score\n",
    "from sklearn.metrics import precision_score\n",
    "from sklearn.metrics import recall_score\n",
    "from sklearn.metrics import confusion_matrix\n",
    "from collections import defaultdict"
   ]
  },
  {
   "cell_type": "code",
   "execution_count": 5,
   "metadata": {
    "collapsed": false
   },
   "outputs": [
    {
     "data": {
      "text/html": [
       "<div>\n",
       "<style scoped>\n",
       "    .dataframe tbody tr th:only-of-type {\n",
       "        vertical-align: middle;\n",
       "    }\n",
       "\n",
       "    .dataframe tbody tr th {\n",
       "        vertical-align: top;\n",
       "    }\n",
       "\n",
       "    .dataframe thead th {\n",
       "        text-align: right;\n",
       "    }\n",
       "</style>\n",
       "<table border=\"1\" class=\"dataframe\">\n",
       "  <thead>\n",
       "    <tr style=\"text-align: right;\">\n",
       "      <th></th>\n",
       "      <th>Fri</th>\n",
       "      <th>Mon</th>\n",
       "      <th>Sat</th>\n",
       "      <th>Sun</th>\n",
       "      <th>Thurs</th>\n",
       "      <th>Tue</th>\n",
       "      <th>Wed</th>\n",
       "      <th>area_ratio</th>\n",
       "      <th>degree_mean</th>\n",
       "      <th>degree_mean_shift1</th>\n",
       "      <th>...</th>\n",
       "      <th>overall_dir_left_up</th>\n",
       "      <th>overall_dir_right</th>\n",
       "      <th>overall_dir_right_down</th>\n",
       "      <th>overall_dir_right_up</th>\n",
       "      <th>right</th>\n",
       "      <th>right_down</th>\n",
       "      <th>right_up</th>\n",
       "      <th>up</th>\n",
       "      <th>var</th>\n",
       "      <th>var_shift1</th>\n",
       "    </tr>\n",
       "  </thead>\n",
       "  <tbody>\n",
       "    <tr>\n",
       "      <th>3141</th>\n",
       "      <td>0</td>\n",
       "      <td>0</td>\n",
       "      <td>1</td>\n",
       "      <td>0</td>\n",
       "      <td>0</td>\n",
       "      <td>0</td>\n",
       "      <td>0</td>\n",
       "      <td>0.232676</td>\n",
       "      <td>130.500000</td>\n",
       "      <td>-3.833333</td>\n",
       "      <td>...</td>\n",
       "      <td>0</td>\n",
       "      <td>1</td>\n",
       "      <td>0</td>\n",
       "      <td>0</td>\n",
       "      <td>0.285714</td>\n",
       "      <td>0.107143</td>\n",
       "      <td>0.107143</td>\n",
       "      <td>0.0</td>\n",
       "      <td>48.4678</td>\n",
       "      <td>-3.3479</td>\n",
       "    </tr>\n",
       "    <tr>\n",
       "      <th>3372</th>\n",
       "      <td>0</td>\n",
       "      <td>0</td>\n",
       "      <td>0</td>\n",
       "      <td>0</td>\n",
       "      <td>0</td>\n",
       "      <td>1</td>\n",
       "      <td>0</td>\n",
       "      <td>0.062614</td>\n",
       "      <td>129.612903</td>\n",
       "      <td>-25.174976</td>\n",
       "      <td>...</td>\n",
       "      <td>0</td>\n",
       "      <td>1</td>\n",
       "      <td>0</td>\n",
       "      <td>0</td>\n",
       "      <td>0.387097</td>\n",
       "      <td>0.032258</td>\n",
       "      <td>0.064516</td>\n",
       "      <td>0.0</td>\n",
       "      <td>33.4345</td>\n",
       "      <td>8.4337</td>\n",
       "    </tr>\n",
       "    <tr>\n",
       "      <th>578</th>\n",
       "      <td>1</td>\n",
       "      <td>0</td>\n",
       "      <td>0</td>\n",
       "      <td>0</td>\n",
       "      <td>0</td>\n",
       "      <td>0</td>\n",
       "      <td>0</td>\n",
       "      <td>0.022696</td>\n",
       "      <td>165.777778</td>\n",
       "      <td>65.444444</td>\n",
       "      <td>...</td>\n",
       "      <td>1</td>\n",
       "      <td>0</td>\n",
       "      <td>0</td>\n",
       "      <td>0</td>\n",
       "      <td>0.333333</td>\n",
       "      <td>0.000000</td>\n",
       "      <td>0.000000</td>\n",
       "      <td>0.0</td>\n",
       "      <td>59.3995</td>\n",
       "      <td>9.4678</td>\n",
       "    </tr>\n",
       "    <tr>\n",
       "      <th>1374</th>\n",
       "      <td>1</td>\n",
       "      <td>0</td>\n",
       "      <td>0</td>\n",
       "      <td>0</td>\n",
       "      <td>0</td>\n",
       "      <td>0</td>\n",
       "      <td>0</td>\n",
       "      <td>0.008876</td>\n",
       "      <td>94.680000</td>\n",
       "      <td>1.718462</td>\n",
       "      <td>...</td>\n",
       "      <td>0</td>\n",
       "      <td>1</td>\n",
       "      <td>0</td>\n",
       "      <td>0</td>\n",
       "      <td>0.480000</td>\n",
       "      <td>0.080000</td>\n",
       "      <td>0.080000</td>\n",
       "      <td>0.0</td>\n",
       "      <td>54.9076</td>\n",
       "      <td>-12.2178</td>\n",
       "    </tr>\n",
       "    <tr>\n",
       "      <th>1674</th>\n",
       "      <td>1</td>\n",
       "      <td>0</td>\n",
       "      <td>0</td>\n",
       "      <td>0</td>\n",
       "      <td>0</td>\n",
       "      <td>0</td>\n",
       "      <td>0</td>\n",
       "      <td>0.140818</td>\n",
       "      <td>124.148148</td>\n",
       "      <td>-29.206691</td>\n",
       "      <td>...</td>\n",
       "      <td>0</td>\n",
       "      <td>0</td>\n",
       "      <td>0</td>\n",
       "      <td>0</td>\n",
       "      <td>0.259259</td>\n",
       "      <td>0.037037</td>\n",
       "      <td>0.000000</td>\n",
       "      <td>0.0</td>\n",
       "      <td>24.7558</td>\n",
       "      <td>-0.2633</td>\n",
       "    </tr>\n",
       "  </tbody>\n",
       "</table>\n",
       "<p>5 rows × 60 columns</p>\n",
       "</div>"
      ],
      "text/plain": [
       "      Fri  Mon  Sat  Sun  Thurs  Tue  Wed  area_ratio  degree_mean  \\\n",
       "3141    0    0    1    0      0    0    0    0.232676   130.500000   \n",
       "3372    0    0    0    0      0    1    0    0.062614   129.612903   \n",
       "578     1    0    0    0      0    0    0    0.022696   165.777778   \n",
       "1374    1    0    0    0      0    0    0    0.008876    94.680000   \n",
       "1674    1    0    0    0      0    0    0    0.140818   124.148148   \n",
       "\n",
       "      degree_mean_shift1     ...      overall_dir_left_up  overall_dir_right  \\\n",
       "3141           -3.833333     ...                        0                  1   \n",
       "3372          -25.174976     ...                        0                  1   \n",
       "578            65.444444     ...                        1                  0   \n",
       "1374            1.718462     ...                        0                  1   \n",
       "1674          -29.206691     ...                        0                  0   \n",
       "\n",
       "      overall_dir_right_down  overall_dir_right_up     right  right_down  \\\n",
       "3141                       0                     0  0.285714    0.107143   \n",
       "3372                       0                     0  0.387097    0.032258   \n",
       "578                        0                     0  0.333333    0.000000   \n",
       "1374                       0                     0  0.480000    0.080000   \n",
       "1674                       0                     0  0.259259    0.037037   \n",
       "\n",
       "      right_up   up      var  var_shift1  \n",
       "3141  0.107143  0.0  48.4678     -3.3479  \n",
       "3372  0.064516  0.0  33.4345      8.4337  \n",
       "578   0.000000  0.0  59.3995      9.4678  \n",
       "1374  0.080000  0.0  54.9076    -12.2178  \n",
       "1674  0.000000  0.0  24.7558     -0.2633  \n",
       "\n",
       "[5 rows x 60 columns]"
      ]
     },
     "execution_count": 5,
     "metadata": {},
     "output_type": "execute_result"
    }
   ],
   "source": [
    "dataset_df =pd.DataFrame()\n",
    "\n",
    "day_lst = [\"20170417\", \"20170418\", \"20170420\", \"20170421\", \"20170422\"]\n",
    "\n",
    "for day in day_lst:\n",
    "    for t_idx in range(9, 17):\n",
    "        tmp_dataset_df = pd.read_csv(\"../../data/datasets/{0}/default/time_series_{1}.csv\".format(day, t_idx))\n",
    "\n",
    "        # check NaN count\n",
    "        assert tmp_dataset_df.isnull().values.sum() == 0\n",
    "\n",
    "        dataset_df = pd.concat([dataset_df, tmp_dataset_df])\n",
    "\n",
    "    # shuffle dataset\n",
    "    dataset_df = dataset_df.sample(frac=1)\n",
    "    dataset_df = dataset_df.fillna(0)\n",
    "\n",
    "    # check NaN count\n",
    "    assert dataset_df.isnull().values.sum() == 0\n",
    "    \n",
    "    \n",
    "dataset_df.head()"
   ]
  },
  {
   "cell_type": "code",
   "execution_count": 6,
   "metadata": {
    "collapsed": false
   },
   "outputs": [
    {
     "data": {
      "text/plain": [
       "[<matplotlib.lines.Line2D at 0x1199bd048>]"
      ]
     },
     "execution_count": 6,
     "metadata": {},
     "output_type": "execute_result"
    },
    {
     "data": {
      "image/png": "[encoded data removed]",
      "text/plain": [
       "<matplotlib.figure.Figure at 0x11b380940>"
      ]
     },
     "metadata": {},
     "output_type": "display_data"
    }
   ],
   "source": [
    "plt.figure(figsize=(12, 4))\n",
    "plt.plot(np.array(dataset_df[\"max_shift1\"]))"
   ]
  },
  {
   "cell_type": "code",
   "execution_count": 7,
   "metadata": {
    "collapsed": false
   },
   "outputs": [
    {
     "data": {
      "text/plain": [
       "Index(['Fri', 'Mon', 'Sat', 'Sun', 'Thurs', 'Tue', 'Wed', 'area_ratio',\n",
       "       'degree_mean', 'degree_mean_shift1', 'degree_std', 'degree_std_shift1',\n",
       "       'diver', 'down', 'feed', 'grid_0_0', 'grid_0_1', 'grid_0_2', 'grid_0_3',\n",
       "       'grid_0_4', 'grid_0_5', 'grid_0_6', 'grid_0_7', 'hour_10', 'hour_11',\n",
       "       'hour_12', 'hour_13', 'hour_14', 'hour_15', 'hour_16', 'hour_9',\n",
       "       'label', 'left', 'left_down', 'left_up', 'max', 'max_index_grid_0_0',\n",
       "       'max_index_grid_0_1', 'max_index_grid_0_2', 'max_index_grid_0_3',\n",
       "       'max_index_grid_0_4', 'max_index_grid_0_5', 'max_index_grid_0_6',\n",
       "       'max_index_grid_0_7', 'max_shift1', 'mean', 'mean_shift1',\n",
       "       'overall_dir_down', 'overall_dir_left', 'overall_dir_left_down',\n",
       "       'overall_dir_left_up', 'overall_dir_right', 'overall_dir_right_down',\n",
       "       'overall_dir_right_up', 'right', 'right_down', 'right_up', 'up', 'var',\n",
       "       'var_shift1'],\n",
       "      dtype='object')"
      ]
     },
     "execution_count": 7,
     "metadata": {},
     "output_type": "execute_result"
    }
   ],
   "source": [
    "dataset_df.columns"
   ]
  },
  {
   "cell_type": "code",
   "execution_count": 8,
   "metadata": {
    "collapsed": false
   },
   "outputs": [
    {
     "name": "stdout",
     "output_type": "stream",
     "text": [
      "***************** Train *****************\n",
      "Normal: 143400\n",
      "Anormal: 339\n",
      "Anormaly rate [%]: 0.23640167364016737\n"
     ]
    }
   ],
   "source": [
    "# check data balance, and convert numpy\n",
    "y_train = dataset_df[\"label\"].values\n",
    "print(\"***************** Train *****************\")\n",
    "print(\"Normal: {}\".format(np.sum(y_train==0)))\n",
    "print(\"Anormal: {}\".format(np.sum(y_train==1)))\n",
    "print(\"Anormaly rate [%]: {}\".format(100*(np.sum(y_train==1)/np.sum(y_train==0))))\n",
    "\n",
    "dataset_df = dataset_df.drop([\"label\"], axis=1)\n",
    "X_train = dataset_df.values"
   ]
  },
  {
   "cell_type": "code",
   "execution_count": 29,
   "metadata": {
    "collapsed": false
   },
   "outputs": [
    {
     "name": "stdout",
     "output_type": "stream",
     "text": [
      "***************** Test *****************\n",
      "Normal: 28684\n",
      "Anormal: 62\n",
      "Anormaly rate [%]: 0.21614837540092036\n"
     ]
    }
   ],
   "source": [
    "test_df = pd.DataFrame(columns=dataset_df.columns)\n",
    "\n",
    "for t_idx in range(9, 17):\n",
    "    tmp_test_df = pd.read_csv(\"../../data/datasets/20170416/default/time_series_{0}.csv\".format(t_idx))\n",
    "\n",
    "    # check NaN count\n",
    "    assert tmp_test_df.isnull().values.sum() == 0\n",
    "\n",
    "    test_df = pd.concat([test_df, tmp_test_df])\n",
    "\n",
    "\n",
    "test_df = test_df.fillna(0)\n",
    "\n",
    "# check NaN count\n",
    "assert test_df.isnull().values.sum() == 0\n",
    "    \n",
    "# check data balance, and convert numpy\n",
    "y_test = test_df[\"label\"].values\n",
    "print(\"***************** Test *****************\")\n",
    "print(\"Normal: {}\".format(np.sum(y_test==0)))\n",
    "print(\"Anormal: {}\".format(np.sum(y_test==1)))\n",
    "print(\"Anormaly rate [%]: {}\".format(100*(np.sum(y_test==1)/np.sum(y_test==0))))\n",
    "\n",
    "#test_df = test_df.drop([\"label\", \"max\"], axis=1)\n",
    "test_df = test_df.drop(\"label\", axis=1)\n",
    "X_test = test_df.values"
   ]
  },
  {
   "cell_type": "code",
   "execution_count": null,
   "metadata": {
    "collapsed": false
   },
   "outputs": [],
   "source": []
  },
  {
   "cell_type": "code",
   "execution_count": 39,
   "metadata": {
    "collapsed": false
   },
   "outputs": [
    {
     "data": {
      "text/plain": [
       "LogisticRegression(C=1.0, class_weight='balanced', dual=False,\n",
       "          fit_intercept=True, intercept_scaling=1, max_iter=100,\n",
       "          multi_class='multinomial', n_jobs=1, penalty='l2',\n",
       "          random_state=0, solver='lbfgs', tol=0.0001, verbose=0,\n",
       "          warm_start=False)"
      ]
     },
     "execution_count": 39,
     "metadata": {},
     "output_type": "execute_result"
    }
   ],
   "source": [
    "clf = LogisticRegression(random_state=0, solver=\"lbfgs\", multi_class=\"multinomial\", class_weight=\"balanced\")\n",
    "#clf = LogisticRegression(random_state=0, class_weight=\"balanced\")\n",
    "clf.fit(X_train, y_train)"
   ]
  },
  {
   "cell_type": "code",
   "execution_count": 40,
   "metadata": {
    "collapsed": false
   },
   "outputs": [
    {
     "name": "stdout",
     "output_type": "stream",
     "text": [
      "*********************************************\n",
      "Train Accuracy: 0.9962153625668747\n",
      "Train Recall: 1.0\n",
      "Train Precision: 0.38391845979614947\n",
      "*********************************************\n",
      "*********************************************\n",
      "Test Accuracy: 0.9955124191191818\n",
      "Test Recall: 1.0\n",
      "Test Precision: 0.32460732984293195\n",
      "*********************************************\n"
     ]
    }
   ],
   "source": [
    "train_pred = clf.predict_proba(X_train)[:, 1]\n",
    "train_pred[train_pred <= 0.5] = 0\n",
    "train_pred[train_pred > 0.5] = 1\n",
    "test_pred = clf.predict_proba(X_test)[:, 1]\n",
    "test_pred[test_pred <= 0.5] = 0\n",
    "test_pred[test_pred > 0.5] = 1\n",
    "\n",
    "train_acc = accuracy_score(y_train, train_pred)\n",
    "train_recall = recall_score(y_train, train_pred)\n",
    "train_precision = precision_score(y_train, train_pred)\n",
    "\n",
    "test_acc = accuracy_score(y_test, test_pred)\n",
    "test_recall = recall_score(y_test, test_pred)\n",
    "test_precision = precision_score(y_test, test_pred)\n",
    "\n",
    "print(\"*********************************************\")\n",
    "print(\"Train Accuracy: {}\".format(train_acc))\n",
    "print(\"Train Recall: {}\".format(train_recall))\n",
    "print(\"Train Precision: {}\".format(train_precision))\n",
    "print(\"*********************************************\")\n",
    "\n",
    "print(\"*********************************************\")\n",
    "print(\"Test Accuracy: {}\".format(test_acc))\n",
    "print(\"Test Recall: {}\".format(test_recall))\n",
    "print(\"Test Precision: {}\".format(test_precision))\n",
    "print(\"*********************************************\")"
   ]
  },
  {
   "cell_type": "markdown",
   "metadata": {},
   "source": [
    "### default  \n",
    "*********************************************  \n",
    "Train Accuracy: 0.9640137156847062  \n",
    "Train Recall: 0.9523052464228935  \n",
    "Train Precision: 0.104300888037611  \n",
    "*********************************************  \n",
    "*********************************************  \n",
    "Test Accuracy: 0.9522534427597719  \n",
    "Test Recall: 0.9787234042553191  \n",
    "Test Precision: 0.09151193633952255  \n",
    "*********************************************  \n",
    "\n",
    "### normalize\n",
    "*********************************************  \n",
    "Train Accuracy: 0.8706121285045592  \n",
    "Train Recall: 0.8505564387917329  \n",
    "Train Precision: 0.02809283763915144  \n",
    "*********************************************  \n",
    "*********************************************  \n",
    "Test Accuracy: 0.9157393239671721  \n",
    "Test Recall: 0.9361702127659575  \n",
    "Test Precision: 0.051846032992930086  \n",
    "*********************************************  "
   ]
  },
  {
   "cell_type": "code",
   "execution_count": 41,
   "metadata": {
    "collapsed": false
   },
   "outputs": [],
   "source": [
    "test_pred = clf.predict_proba(X_test)[:, 1]"
   ]
  },
  {
   "cell_type": "code",
   "execution_count": 42,
   "metadata": {
    "collapsed": false
   },
   "outputs": [
    {
     "data": {
      "text/plain": [
       "array([0.37072825, 0.03770133, 0.03013391, ..., 0.00453175, 0.00583089,\n",
       "       0.00276926])"
      ]
     },
     "execution_count": 42,
     "metadata": {},
     "output_type": "execute_result"
    }
   ],
   "source": [
    "test_pred"
   ]
  },
  {
   "cell_type": "code",
   "execution_count": 43,
   "metadata": {
    "collapsed": false
   },
   "outputs": [
    {
     "data": {
      "text/plain": [
       "array([0. , 0.1, 0.2, 0.3, 0.4, 0.5, 0.6, 0.7, 0.8, 0.9])"
      ]
     },
     "execution_count": 43,
     "metadata": {},
     "output_type": "execute_result"
    }
   ],
   "source": [
    "test_pred = np.array(test_pred*10, dtype=int)\n",
    "test_pred = np.array(test_pred/10, dtype=float)\n",
    "np.unique(test_pred)"
   ]
  },
  {
   "cell_type": "code",
   "execution_count": null,
   "metadata": {
    "collapsed": false
   },
   "outputs": [],
   "source": []
  },
  {
   "cell_type": "code",
   "execution_count": 44,
   "metadata": {
    "collapsed": false
   },
   "outputs": [],
   "source": [
    "true_dct = defaultdict(int)\n",
    "false_dct = defaultdict(int)\n",
    "label_cnt = defaultdict(int)\n",
    "\n",
    "for i in range(len(test_pred)):\n",
    "    label_cnt[test_pred[i]] += 1\n",
    "    if y_test[i] > 0:\n",
    "        true_dct[test_pred[i]] += 1\n",
    "    else:\n",
    "        false_dct[test_pred[i]] += 1\n",
    "        \n",
    "for key in false_dct.keys():\n",
    "    true_dct[key] /= label_cnt[key]\n",
    "    false_dct[key] /= label_cnt[key]"
   ]
  },
  {
   "cell_type": "code",
   "execution_count": 45,
   "metadata": {
    "collapsed": false,
    "scrolled": true
   },
   "outputs": [
    {
     "data": {
      "text/plain": [
       "defaultdict(int,\n",
       "            {0.0: 0.0,\n",
       "             0.1: 0.0,\n",
       "             0.2: 0.0,\n",
       "             0.3: 0.0,\n",
       "             0.4: 0.0,\n",
       "             0.5: 0.029411764705882353,\n",
       "             0.6: 0.043478260869565216,\n",
       "             0.7: 0.0,\n",
       "             0.8: 0.0,\n",
       "             0.9: 0.6382978723404256})"
      ]
     },
     "execution_count": 45,
     "metadata": {},
     "output_type": "execute_result"
    }
   ],
   "source": [
    "true_dct"
   ]
  },
  {
   "cell_type": "code",
   "execution_count": 46,
   "metadata": {
    "collapsed": false
   },
   "outputs": [
    {
     "data": {
      "text/plain": [
       "defaultdict(int,\n",
       "            {0.0: 1.0,\n",
       "             0.1: 1.0,\n",
       "             0.2: 1.0,\n",
       "             0.3: 1.0,\n",
       "             0.4: 1.0,\n",
       "             0.5: 0.9705882352941176,\n",
       "             0.6: 0.9565217391304348,\n",
       "             0.7: 1.0,\n",
       "             0.8: 1.0,\n",
       "             0.9: 0.3617021276595745})"
      ]
     },
     "execution_count": 46,
     "metadata": {},
     "output_type": "execute_result"
    }
   ],
   "source": [
    "false_dct"
   ]
  },
  {
   "cell_type": "code",
   "execution_count": 47,
   "metadata": {
    "collapsed": false
   },
   "outputs": [
    {
     "data": {
      "text/plain": [
       "<Container object of 10 artists>"
      ]
     },
     "execution_count": 47,
     "metadata": {},
     "output_type": "execute_result"
    },
    {
     "data": {
      "image/png": "[encoded data removed]",
      "text/plain": [
       "<matplotlib.figure.Figure at 0x11a8958d0>"
      ]
     },
     "metadata": {},
     "output_type": "display_data"
    }
   ],
   "source": [
    "value_lst = []\n",
    "name_lst = []\n",
    "\n",
    "for k, v in sorted(true_dct.items()):\n",
    "    value_lst.append(v)\n",
    "    name_lst.append(k)\n",
    "    \n",
    "\n",
    "plt.title(\"accelaration rate \")\n",
    "plt.xlabel(\"anormaly level\")\n",
    "plt.ylabel(\"rate\")\n",
    "plt.bar(range(len(true_dct)), value_lst, tick_label=name_lst)"
   ]
  },
  {
   "cell_type": "code",
   "execution_count": 48,
   "metadata": {
    "collapsed": false
   },
   "outputs": [
    {
     "data": {
      "text/plain": [
       "<Container object of 10 artists>"
      ]
     },
     "execution_count": 48,
     "metadata": {},
     "output_type": "execute_result"
    },
    {
     "data": {
      "image/png": "[encoded data removed]",
      "text/plain": [
       "<matplotlib.figure.Figure at 0x11a467518>"
      ]
     },
     "metadata": {},
     "output_type": "display_data"
    }
   ],
   "source": [
    "value_lst = []\n",
    "name_lst = []\n",
    "\n",
    "for k, v in sorted(false_dct.items()):\n",
    "    value_lst.append(v)\n",
    "    name_lst.append(k)\n",
    "\n",
    "plt.title(\"normal rate \")\n",
    "plt.xlabel(\"anormaly level\")\n",
    "plt.ylabel(\"rate\")\n",
    "plt.bar(range(len(false_dct)), value_lst, tick_label=name_lst)"
   ]
  },
  {
   "cell_type": "code",
   "execution_count": 49,
   "metadata": {
    "collapsed": false
   },
   "outputs": [
    {
     "name": "stdout",
     "output_type": "stream",
     "text": [
      "hour_14 : -3.09646372675215\n",
      "hour_9 : 2.3121546812667453\n",
      "Fri : -1.3090251810929372\n",
      "hour_13 : -1.092666396765371\n",
      "max_index_grid_0_4 : -1.0747382472184135\n",
      "overall_dir_right : 0.980113186228253\n",
      "overall_dir_right_down : -0.9429972348422547\n",
      "Thurs : 0.7325938948797159\n",
      "feed : -0.7281367353212991\n",
      "Mon : 0.64958257708688\n",
      "hour_10 : 0.6237723037243703\n",
      "overall_dir_left : -0.5468572736094032\n",
      "Sat : -0.5127345649568801\n",
      "Tue : -0.4710888505745394\n",
      "right_down : -0.4334291530679995\n",
      "hour_16 : 0.43095498153313305\n",
      "max_index_grid_0_1 : 0.3840158443939193\n",
      "right_up : 0.3818101564051315\n",
      "area_ratio : -0.3631194023428734\n",
      "grid_0_4 : -0.33239396542706606\n",
      "overall_dir_left_up : -0.331191744089736\n",
      "max_index_grid_0_3 : -0.32759370466836996\n",
      "left_up : -0.32508366259553423\n",
      "hour_12 : -0.2966059559609923\n",
      "left_down : -0.26916679239035796\n",
      "left : -0.2644512009003853\n",
      "hour_15 : 0.26044901456351804\n",
      "grid_0_3 : -0.2195613944492501\n",
      "max_index_grid_0_5 : 0.15543688800147348\n",
      "diver : -0.15418060239376652\n",
      "grid_0_5 : -0.14398395591002017\n",
      "grid_0_6 : -0.10695779952090652\n",
      "max_index_grid_0_2 : -0.10571513364581406\n",
      "mean_shift1 : 0.09782046262498965\n",
      "grid_0_1 : -0.0856727979992758\n",
      "mean : -0.08457068087865259\n",
      "max : 0.0702084169416204\n",
      "right : 0.06586776326203754\n",
      "down : -0.06255397351307164\n",
      "degree_std : -0.06096114128539418\n",
      "max_index_grid_0_6 : 0.05796946307624211\n",
      "overall_dir_right_up : -0.057740760625469026\n",
      "hour_11 : -0.05226702626712815\n",
      "grid_0_7 : -0.03836410167196894\n",
      "degree_std_shift1 : 0.034229218827531466\n",
      "grid_0_0 : 0.03155666048529712\n",
      "var : 0.023398891338852326\n",
      "var_shift1 : -0.017552481445683662\n",
      "grid_0_2 : -0.015294770164647604\n",
      "degree_mean : -0.012636567188490417\n",
      "overall_dir_left_down : -0.011998019121454066\n",
      "degree_mean_shift1 : -0.005927006811970179\n",
      "up : -0.003665261857663163\n",
      "max_shift1 : 0.002890302511954805\n",
      "max_index_grid_0_7 : -4.645638705942019e-05\n",
      "max_index_grid_0_0 : -7.782098037324165e-07\n",
      "overall_dir_down : -2.7859777799192905e-07\n",
      "Sun : 0.0\n",
      "Wed : 0.0\n"
     ]
    }
   ],
   "source": [
    "coef_dict = {}\n",
    "for value, col in zip(clf.coef_[0,:], dataset_df.columns):\n",
    "    coef_dict[col] = value\n",
    "    \n",
    "for key, value in sorted(coef_dict.items(), key=lambda x: -abs(x[1])):\n",
    "    print(\"{} : {}\".format(key, value))"
   ]
  },
  {
   "cell_type": "code",
   "execution_count": null,
   "metadata": {
    "collapsed": false
   },
   "outputs": [],
   "source": []
  },
  {
   "cell_type": "markdown",
   "metadata": {},
   "source": [
    "# test"
   ]
  },
  {
   "cell_type": "code",
   "execution_count": 299,
   "metadata": {
    "collapsed": true
   },
   "outputs": [],
   "source": [
    "def conv_level(pred_arr):\n",
    "    conv_arr = np.array(pred_arr*10, dtype=int)\n",
    "    conv_arr = np.array(conv_arr/10, dtype=float)\n",
    "    return conv_arr"
   ]
  },
  {
   "cell_type": "code",
   "execution_count": 328,
   "metadata": {
    "collapsed": false
   },
   "outputs": [
    {
     "data": {
      "text/html": [
       "<div>\n",
       "<style scoped>\n",
       "    .dataframe tbody tr th:only-of-type {\n",
       "        vertical-align: middle;\n",
       "    }\n",
       "\n",
       "    .dataframe tbody tr th {\n",
       "        vertical-align: top;\n",
       "    }\n",
       "\n",
       "    .dataframe thead th {\n",
       "        text-align: right;\n",
       "    }\n",
       "</style>\n",
       "<table border=\"1\" class=\"dataframe\">\n",
       "  <thead>\n",
       "    <tr style=\"text-align: right;\">\n",
       "      <th></th>\n",
       "      <th>Fri</th>\n",
       "      <th>Mon</th>\n",
       "      <th>Sat</th>\n",
       "      <th>Sun</th>\n",
       "      <th>Thurs</th>\n",
       "      <th>Tue</th>\n",
       "      <th>Wed</th>\n",
       "      <th>area_ratio</th>\n",
       "      <th>degree_mean</th>\n",
       "      <th>degree_std</th>\n",
       "      <th>...</th>\n",
       "      <th>overall_dir_left_down</th>\n",
       "      <th>overall_dir_left_up</th>\n",
       "      <th>overall_dir_right</th>\n",
       "      <th>overall_dir_right_down</th>\n",
       "      <th>overall_dir_right_up</th>\n",
       "      <th>right</th>\n",
       "      <th>right_down</th>\n",
       "      <th>right_up</th>\n",
       "      <th>up</th>\n",
       "      <th>var</th>\n",
       "    </tr>\n",
       "  </thead>\n",
       "  <tbody>\n",
       "    <tr>\n",
       "      <th>0</th>\n",
       "      <td>0</td>\n",
       "      <td>0</td>\n",
       "      <td>1</td>\n",
       "      <td>0</td>\n",
       "      <td>0</td>\n",
       "      <td>0</td>\n",
       "      <td>0</td>\n",
       "      <td>0.000030</td>\n",
       "      <td>149.783784</td>\n",
       "      <td>119.499663</td>\n",
       "      <td>...</td>\n",
       "      <td>0</td>\n",
       "      <td>0</td>\n",
       "      <td>1</td>\n",
       "      <td>0</td>\n",
       "      <td>0</td>\n",
       "      <td>0.297297</td>\n",
       "      <td>0.054054</td>\n",
       "      <td>0.189189</td>\n",
       "      <td>0.027027</td>\n",
       "      <td>0.0000</td>\n",
       "    </tr>\n",
       "    <tr>\n",
       "      <th>1</th>\n",
       "      <td>0</td>\n",
       "      <td>0</td>\n",
       "      <td>1</td>\n",
       "      <td>0</td>\n",
       "      <td>0</td>\n",
       "      <td>0</td>\n",
       "      <td>0</td>\n",
       "      <td>0.000045</td>\n",
       "      <td>121.428571</td>\n",
       "      <td>116.511422</td>\n",
       "      <td>...</td>\n",
       "      <td>0</td>\n",
       "      <td>0</td>\n",
       "      <td>1</td>\n",
       "      <td>0</td>\n",
       "      <td>0</td>\n",
       "      <td>0.357143</td>\n",
       "      <td>0.119048</td>\n",
       "      <td>0.095238</td>\n",
       "      <td>0.000000</td>\n",
       "      <td>19.7564</td>\n",
       "    </tr>\n",
       "    <tr>\n",
       "      <th>2</th>\n",
       "      <td>0</td>\n",
       "      <td>0</td>\n",
       "      <td>1</td>\n",
       "      <td>0</td>\n",
       "      <td>0</td>\n",
       "      <td>0</td>\n",
       "      <td>0</td>\n",
       "      <td>0.000000</td>\n",
       "      <td>106.333333</td>\n",
       "      <td>124.348301</td>\n",
       "      <td>...</td>\n",
       "      <td>0</td>\n",
       "      <td>0</td>\n",
       "      <td>1</td>\n",
       "      <td>0</td>\n",
       "      <td>0</td>\n",
       "      <td>0.472222</td>\n",
       "      <td>0.083333</td>\n",
       "      <td>0.111111</td>\n",
       "      <td>0.027778</td>\n",
       "      <td>23.1904</td>\n",
       "    </tr>\n",
       "    <tr>\n",
       "      <th>3</th>\n",
       "      <td>0</td>\n",
       "      <td>0</td>\n",
       "      <td>1</td>\n",
       "      <td>0</td>\n",
       "      <td>0</td>\n",
       "      <td>0</td>\n",
       "      <td>0</td>\n",
       "      <td>0.000045</td>\n",
       "      <td>111.000000</td>\n",
       "      <td>140.305549</td>\n",
       "      <td>...</td>\n",
       "      <td>0</td>\n",
       "      <td>0</td>\n",
       "      <td>1</td>\n",
       "      <td>0</td>\n",
       "      <td>0</td>\n",
       "      <td>0.500000</td>\n",
       "      <td>0.088235</td>\n",
       "      <td>0.205882</td>\n",
       "      <td>0.000000</td>\n",
       "      <td>20.9167</td>\n",
       "    </tr>\n",
       "    <tr>\n",
       "      <th>4</th>\n",
       "      <td>0</td>\n",
       "      <td>0</td>\n",
       "      <td>1</td>\n",
       "      <td>0</td>\n",
       "      <td>0</td>\n",
       "      <td>0</td>\n",
       "      <td>0</td>\n",
       "      <td>0.000000</td>\n",
       "      <td>86.454545</td>\n",
       "      <td>129.904415</td>\n",
       "      <td>...</td>\n",
       "      <td>0</td>\n",
       "      <td>0</td>\n",
       "      <td>1</td>\n",
       "      <td>0</td>\n",
       "      <td>0</td>\n",
       "      <td>0.666667</td>\n",
       "      <td>0.060606</td>\n",
       "      <td>0.090909</td>\n",
       "      <td>0.000000</td>\n",
       "      <td>21.9560</td>\n",
       "    </tr>\n",
       "  </tbody>\n",
       "</table>\n",
       "<p>5 rows × 48 columns</p>\n",
       "</div>"
      ],
      "text/plain": [
       "   Fri  Mon  Sat  Sun  Thurs  Tue  Wed  area_ratio  degree_mean  degree_std  \\\n",
       "0    0    0    1    0      0    0    0    0.000030   149.783784  119.499663   \n",
       "1    0    0    1    0      0    0    0    0.000045   121.428571  116.511422   \n",
       "2    0    0    1    0      0    0    0    0.000000   106.333333  124.348301   \n",
       "3    0    0    1    0      0    0    0    0.000045   111.000000  140.305549   \n",
       "4    0    0    1    0      0    0    0    0.000000    86.454545  129.904415   \n",
       "\n",
       "    ...     overall_dir_left_down  overall_dir_left_up  overall_dir_right  \\\n",
       "0   ...                         0                    0                  1   \n",
       "1   ...                         0                    0                  1   \n",
       "2   ...                         0                    0                  1   \n",
       "3   ...                         0                    0                  1   \n",
       "4   ...                         0                    0                  1   \n",
       "\n",
       "   overall_dir_right_down  overall_dir_right_up     right  right_down  \\\n",
       "0                       0                     0  0.297297    0.054054   \n",
       "1                       0                     0  0.357143    0.119048   \n",
       "2                       0                     0  0.472222    0.083333   \n",
       "3                       0                     0  0.500000    0.088235   \n",
       "4                       0                     0  0.666667    0.060606   \n",
       "\n",
       "   right_up        up      var  \n",
       "0  0.189189  0.027027   0.0000  \n",
       "1  0.095238  0.000000  19.7564  \n",
       "2  0.111111  0.027778  23.1904  \n",
       "3  0.205882  0.000000  20.9167  \n",
       "4  0.090909  0.000000  21.9560  \n",
       "\n",
       "[5 rows x 48 columns]"
      ]
     },
     "execution_count": 328,
     "metadata": {},
     "output_type": "execute_result"
    }
   ],
   "source": [
    "test_df = pd.DataFrame(columns=dataset_df.columns)\n",
    "\n",
    "for t_idx in range(9, 17):\n",
    "    tmp_test_df = pd.read_csv(\"../../data/datasets_10/20170422/time_series_{0}.csv\".format(t_idx))\n",
    "\n",
    "    # check NaN count\n",
    "    assert tmp_test_df.isnull().values.sum() == 0\n",
    "\n",
    "    test_df = pd.concat([test_df, tmp_test_df])\n",
    "\n",
    "\n",
    "test_df = test_df.fillna(0)\n",
    "\n",
    "# check NaN count\n",
    "assert test_df.isnull().values.sum() == 0\n",
    "\n",
    "# drop label\n",
    "#test_df = test_df.drop(\"label\", axis=1)\n",
    "\n",
    "test_df.head()"
   ]
  },
  {
   "cell_type": "code",
   "execution_count": 329,
   "metadata": {
    "collapsed": false
   },
   "outputs": [
    {
     "data": {
      "text/plain": [
       "(28756, 47)"
      ]
     },
     "execution_count": 329,
     "metadata": {},
     "output_type": "execute_result"
    }
   ],
   "source": [
    "test_data = test_df.drop(\"label\", axis=1).values\n",
    "test_data.shape"
   ]
  },
  {
   "cell_type": "code",
   "execution_count": 330,
   "metadata": {
    "collapsed": false
   },
   "outputs": [],
   "source": [
    "conv_arr = conv_level(clf.predict_proba(test_data)[:, 1])\n",
    "test_df[\"pred\"] = conv_arr"
   ]
  },
  {
   "cell_type": "code",
   "execution_count": null,
   "metadata": {
    "collapsed": false
   },
   "outputs": [],
   "source": []
  },
  {
   "cell_type": "code",
   "execution_count": 331,
   "metadata": {
    "collapsed": false
   },
   "outputs": [
    {
     "data": {
      "text/plain": [
       "[<matplotlib.lines.Line2D at 0x17c20e518>]"
      ]
     },
     "execution_count": 331,
     "metadata": {},
     "output_type": "execute_result"
    },
    {
     "data": {
      "image/png": "[encoded data removed]",
      "text/plain": [
       "<matplotlib.figure.Figure at 0x1612dd080>"
      ]
     },
     "metadata": {},
     "output_type": "display_data"
    }
   ],
   "source": [
    "plt.figure(figsize=(16, 4))\n",
    "plt.plot(np.array(test_df[\"max\"]))\n",
    "plt.plot(test_pred*400)"
   ]
  },
  {
   "cell_type": "code",
   "execution_count": 332,
   "metadata": {
    "collapsed": false
   },
   "outputs": [
    {
     "name": "stdout",
     "output_type": "stream",
     "text": [
      "Accuracy: 0.4354221727639449\n",
      "Recall: 0.8307086614173228\n",
      "Precision: 0.049920151416573015\n"
     ]
    }
   ],
   "source": [
    "test_pred = clf.predict_proba(test_data)[:, 1]\n",
    "test_pred[test_pred <= 0.5] = 0\n",
    "test_pred[test_pred > 0.5] = 1\n",
    "\n",
    "print(\"Accuracy: {}\".format(accuracy_score(test_df[\"label\"].values, test_pred)))\n",
    "print(\"Recall: {}\".format(recall_score(test_df[\"label\"].values, test_pred)))\n",
    "print(\"Precision: {}\".format(precision_score(test_df[\"label\"].values, test_pred)))"
   ]
  },
  {
   "cell_type": "code",
   "execution_count": null,
   "metadata": {
    "collapsed": false
   },
   "outputs": [],
   "source": []
  },
  {
   "cell_type": "code",
   "execution_count": null,
   "metadata": {
    "collapsed": true
   },
   "outputs": [],
   "source": []
  }
 ],
 "metadata": {
  "anaconda-cloud": {},
  "kernelspec": {
   "display_name": "Python [conda env:anaconda3-4.2.0]",
   "language": "python",
   "name": "conda-env-anaconda3-4.2.0-py"
  },
  "language_info": {
   "codemirror_mode": {
    "name": "ipython",
    "version": 3
   },
   "file_extension": ".py",
   "mimetype": "text/x-python",
   "name": "python",
   "nbconvert_exporter": "python",
   "pygments_lexer": "ipython3",
   "version": "3.5.2"
  }
 },
 "nbformat": 4,
 "nbformat_minor": 1
}
