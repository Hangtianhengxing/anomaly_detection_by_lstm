{
 "cells": [
  {
   "cell_type": "code",
   "execution_count": 155,
   "metadata": {
    "collapsed": false,
    "scrolled": true
   },
   "outputs": [
    {
     "data": {
      "text/html": [
       "<div>\n",
       "<style scoped>\n",
       "    .dataframe tbody tr th:only-of-type {\n",
       "        vertical-align: middle;\n",
       "    }\n",
       "\n",
       "    .dataframe tbody tr th {\n",
       "        vertical-align: top;\n",
       "    }\n",
       "\n",
       "    .dataframe thead th {\n",
       "        text-align: right;\n",
       "    }\n",
       "</style>\n",
       "<table border=\"1\" class=\"dataframe\">\n",
       "  <thead>\n",
       "    <tr style=\"text-align: right;\">\n",
       "      <th></th>\n",
       "      <th>Fri</th>\n",
       "      <th>Mon</th>\n",
       "      <th>Sat</th>\n",
       "      <th>Sun</th>\n",
       "      <th>Thurs</th>\n",
       "      <th>Tue</th>\n",
       "      <th>Wed</th>\n",
       "      <th>degree_mean</th>\n",
       "      <th>degree_mean_shift1</th>\n",
       "      <th>degree_std</th>\n",
       "      <th>...</th>\n",
       "      <th>overall_dir_right_down</th>\n",
       "      <th>overall_dir_right_up</th>\n",
       "      <th>right</th>\n",
       "      <th>right_down</th>\n",
       "      <th>right_up</th>\n",
       "      <th>up</th>\n",
       "      <th>var</th>\n",
       "      <th>var_shift1</th>\n",
       "      <th>vertical</th>\n",
       "      <th>prev_acc_cnt</th>\n",
       "    </tr>\n",
       "  </thead>\n",
       "  <tbody>\n",
       "    <tr>\n",
       "      <th>0</th>\n",
       "      <td>0</td>\n",
       "      <td>0</td>\n",
       "      <td>0</td>\n",
       "      <td>1</td>\n",
       "      <td>0</td>\n",
       "      <td>0</td>\n",
       "      <td>0</td>\n",
       "      <td>125.666667</td>\n",
       "      <td>-27.054264</td>\n",
       "      <td>115.604553</td>\n",
       "      <td>...</td>\n",
       "      <td>0</td>\n",
       "      <td>0</td>\n",
       "      <td>0.333333</td>\n",
       "      <td>0.071429</td>\n",
       "      <td>0.119048</td>\n",
       "      <td>0.000000</td>\n",
       "      <td>22.5958</td>\n",
       "      <td>21.1866</td>\n",
       "      <td>0.000000</td>\n",
       "      <td>0</td>\n",
       "    </tr>\n",
       "    <tr>\n",
       "      <th>1</th>\n",
       "      <td>0</td>\n",
       "      <td>0</td>\n",
       "      <td>0</td>\n",
       "      <td>1</td>\n",
       "      <td>0</td>\n",
       "      <td>0</td>\n",
       "      <td>0</td>\n",
       "      <td>130.590909</td>\n",
       "      <td>4.924242</td>\n",
       "      <td>118.552504</td>\n",
       "      <td>...</td>\n",
       "      <td>0</td>\n",
       "      <td>0</td>\n",
       "      <td>0.295455</td>\n",
       "      <td>0.136364</td>\n",
       "      <td>0.113636</td>\n",
       "      <td>0.000000</td>\n",
       "      <td>26.3131</td>\n",
       "      <td>3.7173</td>\n",
       "      <td>0.022727</td>\n",
       "      <td>0</td>\n",
       "    </tr>\n",
       "    <tr>\n",
       "      <th>2</th>\n",
       "      <td>0</td>\n",
       "      <td>0</td>\n",
       "      <td>0</td>\n",
       "      <td>1</td>\n",
       "      <td>0</td>\n",
       "      <td>0</td>\n",
       "      <td>0</td>\n",
       "      <td>146.083333</td>\n",
       "      <td>15.492424</td>\n",
       "      <td>137.548855</td>\n",
       "      <td>...</td>\n",
       "      <td>0</td>\n",
       "      <td>0</td>\n",
       "      <td>0.361111</td>\n",
       "      <td>0.111111</td>\n",
       "      <td>0.222222</td>\n",
       "      <td>0.027778</td>\n",
       "      <td>27.2595</td>\n",
       "      <td>0.9464</td>\n",
       "      <td>0.027778</td>\n",
       "      <td>0</td>\n",
       "    </tr>\n",
       "    <tr>\n",
       "      <th>3</th>\n",
       "      <td>0</td>\n",
       "      <td>0</td>\n",
       "      <td>0</td>\n",
       "      <td>1</td>\n",
       "      <td>0</td>\n",
       "      <td>0</td>\n",
       "      <td>0</td>\n",
       "      <td>154.648649</td>\n",
       "      <td>8.565315</td>\n",
       "      <td>125.963362</td>\n",
       "      <td>...</td>\n",
       "      <td>0</td>\n",
       "      <td>0</td>\n",
       "      <td>0.324324</td>\n",
       "      <td>0.054054</td>\n",
       "      <td>0.189189</td>\n",
       "      <td>0.000000</td>\n",
       "      <td>26.6687</td>\n",
       "      <td>-0.5908</td>\n",
       "      <td>0.000000</td>\n",
       "      <td>0</td>\n",
       "    </tr>\n",
       "    <tr>\n",
       "      <th>4</th>\n",
       "      <td>0</td>\n",
       "      <td>0</td>\n",
       "      <td>0</td>\n",
       "      <td>1</td>\n",
       "      <td>0</td>\n",
       "      <td>0</td>\n",
       "      <td>0</td>\n",
       "      <td>118.275862</td>\n",
       "      <td>-36.372787</td>\n",
       "      <td>104.465436</td>\n",
       "      <td>...</td>\n",
       "      <td>0</td>\n",
       "      <td>0</td>\n",
       "      <td>0.241379</td>\n",
       "      <td>0.206897</td>\n",
       "      <td>0.068966</td>\n",
       "      <td>0.000000</td>\n",
       "      <td>33.2341</td>\n",
       "      <td>6.5654</td>\n",
       "      <td>0.000000</td>\n",
       "      <td>0</td>\n",
       "    </tr>\n",
       "  </tbody>\n",
       "</table>\n",
       "<p>5 rows × 64 columns</p>\n",
       "</div>"
      ],
      "text/plain": [
       "   Fri  Mon  Sat  Sun  Thurs  Tue  Wed  degree_mean  degree_mean_shift1  \\\n",
       "0    0    0    0    1      0    0    0   125.666667          -27.054264   \n",
       "1    0    0    0    1      0    0    0   130.590909            4.924242   \n",
       "2    0    0    0    1      0    0    0   146.083333           15.492424   \n",
       "3    0    0    0    1      0    0    0   154.648649            8.565315   \n",
       "4    0    0    0    1      0    0    0   118.275862          -36.372787   \n",
       "\n",
       "   degree_std      ...       overall_dir_right_down  overall_dir_right_up  \\\n",
       "0  115.604553      ...                            0                     0   \n",
       "1  118.552504      ...                            0                     0   \n",
       "2  137.548855      ...                            0                     0   \n",
       "3  125.963362      ...                            0                     0   \n",
       "4  104.465436      ...                            0                     0   \n",
       "\n",
       "      right  right_down  right_up        up      var  var_shift1  vertical  \\\n",
       "0  0.333333    0.071429  0.119048  0.000000  22.5958     21.1866  0.000000   \n",
       "1  0.295455    0.136364  0.113636  0.000000  26.3131      3.7173  0.022727   \n",
       "2  0.361111    0.111111  0.222222  0.027778  27.2595      0.9464  0.027778   \n",
       "3  0.324324    0.054054  0.189189  0.000000  26.6687     -0.5908  0.000000   \n",
       "4  0.241379    0.206897  0.068966  0.000000  33.2341      6.5654  0.000000   \n",
       "\n",
       "   prev_acc_cnt  \n",
       "0             0  \n",
       "1             0  \n",
       "2             0  \n",
       "3             0  \n",
       "4             0  \n",
       "\n",
       "[5 rows x 64 columns]"
      ]
     },
     "execution_count": 155,
     "metadata": {},
     "output_type": "execute_result"
    }
   ],
   "source": [
    "train_df = pd.read_csv(\"../../data/datasets/default/20170416.csv\")\n",
    "train_df.head()"
   ]
  },
  {
   "cell_type": "code",
   "execution_count": 156,
   "metadata": {
    "collapsed": false
   },
   "outputs": [
    {
     "data": {
      "text/plain": [
       "[<matplotlib.lines.Line2D at 0x1167f8160>]"
      ]
     },
     "execution_count": 156,
     "metadata": {},
     "output_type": "execute_result"
    },
    {
     "data": {
      "image/png": "[encoded data removed]",
      "text/plain": [
       "<matplotlib.figure.Figure at 0x114023898>"
      ]
     },
     "metadata": {},
     "output_type": "display_data"
    }
   ],
   "source": [
    "plt.figure(figsize=(12, 4))\n",
    "plt.plot(list(train_df[\"prev_acc_cnt\"]))"
   ]
  },
  {
   "cell_type": "code",
   "execution_count": 49,
   "metadata": {
    "collapsed": false
   },
   "outputs": [
    {
     "data": {
      "text/plain": [
       "array([1, 2, 3, 4, 5])"
      ]
     },
     "execution_count": 49,
     "metadata": {},
     "output_type": "execute_result"
    }
   ],
   "source": [
    "np.unique(train_df[\"label\"])"
   ]
  },
  {
   "cell_type": "code",
   "execution_count": null,
   "metadata": {
    "collapsed": false
   },
   "outputs": [],
   "source": []
  },
  {
   "cell_type": "code",
   "execution_count": 50,
   "metadata": {
    "collapsed": false
   },
   "outputs": [],
   "source": [
    "def prev_acc(df, width=60*5):\n",
    "    acc_df = pd.Series([0 for _ in range(len(df))])\n",
    "    for i in range(width, len(df)):\n",
    "        acc_df[i] = np.sum(df.iloc[i-width:i-1][\"label\"] == 5)\n",
    "    return acc_df"
   ]
  },
  {
   "cell_type": "code",
   "execution_count": 51,
   "metadata": {
    "collapsed": false
   },
   "outputs": [],
   "source": [
    "acc_df = prev_acc(train_df)\n",
    "train_df[\"prev_acc_cnt\"] = acc_df"
   ]
  },
  {
   "cell_type": "code",
   "execution_count": 52,
   "metadata": {
    "collapsed": false
   },
   "outputs": [
    {
     "data": {
      "text/html": [
       "<div>\n",
       "<style scoped>\n",
       "    .dataframe tbody tr th:only-of-type {\n",
       "        vertical-align: middle;\n",
       "    }\n",
       "\n",
       "    .dataframe tbody tr th {\n",
       "        vertical-align: top;\n",
       "    }\n",
       "\n",
       "    .dataframe thead th {\n",
       "        text-align: right;\n",
       "    }\n",
       "</style>\n",
       "<table border=\"1\" class=\"dataframe\">\n",
       "  <thead>\n",
       "    <tr style=\"text-align: right;\">\n",
       "      <th></th>\n",
       "      <th>mean</th>\n",
       "      <th>var</th>\n",
       "      <th>max</th>\n",
       "      <th>degree_mean</th>\n",
       "      <th>degree_std</th>\n",
       "      <th>down</th>\n",
       "      <th>horizontal</th>\n",
       "      <th>left</th>\n",
       "      <th>left_down</th>\n",
       "      <th>left_up</th>\n",
       "      <th>...</th>\n",
       "      <th>Wed</th>\n",
       "      <th>Thurs</th>\n",
       "      <th>Fri</th>\n",
       "      <th>Sat</th>\n",
       "      <th>mean_shift1</th>\n",
       "      <th>var_shift1</th>\n",
       "      <th>max_shift1</th>\n",
       "      <th>degree_mean_shift1</th>\n",
       "      <th>degree_std_shift1</th>\n",
       "      <th>prev_acc_cnt</th>\n",
       "    </tr>\n",
       "  </thead>\n",
       "  <tbody>\n",
       "    <tr>\n",
       "      <th>0</th>\n",
       "      <td>29.6173</td>\n",
       "      <td>22.5958</td>\n",
       "      <td>69.2766</td>\n",
       "      <td>125.666667</td>\n",
       "      <td>115.604553</td>\n",
       "      <td>0.000000</td>\n",
       "      <td>0.642857</td>\n",
       "      <td>0.309524</td>\n",
       "      <td>0.119048</td>\n",
       "      <td>0.047619</td>\n",
       "      <td>...</td>\n",
       "      <td>0</td>\n",
       "      <td>0</td>\n",
       "      <td>0</td>\n",
       "      <td>0</td>\n",
       "      <td>27.82087</td>\n",
       "      <td>21.1866</td>\n",
       "      <td>65.15349</td>\n",
       "      <td>-27.054264</td>\n",
       "      <td>0.603173</td>\n",
       "      <td>0</td>\n",
       "    </tr>\n",
       "    <tr>\n",
       "      <th>1</th>\n",
       "      <td>27.0710</td>\n",
       "      <td>26.3131</td>\n",
       "      <td>70.2337</td>\n",
       "      <td>130.590909</td>\n",
       "      <td>118.552504</td>\n",
       "      <td>0.022727</td>\n",
       "      <td>0.500000</td>\n",
       "      <td>0.204545</td>\n",
       "      <td>0.090909</td>\n",
       "      <td>0.136364</td>\n",
       "      <td>...</td>\n",
       "      <td>0</td>\n",
       "      <td>0</td>\n",
       "      <td>0</td>\n",
       "      <td>0</td>\n",
       "      <td>-2.54630</td>\n",
       "      <td>3.7173</td>\n",
       "      <td>0.95710</td>\n",
       "      <td>4.924242</td>\n",
       "      <td>2.947951</td>\n",
       "      <td>0</td>\n",
       "    </tr>\n",
       "    <tr>\n",
       "      <th>2</th>\n",
       "      <td>32.6868</td>\n",
       "      <td>27.2595</td>\n",
       "      <td>72.9634</td>\n",
       "      <td>146.083333</td>\n",
       "      <td>137.548855</td>\n",
       "      <td>0.000000</td>\n",
       "      <td>0.472222</td>\n",
       "      <td>0.111111</td>\n",
       "      <td>0.000000</td>\n",
       "      <td>0.166667</td>\n",
       "      <td>...</td>\n",
       "      <td>0</td>\n",
       "      <td>0</td>\n",
       "      <td>0</td>\n",
       "      <td>0</td>\n",
       "      <td>5.61580</td>\n",
       "      <td>0.9464</td>\n",
       "      <td>2.72970</td>\n",
       "      <td>15.492424</td>\n",
       "      <td>18.996351</td>\n",
       "      <td>0</td>\n",
       "    </tr>\n",
       "    <tr>\n",
       "      <th>3</th>\n",
       "      <td>29.7387</td>\n",
       "      <td>26.6687</td>\n",
       "      <td>69.1588</td>\n",
       "      <td>154.648649</td>\n",
       "      <td>125.963362</td>\n",
       "      <td>0.000000</td>\n",
       "      <td>0.567568</td>\n",
       "      <td>0.243243</td>\n",
       "      <td>0.027027</td>\n",
       "      <td>0.162162</td>\n",
       "      <td>...</td>\n",
       "      <td>0</td>\n",
       "      <td>0</td>\n",
       "      <td>0</td>\n",
       "      <td>0</td>\n",
       "      <td>-2.94810</td>\n",
       "      <td>-0.5908</td>\n",
       "      <td>-3.80460</td>\n",
       "      <td>8.565315</td>\n",
       "      <td>-11.585493</td>\n",
       "      <td>0</td>\n",
       "    </tr>\n",
       "    <tr>\n",
       "      <th>4</th>\n",
       "      <td>26.2518</td>\n",
       "      <td>33.2341</td>\n",
       "      <td>73.5575</td>\n",
       "      <td>118.275862</td>\n",
       "      <td>104.465436</td>\n",
       "      <td>0.000000</td>\n",
       "      <td>0.413793</td>\n",
       "      <td>0.172414</td>\n",
       "      <td>0.068966</td>\n",
       "      <td>0.241379</td>\n",
       "      <td>...</td>\n",
       "      <td>0</td>\n",
       "      <td>0</td>\n",
       "      <td>0</td>\n",
       "      <td>0</td>\n",
       "      <td>-3.48690</td>\n",
       "      <td>6.5654</td>\n",
       "      <td>4.39870</td>\n",
       "      <td>-36.372787</td>\n",
       "      <td>-21.497925</td>\n",
       "      <td>0</td>\n",
       "    </tr>\n",
       "  </tbody>\n",
       "</table>\n",
       "<p>5 rows × 63 columns</p>\n",
       "</div>"
      ],
      "text/plain": [
       "      mean      var      max  degree_mean  degree_std      down  horizontal  \\\n",
       "0  29.6173  22.5958  69.2766   125.666667  115.604553  0.000000    0.642857   \n",
       "1  27.0710  26.3131  70.2337   130.590909  118.552504  0.022727    0.500000   \n",
       "2  32.6868  27.2595  72.9634   146.083333  137.548855  0.000000    0.472222   \n",
       "3  29.7387  26.6687  69.1588   154.648649  125.963362  0.000000    0.567568   \n",
       "4  26.2518  33.2341  73.5575   118.275862  104.465436  0.000000    0.413793   \n",
       "\n",
       "       left  left_down   left_up      ...       Wed  Thurs  Fri  Sat  \\\n",
       "0  0.309524   0.119048  0.047619      ...         0      0    0    0   \n",
       "1  0.204545   0.090909  0.136364      ...         0      0    0    0   \n",
       "2  0.111111   0.000000  0.166667      ...         0      0    0    0   \n",
       "3  0.243243   0.027027  0.162162      ...         0      0    0    0   \n",
       "4  0.172414   0.068966  0.241379      ...         0      0    0    0   \n",
       "\n",
       "   mean_shift1  var_shift1  max_shift1  degree_mean_shift1  degree_std_shift1  \\\n",
       "0     27.82087     21.1866    65.15349          -27.054264           0.603173   \n",
       "1     -2.54630      3.7173     0.95710            4.924242           2.947951   \n",
       "2      5.61580      0.9464     2.72970           15.492424          18.996351   \n",
       "3     -2.94810     -0.5908    -3.80460            8.565315         -11.585493   \n",
       "4     -3.48690      6.5654     4.39870          -36.372787         -21.497925   \n",
       "\n",
       "   prev_acc_cnt  \n",
       "0             0  \n",
       "1             0  \n",
       "2             0  \n",
       "3             0  \n",
       "4             0  \n",
       "\n",
       "[5 rows x 63 columns]"
      ]
     },
     "execution_count": 52,
     "metadata": {},
     "output_type": "execute_result"
    }
   ],
   "source": [
    "train_df.head()"
   ]
  },
  {
   "cell_type": "code",
   "execution_count": null,
   "metadata": {
    "collapsed": true
   },
   "outputs": [],
   "source": []
  },
  {
   "cell_type": "code",
   "execution_count": null,
   "metadata": {
    "collapsed": true
   },
   "outputs": [],
   "source": []
  },
  {
   "cell_type": "code",
   "execution_count": null,
   "metadata": {
    "collapsed": true
   },
   "outputs": [],
   "source": []
  },
  {
   "cell_type": "code",
   "execution_count": null,
   "metadata": {
    "collapsed": true
   },
   "outputs": [],
   "source": []
  },
  {
   "cell_type": "code",
   "execution_count": 82,
   "metadata": {
    "collapsed": false
   },
   "outputs": [
    {
     "name": "stdout",
     "output_type": "stream",
     "text": [
      "107850\n"
     ]
    },
    {
     "data": {
      "text/html": [
       "<div>\n",
       "<style scoped>\n",
       "    .dataframe tbody tr th:only-of-type {\n",
       "        vertical-align: middle;\n",
       "    }\n",
       "\n",
       "    .dataframe tbody tr th {\n",
       "        vertical-align: top;\n",
       "    }\n",
       "\n",
       "    .dataframe thead th {\n",
       "        text-align: right;\n",
       "    }\n",
       "</style>\n",
       "<table border=\"1\" class=\"dataframe\">\n",
       "  <thead>\n",
       "    <tr style=\"text-align: right;\">\n",
       "      <th></th>\n",
       "      <th>mean</th>\n",
       "      <th>frame_num</th>\n",
       "    </tr>\n",
       "  </thead>\n",
       "  <tbody>\n",
       "    <tr>\n",
       "      <th>107845</th>\n",
       "      <td>29.3657</td>\n",
       "      <td>107966</td>\n",
       "    </tr>\n",
       "    <tr>\n",
       "      <th>107846</th>\n",
       "      <td>27.3111</td>\n",
       "      <td>107967</td>\n",
       "    </tr>\n",
       "    <tr>\n",
       "      <th>107847</th>\n",
       "      <td>29.3206</td>\n",
       "      <td>107968</td>\n",
       "    </tr>\n",
       "    <tr>\n",
       "      <th>107848</th>\n",
       "      <td>27.5261</td>\n",
       "      <td>107969</td>\n",
       "    </tr>\n",
       "    <tr>\n",
       "      <th>107849</th>\n",
       "      <td>29.4173</td>\n",
       "      <td>107970</td>\n",
       "    </tr>\n",
       "  </tbody>\n",
       "</table>\n",
       "</div>"
      ],
      "text/plain": [
       "           mean  frame_num\n",
       "107845  29.3657     107966\n",
       "107846  27.3111     107967\n",
       "107847  29.3206     107968\n",
       "107848  27.5261     107969\n",
       "107849  29.4173     107970"
      ]
     },
     "execution_count": 82,
     "metadata": {},
     "output_type": "execute_result"
    }
   ],
   "source": [
    "mean_df = pd.read_csv(\"../../data/statistics/20170416/9/mean.csv\")\n",
    "print(len(mean_df))\n",
    "mean_df.tail()"
   ]
  },
  {
   "cell_type": "code",
   "execution_count": 104,
   "metadata": {
    "collapsed": false
   },
   "outputs": [
    {
     "name": "stdout",
     "output_type": "stream",
     "text": [
      "3594\n"
     ]
    },
    {
     "data": {
      "text/html": [
       "<div>\n",
       "<style scoped>\n",
       "    .dataframe tbody tr th:only-of-type {\n",
       "        vertical-align: middle;\n",
       "    }\n",
       "\n",
       "    .dataframe tbody tr th {\n",
       "        vertical-align: top;\n",
       "    }\n",
       "\n",
       "    .dataframe thead th {\n",
       "        text-align: right;\n",
       "    }\n",
       "</style>\n",
       "<table border=\"1\" class=\"dataframe\">\n",
       "  <thead>\n",
       "    <tr style=\"text-align: right;\">\n",
       "      <th></th>\n",
       "      <th>human_area</th>\n",
       "      <th>frame_num</th>\n",
       "    </tr>\n",
       "  </thead>\n",
       "  <tbody>\n",
       "    <tr>\n",
       "      <th>0</th>\n",
       "      <td>0.000060</td>\n",
       "      <td>121</td>\n",
       "    </tr>\n",
       "    <tr>\n",
       "      <th>1</th>\n",
       "      <td>0.000060</td>\n",
       "      <td>122</td>\n",
       "    </tr>\n",
       "    <tr>\n",
       "      <th>2</th>\n",
       "      <td>0.000045</td>\n",
       "      <td>123</td>\n",
       "    </tr>\n",
       "    <tr>\n",
       "      <th>3</th>\n",
       "      <td>0.000091</td>\n",
       "      <td>124</td>\n",
       "    </tr>\n",
       "    <tr>\n",
       "      <th>4</th>\n",
       "      <td>0.000106</td>\n",
       "      <td>125</td>\n",
       "    </tr>\n",
       "  </tbody>\n",
       "</table>\n",
       "</div>"
      ],
      "text/plain": [
       "   human_area  frame_num\n",
       "0    0.000060        121\n",
       "1    0.000060        122\n",
       "2    0.000045        123\n",
       "3    0.000091        124\n",
       "4    0.000106        125"
      ]
     },
     "execution_count": 104,
     "metadata": {},
     "output_type": "execute_result"
    }
   ],
   "source": [
    "human_df = pd.read_csv(\"../../data/human_area/20170416/9.csv\")\n",
    "print(len(human_df))\n",
    "human_df.head()"
   ]
  },
  {
   "cell_type": "code",
   "execution_count": null,
   "metadata": {
    "collapsed": false
   },
   "outputs": [],
   "source": []
  },
  {
   "cell_type": "code",
   "execution_count": 143,
   "metadata": {
    "collapsed": false
   },
   "outputs": [],
   "source": [
    "# FIX human_area index\n",
    "\n",
    "# date = \"20181031\"\n",
    "\n",
    "# for time in range(9, 17):\n",
    "#     mean_df = pd.read_csv(\"../../data/statistics/{}/{}/mean.csv\".format(date, time))\n",
    "#     human_df = pd.read_csv(\"../../data/human_area/{}/{}.csv\".format(date, time))\n",
    "\n",
    "#     human_arr = np.zeros(len(mean_df))\n",
    "#     val_arr = np.array(human_df[\"human_area\"])\n",
    "\n",
    "#     fix_df = pd.DataFrame(columns=[\"human_area\", \"frame_num\"])\n",
    "#     fix_df[\"frame_num\"] = [i for i in range(121, len(mean_df)+121)]\n",
    "\n",
    "#     for i in range(0, len(val_arr)*30, 30):\n",
    "#         human_arr[i:i+30] = val_arr[int(i/30)]\n",
    "\n",
    "#     fix_df[\"human_area\"] = human_arr\n",
    "#     fix_df = fix_df[:len(val_arr)*30]\n",
    "#     fix_df.to_csv(\"../../data/human_area/{}/{}.csv\".format(date, time), index=False)"
   ]
  },
  {
   "cell_type": "code",
   "execution_count": null,
   "metadata": {
    "collapsed": false
   },
   "outputs": [],
   "source": []
  },
  {
   "cell_type": "code",
   "execution_count": null,
   "metadata": {
    "collapsed": false
   },
   "outputs": [],
   "source": []
  },
  {
   "cell_type": "code",
   "execution_count": null,
   "metadata": {
    "collapsed": true
   },
   "outputs": [],
   "source": []
  }
 ],
 "metadata": {
  "anaconda-cloud": {},
  "kernelspec": {
   "display_name": "Python [conda env:anaconda3-4.2.0]",
   "language": "python",
   "name": "conda-env-anaconda3-4.2.0-py"
  },
  "language_info": {
   "codemirror_mode": {
    "name": "ipython",
    "version": 3
   },
   "file_extension": ".py",
   "mimetype": "text/x-python",
   "name": "python",
   "nbconvert_exporter": "python",
   "pygments_lexer": "ipython3",
   "version": "3.5.2"
  }
 },
 "nbformat": 4,
 "nbformat_minor": 1
}
