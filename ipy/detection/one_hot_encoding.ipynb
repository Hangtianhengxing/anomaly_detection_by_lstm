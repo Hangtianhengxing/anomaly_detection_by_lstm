{
 "cells": [
  {
   "cell_type": "code",
   "execution_count": 1,
   "metadata": {
    "collapsed": false
   },
   "outputs": [
    {
     "data": {
      "text/html": [
       "<div>\n",
       "<style scoped>\n",
       "    .dataframe tbody tr th:only-of-type {\n",
       "        vertical-align: middle;\n",
       "    }\n",
       "\n",
       "    .dataframe tbody tr th {\n",
       "        vertical-align: top;\n",
       "    }\n",
       "\n",
       "    .dataframe thead th {\n",
       "        text-align: right;\n",
       "    }\n",
       "</style>\n",
       "<table border=\"1\" class=\"dataframe\">\n",
       "  <thead>\n",
       "    <tr style=\"text-align: right;\">\n",
       "      <th></th>\n",
       "      <th>mean</th>\n",
       "      <th>var</th>\n",
       "      <th>max</th>\n",
       "      <th>degree_mean</th>\n",
       "      <th>degree_std</th>\n",
       "      <th>down</th>\n",
       "      <th>horizontal</th>\n",
       "      <th>left</th>\n",
       "      <th>left_down</th>\n",
       "      <th>left_up</th>\n",
       "      <th>...</th>\n",
       "      <th>Tue</th>\n",
       "      <th>Wed</th>\n",
       "      <th>Thurs</th>\n",
       "      <th>Fri</th>\n",
       "      <th>Sat</th>\n",
       "      <th>mean_shift1</th>\n",
       "      <th>var_shift1</th>\n",
       "      <th>max_shift1</th>\n",
       "      <th>degree_mean_shift1</th>\n",
       "      <th>degree_std_shift1</th>\n",
       "    </tr>\n",
       "  </thead>\n",
       "  <tbody>\n",
       "    <tr>\n",
       "      <th>0</th>\n",
       "      <td>29.6173</td>\n",
       "      <td>22.5958</td>\n",
       "      <td>69.2766</td>\n",
       "      <td>125.666667</td>\n",
       "      <td>115.604553</td>\n",
       "      <td>0.000000</td>\n",
       "      <td>0.642857</td>\n",
       "      <td>0.309524</td>\n",
       "      <td>0.119048</td>\n",
       "      <td>0.047619</td>\n",
       "      <td>...</td>\n",
       "      <td>0</td>\n",
       "      <td>0</td>\n",
       "      <td>0</td>\n",
       "      <td>0</td>\n",
       "      <td>0</td>\n",
       "      <td>27.82087</td>\n",
       "      <td>21.1866</td>\n",
       "      <td>65.15349</td>\n",
       "      <td>-27.054264</td>\n",
       "      <td>0.603173</td>\n",
       "    </tr>\n",
       "    <tr>\n",
       "      <th>1</th>\n",
       "      <td>27.0710</td>\n",
       "      <td>26.3131</td>\n",
       "      <td>70.2337</td>\n",
       "      <td>130.590909</td>\n",
       "      <td>118.552504</td>\n",
       "      <td>0.022727</td>\n",
       "      <td>0.500000</td>\n",
       "      <td>0.204545</td>\n",
       "      <td>0.090909</td>\n",
       "      <td>0.136364</td>\n",
       "      <td>...</td>\n",
       "      <td>0</td>\n",
       "      <td>0</td>\n",
       "      <td>0</td>\n",
       "      <td>0</td>\n",
       "      <td>0</td>\n",
       "      <td>-2.54630</td>\n",
       "      <td>3.7173</td>\n",
       "      <td>0.95710</td>\n",
       "      <td>4.924242</td>\n",
       "      <td>2.947951</td>\n",
       "    </tr>\n",
       "    <tr>\n",
       "      <th>2</th>\n",
       "      <td>32.6868</td>\n",
       "      <td>27.2595</td>\n",
       "      <td>72.9634</td>\n",
       "      <td>146.083333</td>\n",
       "      <td>137.548855</td>\n",
       "      <td>0.000000</td>\n",
       "      <td>0.472222</td>\n",
       "      <td>0.111111</td>\n",
       "      <td>0.000000</td>\n",
       "      <td>0.166667</td>\n",
       "      <td>...</td>\n",
       "      <td>0</td>\n",
       "      <td>0</td>\n",
       "      <td>0</td>\n",
       "      <td>0</td>\n",
       "      <td>0</td>\n",
       "      <td>5.61580</td>\n",
       "      <td>0.9464</td>\n",
       "      <td>2.72970</td>\n",
       "      <td>15.492424</td>\n",
       "      <td>18.996351</td>\n",
       "    </tr>\n",
       "    <tr>\n",
       "      <th>3</th>\n",
       "      <td>29.7387</td>\n",
       "      <td>26.6687</td>\n",
       "      <td>69.1588</td>\n",
       "      <td>154.648649</td>\n",
       "      <td>125.963362</td>\n",
       "      <td>0.000000</td>\n",
       "      <td>0.567568</td>\n",
       "      <td>0.243243</td>\n",
       "      <td>0.027027</td>\n",
       "      <td>0.162162</td>\n",
       "      <td>...</td>\n",
       "      <td>0</td>\n",
       "      <td>0</td>\n",
       "      <td>0</td>\n",
       "      <td>0</td>\n",
       "      <td>0</td>\n",
       "      <td>-2.94810</td>\n",
       "      <td>-0.5908</td>\n",
       "      <td>-3.80460</td>\n",
       "      <td>8.565315</td>\n",
       "      <td>-11.585493</td>\n",
       "    </tr>\n",
       "    <tr>\n",
       "      <th>4</th>\n",
       "      <td>26.2518</td>\n",
       "      <td>33.2341</td>\n",
       "      <td>73.5575</td>\n",
       "      <td>118.275862</td>\n",
       "      <td>104.465436</td>\n",
       "      <td>0.000000</td>\n",
       "      <td>0.413793</td>\n",
       "      <td>0.172414</td>\n",
       "      <td>0.068966</td>\n",
       "      <td>0.241379</td>\n",
       "      <td>...</td>\n",
       "      <td>0</td>\n",
       "      <td>0</td>\n",
       "      <td>0</td>\n",
       "      <td>0</td>\n",
       "      <td>0</td>\n",
       "      <td>-3.48690</td>\n",
       "      <td>6.5654</td>\n",
       "      <td>4.39870</td>\n",
       "      <td>-36.372787</td>\n",
       "      <td>-21.497925</td>\n",
       "    </tr>\n",
       "  </tbody>\n",
       "</table>\n",
       "<p>5 rows × 62 columns</p>\n",
       "</div>"
      ],
      "text/plain": [
       "      mean      var      max  degree_mean  degree_std      down  horizontal  \\\n",
       "0  29.6173  22.5958  69.2766   125.666667  115.604553  0.000000    0.642857   \n",
       "1  27.0710  26.3131  70.2337   130.590909  118.552504  0.022727    0.500000   \n",
       "2  32.6868  27.2595  72.9634   146.083333  137.548855  0.000000    0.472222   \n",
       "3  29.7387  26.6687  69.1588   154.648649  125.963362  0.000000    0.567568   \n",
       "4  26.2518  33.2341  73.5575   118.275862  104.465436  0.000000    0.413793   \n",
       "\n",
       "       left  left_down   left_up        ...          Tue  Wed  Thurs  Fri  \\\n",
       "0  0.309524   0.119048  0.047619        ...            0    0      0    0   \n",
       "1  0.204545   0.090909  0.136364        ...            0    0      0    0   \n",
       "2  0.111111   0.000000  0.166667        ...            0    0      0    0   \n",
       "3  0.243243   0.027027  0.162162        ...            0    0      0    0   \n",
       "4  0.172414   0.068966  0.241379        ...            0    0      0    0   \n",
       "\n",
       "   Sat  mean_shift1  var_shift1  max_shift1  degree_mean_shift1  \\\n",
       "0    0     27.82087     21.1866    65.15349          -27.054264   \n",
       "1    0     -2.54630      3.7173     0.95710            4.924242   \n",
       "2    0      5.61580      0.9464     2.72970           15.492424   \n",
       "3    0     -2.94810     -0.5908    -3.80460            8.565315   \n",
       "4    0     -3.48690      6.5654     4.39870          -36.372787   \n",
       "\n",
       "   degree_std_shift1  \n",
       "0           0.603173  \n",
       "1           2.947951  \n",
       "2          18.996351  \n",
       "3         -11.585493  \n",
       "4         -21.497925  \n",
       "\n",
       "[5 rows x 62 columns]"
      ]
     },
     "execution_count": 1,
     "metadata": {},
     "output_type": "execute_result"
    }
   ],
   "source": [
    "train_df = pd.read_csv(\"../../data/datasets/20170416/default/time_series_leveled_9.csv\")\n",
    "train_df.head()"
   ]
  },
  {
   "cell_type": "code",
   "execution_count": 6,
   "metadata": {
    "collapsed": false
   },
   "outputs": [
    {
     "name": "stdout",
     "output_type": "stream",
     "text": [
      "[0 1 2 3 4]\n"
     ]
    },
    {
     "data": {
      "text/plain": [
       "array([3, 3, 3, 3, 3])"
      ]
     },
     "execution_count": 6,
     "metadata": {},
     "output_type": "execute_result"
    }
   ],
   "source": [
    "label = np.array(train_df[\"label\"]) - 1\n",
    "print(np.unique(label))\n",
    "label[:5]"
   ]
  },
  {
   "cell_type": "code",
   "execution_count": 8,
   "metadata": {
    "collapsed": false
   },
   "outputs": [
    {
     "name": "stdout",
     "output_type": "stream",
     "text": [
      "(3594, 5)\n"
     ]
    },
    {
     "data": {
      "text/plain": [
       "array([[0., 0., 0., 1., 0.],\n",
       "       [0., 0., 0., 1., 0.],\n",
       "       [0., 0., 0., 1., 0.],\n",
       "       ...,\n",
       "       [1., 0., 0., 0., 0.],\n",
       "       [1., 0., 0., 0., 0.],\n",
       "       [1., 0., 0., 0., 0.]])"
      ]
     },
     "execution_count": 8,
     "metadata": {},
     "output_type": "execute_result"
    }
   ],
   "source": [
    "one_hot_label = np.eye(5)[label]\n",
    "print(one_hot_label.shape)\n",
    "one_hot_label"
   ]
  },
  {
   "cell_type": "code",
   "execution_count": 9,
   "metadata": {
    "collapsed": true
   },
   "outputs": [],
   "source": [
    "def one_hot_encoding(label_arr, class_size=5):\n",
    "    return np.eye(class_size)[label_arr]"
   ]
  },
  {
   "cell_type": "code",
   "execution_count": 10,
   "metadata": {
    "collapsed": false
   },
   "outputs": [
    {
     "data": {
      "text/plain": [
       "array([[0., 0., 0., 1., 0.],\n",
       "       [0., 0., 0., 1., 0.],\n",
       "       [0., 0., 0., 1., 0.],\n",
       "       ...,\n",
       "       [1., 0., 0., 0., 0.],\n",
       "       [1., 0., 0., 0., 0.],\n",
       "       [1., 0., 0., 0., 0.]])"
      ]
     },
     "execution_count": 10,
     "metadata": {},
     "output_type": "execute_result"
    }
   ],
   "source": [
    "one_hot_encoding(label)"
   ]
  },
  {
   "cell_type": "code",
   "execution_count": null,
   "metadata": {
    "collapsed": true
   },
   "outputs": [],
   "source": []
  }
 ],
 "metadata": {
  "anaconda-cloud": {},
  "kernelspec": {
   "display_name": "Python [conda env:anaconda3-4.2.0]",
   "language": "python",
   "name": "conda-env-anaconda3-4.2.0-py"
  },
  "language_info": {
   "codemirror_mode": {
    "name": "ipython",
    "version": 3
   },
   "file_extension": ".py",
   "mimetype": "text/x-python",
   "name": "python",
   "nbconvert_exporter": "python",
   "pygments_lexer": "ipython3",
   "version": "3.5.2"
  }
 },
 "nbformat": 4,
 "nbformat_minor": 1
}
