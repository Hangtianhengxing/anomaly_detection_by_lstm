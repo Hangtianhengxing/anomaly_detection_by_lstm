{
 "cells": [
  {
   "cell_type": "code",
   "execution_count": 84,
   "metadata": {
    "collapsed": false
   },
   "outputs": [],
   "source": [
    "from sklearn.ensemble import RandomForestRegressor\n",
    "from sklearn.model_selection import train_test_split\n",
    "from sklearn.model_selection import GridSearchCV\n",
    "from sklearn.metrics import accuracy_score\n",
    "from sklearn.metrics import precision_score\n",
    "from sklearn.metrics import recall_score\n",
    "from sklearn.metrics import confusion_matrix\n",
    "from sklearn.metrics import classification_report"
   ]
  },
  {
   "cell_type": "code",
   "execution_count": 72,
   "metadata": {
    "collapsed": false
   },
   "outputs": [
    {
     "data": {
      "text/html": [
       "<div>\n",
       "<style scoped>\n",
       "    .dataframe tbody tr th:only-of-type {\n",
       "        vertical-align: middle;\n",
       "    }\n",
       "\n",
       "    .dataframe tbody tr th {\n",
       "        vertical-align: top;\n",
       "    }\n",
       "\n",
       "    .dataframe thead th {\n",
       "        text-align: right;\n",
       "    }\n",
       "</style>\n",
       "<table border=\"1\" class=\"dataframe\">\n",
       "  <thead>\n",
       "    <tr style=\"text-align: right;\">\n",
       "      <th></th>\n",
       "      <th>10</th>\n",
       "      <th>11</th>\n",
       "      <th>12</th>\n",
       "      <th>13</th>\n",
       "      <th>14</th>\n",
       "      <th>15</th>\n",
       "      <th>16</th>\n",
       "      <th>9</th>\n",
       "      <th>Fri</th>\n",
       "      <th>Mon</th>\n",
       "      <th>...</th>\n",
       "      <th>overall_dir_left_down</th>\n",
       "      <th>overall_dir_left_up</th>\n",
       "      <th>overall_dir_right</th>\n",
       "      <th>overall_dir_right_down</th>\n",
       "      <th>overall_dir_right_up</th>\n",
       "      <th>right</th>\n",
       "      <th>right_down</th>\n",
       "      <th>right_up</th>\n",
       "      <th>up</th>\n",
       "      <th>var</th>\n",
       "    </tr>\n",
       "  </thead>\n",
       "  <tbody>\n",
       "    <tr>\n",
       "      <th>2636</th>\n",
       "      <td>0</td>\n",
       "      <td>1</td>\n",
       "      <td>0</td>\n",
       "      <td>0</td>\n",
       "      <td>0</td>\n",
       "      <td>0</td>\n",
       "      <td>0</td>\n",
       "      <td>0</td>\n",
       "      <td>0</td>\n",
       "      <td>0</td>\n",
       "      <td>...</td>\n",
       "      <td>0.0</td>\n",
       "      <td>0</td>\n",
       "      <td>1</td>\n",
       "      <td>0</td>\n",
       "      <td>0</td>\n",
       "      <td>0.314286</td>\n",
       "      <td>0.171429</td>\n",
       "      <td>0.228571</td>\n",
       "      <td>0.000000</td>\n",
       "      <td>35.5308</td>\n",
       "    </tr>\n",
       "    <tr>\n",
       "      <th>1464</th>\n",
       "      <td>0</td>\n",
       "      <td>0</td>\n",
       "      <td>0</td>\n",
       "      <td>0</td>\n",
       "      <td>0</td>\n",
       "      <td>1</td>\n",
       "      <td>0</td>\n",
       "      <td>0</td>\n",
       "      <td>0</td>\n",
       "      <td>0</td>\n",
       "      <td>...</td>\n",
       "      <td>0.0</td>\n",
       "      <td>0</td>\n",
       "      <td>1</td>\n",
       "      <td>0</td>\n",
       "      <td>0</td>\n",
       "      <td>0.307692</td>\n",
       "      <td>0.153846</td>\n",
       "      <td>0.115385</td>\n",
       "      <td>0.000000</td>\n",
       "      <td>36.8568</td>\n",
       "    </tr>\n",
       "    <tr>\n",
       "      <th>1605</th>\n",
       "      <td>0</td>\n",
       "      <td>1</td>\n",
       "      <td>0</td>\n",
       "      <td>0</td>\n",
       "      <td>0</td>\n",
       "      <td>0</td>\n",
       "      <td>0</td>\n",
       "      <td>0</td>\n",
       "      <td>0</td>\n",
       "      <td>0</td>\n",
       "      <td>...</td>\n",
       "      <td>0.0</td>\n",
       "      <td>0</td>\n",
       "      <td>1</td>\n",
       "      <td>0</td>\n",
       "      <td>0</td>\n",
       "      <td>0.277778</td>\n",
       "      <td>0.000000</td>\n",
       "      <td>0.250000</td>\n",
       "      <td>0.027778</td>\n",
       "      <td>29.7894</td>\n",
       "    </tr>\n",
       "    <tr>\n",
       "      <th>1604</th>\n",
       "      <td>0</td>\n",
       "      <td>0</td>\n",
       "      <td>0</td>\n",
       "      <td>1</td>\n",
       "      <td>0</td>\n",
       "      <td>0</td>\n",
       "      <td>0</td>\n",
       "      <td>0</td>\n",
       "      <td>1</td>\n",
       "      <td>0</td>\n",
       "      <td>...</td>\n",
       "      <td>0.0</td>\n",
       "      <td>0</td>\n",
       "      <td>1</td>\n",
       "      <td>0</td>\n",
       "      <td>0</td>\n",
       "      <td>0.363636</td>\n",
       "      <td>0.045455</td>\n",
       "      <td>0.227273</td>\n",
       "      <td>0.000000</td>\n",
       "      <td>53.7068</td>\n",
       "    </tr>\n",
       "    <tr>\n",
       "      <th>277</th>\n",
       "      <td>0</td>\n",
       "      <td>0</td>\n",
       "      <td>0</td>\n",
       "      <td>1</td>\n",
       "      <td>0</td>\n",
       "      <td>0</td>\n",
       "      <td>0</td>\n",
       "      <td>0</td>\n",
       "      <td>0</td>\n",
       "      <td>0</td>\n",
       "      <td>...</td>\n",
       "      <td>0.0</td>\n",
       "      <td>0</td>\n",
       "      <td>0</td>\n",
       "      <td>0</td>\n",
       "      <td>0</td>\n",
       "      <td>0.142857</td>\n",
       "      <td>0.085714</td>\n",
       "      <td>0.114286</td>\n",
       "      <td>0.028571</td>\n",
       "      <td>43.7265</td>\n",
       "    </tr>\n",
       "  </tbody>\n",
       "</table>\n",
       "<p>5 rows × 55 columns</p>\n",
       "</div>"
      ],
      "text/plain": [
       "      10  11  12  13  14  15  16  9  Fri  Mon   ...     overall_dir_left_down  \\\n",
       "2636   0   1   0   0   0   0   0  0    0    0   ...                       0.0   \n",
       "1464   0   0   0   0   0   1   0  0    0    0   ...                       0.0   \n",
       "1605   0   1   0   0   0   0   0  0    0    0   ...                       0.0   \n",
       "1604   0   0   0   1   0   0   0  0    1    0   ...                       0.0   \n",
       "277    0   0   0   1   0   0   0  0    0    0   ...                       0.0   \n",
       "\n",
       "      overall_dir_left_up  overall_dir_right  overall_dir_right_down  \\\n",
       "2636                    0                  1                       0   \n",
       "1464                    0                  1                       0   \n",
       "1605                    0                  1                       0   \n",
       "1604                    0                  1                       0   \n",
       "277                     0                  0                       0   \n",
       "\n",
       "      overall_dir_right_up     right  right_down  right_up        up      var  \n",
       "2636                     0  0.314286    0.171429  0.228571  0.000000  35.5308  \n",
       "1464                     0  0.307692    0.153846  0.115385  0.000000  36.8568  \n",
       "1605                     0  0.277778    0.000000  0.250000  0.027778  29.7894  \n",
       "1604                     0  0.363636    0.045455  0.227273  0.000000  53.7068  \n",
       "277                      0  0.142857    0.085714  0.114286  0.028571  43.7265  \n",
       "\n",
       "[5 rows x 55 columns]"
      ]
     },
     "execution_count": 72,
     "metadata": {},
     "output_type": "execute_result"
    }
   ],
   "source": [
    "dataset_df = pd.DataFrame()\n",
    "\n",
    "day_lst = [\"20170417\", \"20170418\", \"20170420\", \"20170421\", \"20170422\"]\n",
    "\n",
    "for day in day_lst:\n",
    "    for t_idx in range(9, 17):\n",
    "        tmp_dataset_df = pd.read_csv(\"../../data/datasets/{0}/default/time_series_{1}.csv\".format(day, t_idx))\n",
    "\n",
    "        # check NaN count\n",
    "        assert tmp_dataset_df.isnull().values.sum() == 0\n",
    "\n",
    "        dataset_df = pd.concat([dataset_df, tmp_dataset_df])\n",
    "\n",
    "    # shuffle dataset\n",
    "    dataset_df = dataset_df.sample(frac=1)\n",
    "    dataset_df = dataset_df.fillna(0)\n",
    "\n",
    "    # check NaN count\n",
    "    assert dataset_df.isnull().values.sum() == 0\n",
    "    \n",
    "dataset_df.head()"
   ]
  },
  {
   "cell_type": "code",
   "execution_count": 73,
   "metadata": {
    "collapsed": false
   },
   "outputs": [
    {
     "data": {
      "text/plain": [
       "Index(['10', '11', '12', '13', '14', '15', '16', '9', 'Fri', 'Mon', 'Sat',\n",
       "       'Sun', 'Thurs', 'Tue', 'Wed', 'area_ratio', 'degree_mean', 'degree_std',\n",
       "       'diver', 'down', 'feed', 'grid_0_0', 'grid_0_1', 'grid_0_2', 'grid_0_3',\n",
       "       'grid_0_4', 'grid_0_5', 'grid_0_6', 'grid_0_7', 'label', 'left',\n",
       "       'left_down', 'left_up', 'max', 'max_index_grid_0_0',\n",
       "       'max_index_grid_0_1', 'max_index_grid_0_2', 'max_index_grid_0_3',\n",
       "       'max_index_grid_0_4', 'max_index_grid_0_5', 'max_index_grid_0_6',\n",
       "       'max_index_grid_0_7', 'mean', 'overall_dir_down', 'overall_dir_left',\n",
       "       'overall_dir_left_down', 'overall_dir_left_up', 'overall_dir_right',\n",
       "       'overall_dir_right_down', 'overall_dir_right_up', 'right', 'right_down',\n",
       "       'right_up', 'up', 'var'],\n",
       "      dtype='object')"
      ]
     },
     "execution_count": 73,
     "metadata": {},
     "output_type": "execute_result"
    }
   ],
   "source": [
    "dataset_df.columns"
   ]
  },
  {
   "cell_type": "code",
   "execution_count": 74,
   "metadata": {
    "collapsed": false
   },
   "outputs": [
    {
     "name": "stdout",
     "output_type": "stream",
     "text": [
      "***************** Train *****************\n",
      "Normal: 143440\n",
      "Anormal: 339\n",
      "Anormaly rate [%]: 0.2363357501394311\n"
     ]
    }
   ],
   "source": [
    "# check data balance, and convert numpy\n",
    "y_train = dataset_df[\"label\"].values\n",
    "print(\"***************** Train *****************\")\n",
    "print(\"Normal: {}\".format(np.sum(y_train==0)))\n",
    "print(\"Anormal: {}\".format(np.sum(y_train==1)))\n",
    "print(\"Anormaly rate [%]: {}\".format(100*(np.sum(y_train==1)/np.sum(y_train==0))))\n",
    "\n",
    "#dataset_df = dataset_df.drop([\"label\", \"max\"], axis=1)\n",
    "dataset_df = dataset_df.drop([\"label\"], axis=1)\n",
    "X_train = dataset_df.values"
   ]
  },
  {
   "cell_type": "code",
   "execution_count": 75,
   "metadata": {
    "collapsed": false
   },
   "outputs": [
    {
     "name": "stdout",
     "output_type": "stream",
     "text": [
      "***************** Test *****************\n",
      "Normal: 28692\n",
      "Anormal: 62\n",
      "Anormaly rate [%]: 0.2160881081834658\n"
     ]
    }
   ],
   "source": [
    "test_df = pd.DataFrame(columns=dataset_df.columns)\n",
    "\n",
    "for t_idx in range(9, 17):\n",
    "    tmp_test_df = pd.read_csv(\"../../data/datasets/20170416/default/time_series_{0}.csv\".format(t_idx))\n",
    "\n",
    "    # check NaN count\n",
    "    assert tmp_test_df.isnull().values.sum() == 0\n",
    "\n",
    "    test_df = pd.concat([test_df, tmp_test_df])\n",
    "\n",
    "\n",
    "test_df = test_df.fillna(0)\n",
    "\n",
    "# check NaN count\n",
    "assert test_df.isnull().values.sum() == 0\n",
    "    \n",
    "# check data balance, and convert numpy\n",
    "y_test = test_df[\"label\"].values\n",
    "print(\"***************** Test *****************\")\n",
    "print(\"Normal: {}\".format(np.sum(y_test==0)))\n",
    "print(\"Anormal: {}\".format(np.sum(y_test==1)))\n",
    "print(\"Anormaly rate [%]: {}\".format(100*(np.sum(y_test==1)/np.sum(y_test==0))))\n",
    "\n",
    "#test_df = test_df.drop([\"label\", \"max\"], axis=1)\n",
    "test_df = test_df.drop(\"label\", axis=1)\n",
    "X_test = test_df.values"
   ]
  },
  {
   "cell_type": "code",
   "execution_count": 87,
   "metadata": {
    "collapsed": false,
    "scrolled": true
   },
   "outputs": [
    {
     "name": "stdout",
     "output_type": "stream",
     "text": [
      "Fitting 10 folds for each of 54 candidates, totalling 540 fits\n"
     ]
    },
    {
     "name": "stderr",
     "output_type": "stream",
     "text": [
      "[Parallel(n_jobs=-1)]: Done  42 tasks      | elapsed:  2.7min\n",
      "[Parallel(n_jobs=-1)]: Done 192 tasks      | elapsed:  8.5min\n",
      "[Parallel(n_jobs=-1)]: Done 442 tasks      | elapsed: 19.8min\n",
      "[Parallel(n_jobs=-1)]: Done 540 out of 540 | elapsed: 22.6min finished\n"
     ]
    },
    {
     "name": "stdout",
     "output_type": "stream",
     "text": [
      "0.8637293034422875\n",
      "{'n_estimators': 30, 'bootstrap': True, 'min_samples_split': 4, 'max_features': 'auto'}\n"
     ]
    }
   ],
   "source": [
    "forest = RandomForestRegressor()\n",
    "params = { \n",
    "        \"n_estimators\"      : [10,20,30],\n",
    "        \"max_features\"      : [\"auto\", \"sqrt\", \"log2\"],\n",
    "        \"min_samples_split\" : [2,4,8],\n",
    "        \"bootstrap\": [True, False]}\n",
    "\n",
    "scores = ['accuracy', 'precision', 'recall']\n",
    "\n",
    "grid_search = GridSearchCV(forest,  \n",
    "                           param_grid=params, \n",
    "                           cv=10,\n",
    "                          n_jobs=-1,\n",
    "                          verbose=1)\n",
    "\n",
    "grid_search.fit(X_train, y_train)\n",
    "\n",
    "print(grid_search.best_score_) \n",
    "print(grid_search.best_params_)"
   ]
  },
  {
   "cell_type": "markdown",
   "metadata": {},
   "source": [
    "{'n_estimators': 30, 'bootstrap': True, 'min_samples_split': 4, 'max_features': 'auto'}"
   ]
  },
  {
   "cell_type": "code",
   "execution_count": 88,
   "metadata": {
    "collapsed": false,
    "scrolled": true
   },
   "outputs": [
    {
     "name": "stdout",
     "output_type": "stream",
     "text": [
      "*********************************************\n",
      "Train Accuracy: 0.9999860897627609\n",
      "Train Recall: 0.9970501474926253\n",
      "Train Precision: 0.9970501474926253\n",
      "*********************************************\n",
      "*********************************************\n",
      "Test Accuracy: 0.9997565556096543\n",
      "Test Recall: 0.9193548387096774\n",
      "Test Precision: 0.9661016949152542\n",
      "*********************************************\n"
     ]
    }
   ],
   "source": [
    "train_pred = grid_search.predict(X_train)\n",
    "train_pred[train_pred <= 0.5] = 0\n",
    "train_pred[train_pred > 0.5] = 1\n",
    "test_pred = grid_search.predict(X_test)\n",
    "test_pred[test_pred <= 0.5] = 0\n",
    "test_pred[test_pred > 0.5] = 1\n",
    "\n",
    "train_acc = accuracy_score(y_train, train_pred)\n",
    "train_recall = recall_score(y_train, train_pred)\n",
    "train_precision = precision_score(y_train, train_pred)\n",
    "\n",
    "test_acc = accuracy_score(y_test, test_pred)\n",
    "test_recall = recall_score(y_test, test_pred)\n",
    "test_precision = precision_score(y_test, test_pred)\n",
    "\n",
    "print(\"*********************************************\")\n",
    "print(\"Train Accuracy: {}\".format(train_acc))\n",
    "print(\"Train Recall: {}\".format(train_recall))\n",
    "print(\"Train Precision: {}\".format(train_precision))\n",
    "print(\"*********************************************\")\n",
    "\n",
    "print(\"*********************************************\")\n",
    "print(\"Test Accuracy: {}\".format(test_acc))\n",
    "print(\"Test Recall: {}\".format(test_recall))\n",
    "print(\"Test Precision: {}\".format(test_precision))\n",
    "print(\"*********************************************\")"
   ]
  },
  {
   "cell_type": "markdown",
   "metadata": {},
   "source": [
    "### default  \n",
    "*********************************************  \n",
    "Train Accuracy: 0.9994157619090676  \n",
    "Train Recall: 0.8664546899841018  \n",
    "Train Precision: 1.0  \n",
    "*********************************************  \n",
    "*********************************************   \n",
    "Test Accuracy: 0.9976352761162888  \n",
    "Test Recall: 0.5319148936170213  \n",
    "Test Precision: 0.974025974025974  \n",
    "*********************************************  \n",
    "\n",
    "### normalize  \n",
    "*********************************************  \n",
    "Train Accuracy: 0.9986924195107701  \n",
    "Train Recall: 0.7011128775834659  \n",
    "Train Precision: 1.0  \n",
    "*********************************************  \n",
    "*********************************************  \n",
    "Test Accuracy: 0.9958269578522743  \n",
    "Test Recall: 0.16312056737588654  \n",
    "Test Precision: 0.92  \n",
    "*********************************************  "
   ]
  },
  {
   "cell_type": "code",
   "execution_count": 89,
   "metadata": {
    "collapsed": false
   },
   "outputs": [
    {
     "data": {
      "text/plain": [
       "array([[143439,      1],\n",
       "       [     1,    338]])"
      ]
     },
     "execution_count": 89,
     "metadata": {},
     "output_type": "execute_result"
    }
   ],
   "source": [
    "confusion_matrix(y_train, train_pred)"
   ]
  },
  {
   "cell_type": "code",
   "execution_count": 90,
   "metadata": {
    "collapsed": false
   },
   "outputs": [
    {
     "data": {
      "text/plain": [
       "array([[28690,     2],\n",
       "       [    5,    57]])"
      ]
     },
     "execution_count": 90,
     "metadata": {},
     "output_type": "execute_result"
    }
   ],
   "source": [
    "confusion_matrix(y_test, test_pred)"
   ]
  },
  {
   "cell_type": "code",
   "execution_count": 91,
   "metadata": {
    "collapsed": false
   },
   "outputs": [
    {
     "data": {
      "text/plain": [
       "[<matplotlib.lines.Line2D at 0x11f6685f8>]"
      ]
     },
     "execution_count": 91,
     "metadata": {},
     "output_type": "execute_result"
    },
    {
     "data": {
      "image/png": "[encoded data removed]",
      "text/plain": [
       "<matplotlib.figure.Figure at 0x11c725240>"
      ]
     },
     "metadata": {},
     "output_type": "display_data"
    }
   ],
   "source": [
    "test_pred = grid_search.predict(X_test)\n",
    "plt.figure(figsize=(16, 4))\n",
    "plt.plot(list(test_pred))\n",
    "#plt.plot(np.array(test_df[\"max\"]))"
   ]
  },
  {
   "cell_type": "code",
   "execution_count": 92,
   "metadata": {
    "collapsed": false
   },
   "outputs": [
    {
     "data": {
      "text/plain": [
       "[<matplotlib.lines.Line2D at 0x11f66c5c0>]"
      ]
     },
     "execution_count": 92,
     "metadata": {},
     "output_type": "execute_result"
    },
    {
     "data": {
      "image/png": "[encoded data removed]",
      "text/plain": [
       "<matplotlib.figure.Figure at 0x11f678ef0>"
      ]
     },
     "metadata": {},
     "output_type": "display_data"
    }
   ],
   "source": [
    "plt.figure(figsize=(16, 4))\n",
    "plt.plot(np.array(y_test))"
   ]
  },
  {
   "cell_type": "code",
   "execution_count": 95,
   "metadata": {
    "collapsed": false
   },
   "outputs": [
    {
     "ename": "AttributeError",
     "evalue": "'GridSearchCV' object has no attribute 'feature_importances_'",
     "output_type": "error",
     "traceback": [
      "\u001b[0;31m---------------------------------------------------------------------------\u001b[0m",
      "\u001b[0;31mAttributeError\u001b[0m                            Traceback (most recent call last)",
      "\u001b[0;32m<ipython-input-95-06a9b226daa9>\u001b[0m in \u001b[0;36m<module>\u001b[0;34m()\u001b[0m\n\u001b[0;32m----> 1\u001b[0;31m \u001b[0mimportances\u001b[0m \u001b[0;34m=\u001b[0m \u001b[0mgrid_search\u001b[0m\u001b[0;34m.\u001b[0m\u001b[0mfeature_importances_\u001b[0m\u001b[0;34m\u001b[0m\u001b[0m\n\u001b[0m\u001b[1;32m      2\u001b[0m \u001b[0mindices\u001b[0m \u001b[0;34m=\u001b[0m \u001b[0mnp\u001b[0m\u001b[0;34m.\u001b[0m\u001b[0margsort\u001b[0m\u001b[0;34m(\u001b[0m\u001b[0mimportances\u001b[0m\u001b[0;34m)\u001b[0m\u001b[0;34m[\u001b[0m\u001b[0;34m:\u001b[0m\u001b[0;34m:\u001b[0m\u001b[0;34m-\u001b[0m\u001b[0;36m1\u001b[0m\u001b[0;34m]\u001b[0m\u001b[0;34m\u001b[0m\u001b[0m\n\u001b[1;32m      3\u001b[0m \u001b[0mcols\u001b[0m \u001b[0;34m=\u001b[0m \u001b[0mdataset_df\u001b[0m\u001b[0;34m.\u001b[0m\u001b[0mcolumns\u001b[0m\u001b[0;34m\u001b[0m\u001b[0m\n\u001b[1;32m      4\u001b[0m \u001b[0;34m\u001b[0m\u001b[0m\n\u001b[1;32m      5\u001b[0m \u001b[0;31m# Print the feature ranking\u001b[0m\u001b[0;34m\u001b[0m\u001b[0;34m\u001b[0m\u001b[0m\n",
      "\u001b[0;31mAttributeError\u001b[0m: 'GridSearchCV' object has no attribute 'feature_importances_'"
     ]
    }
   ],
   "source": [
    "importances = grid_search.feature_importances_\n",
    "indices = np.argsort(importances)[::-1]\n",
    "cols = dataset_df.columns\n",
    "\n",
    "# Print the feature ranking\n",
    "print(\"Feature ranking:\")\n",
    "\n",
    "for f in range(X_train.shape[1]):\n",
    "    print(\"{0}. {1} ({2})\".format(f + 1, cols[indices[f]], importances[indices[f]]))"
   ]
  },
  {
   "cell_type": "code",
   "execution_count": 52,
   "metadata": {
    "collapsed": false
   },
   "outputs": [],
   "source": []
  },
  {
   "cell_type": "code",
   "execution_count": null,
   "metadata": {
    "collapsed": false
   },
   "outputs": [],
   "source": []
  },
  {
   "cell_type": "code",
   "execution_count": null,
   "metadata": {
    "collapsed": true
   },
   "outputs": [],
   "source": []
  }
 ],
 "metadata": {
  "anaconda-cloud": {},
  "kernelspec": {
   "display_name": "Python [conda env:anaconda3-4.2.0]",
   "language": "python",
   "name": "conda-env-anaconda3-4.2.0-py"
  },
  "language_info": {
   "codemirror_mode": {
    "name": "ipython",
    "version": 3
   },
   "file_extension": ".py",
   "mimetype": "text/x-python",
   "name": "python",
   "nbconvert_exporter": "python",
   "pygments_lexer": "ipython3",
   "version": "3.5.2"
  }
 },
 "nbformat": 4,
 "nbformat_minor": 1
}
