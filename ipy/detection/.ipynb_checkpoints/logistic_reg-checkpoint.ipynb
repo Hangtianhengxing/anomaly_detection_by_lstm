{
 "cells": [
  {
   "cell_type": "code",
   "execution_count": 1,
   "metadata": {
    "collapsed": false
   },
   "outputs": [],
   "source": [
    "%matplotlib inline\n",
    "import matplotlib.pyplot as plt\n",
    "from sklearn.linear_model import LogisticRegression\n",
    "from sklearn.model_selection import train_test_split\n",
    "from sklearn.metrics import accuracy_score\n",
    "from sklearn.metrics import precision_score\n",
    "from sklearn.metrics import recall_score\n",
    "from sklearn.metrics import confusion_matrix\n",
    "from collections import defaultdict"
   ]
  },
  {
   "cell_type": "code",
   "execution_count": 56,
   "metadata": {
    "collapsed": false
   },
   "outputs": [
    {
     "data": {
      "text/html": [
       "<div>\n",
       "<style scoped>\n",
       "    .dataframe tbody tr th:only-of-type {\n",
       "        vertical-align: middle;\n",
       "    }\n",
       "\n",
       "    .dataframe tbody tr th {\n",
       "        vertical-align: top;\n",
       "    }\n",
       "\n",
       "    .dataframe thead th {\n",
       "        text-align: right;\n",
       "    }\n",
       "</style>\n",
       "<table border=\"1\" class=\"dataframe\">\n",
       "  <thead>\n",
       "    <tr style=\"text-align: right;\">\n",
       "      <th></th>\n",
       "      <th>Fri</th>\n",
       "      <th>Mon</th>\n",
       "      <th>Sat</th>\n",
       "      <th>Sun</th>\n",
       "      <th>Thurs</th>\n",
       "      <th>Tue</th>\n",
       "      <th>Wed</th>\n",
       "      <th>area_ratio</th>\n",
       "      <th>degree_mean</th>\n",
       "      <th>degree_std</th>\n",
       "      <th>...</th>\n",
       "      <th>overall_dir_left_down</th>\n",
       "      <th>overall_dir_left_up</th>\n",
       "      <th>overall_dir_right</th>\n",
       "      <th>overall_dir_right_down</th>\n",
       "      <th>overall_dir_right_up</th>\n",
       "      <th>right</th>\n",
       "      <th>right_down</th>\n",
       "      <th>right_up</th>\n",
       "      <th>up</th>\n",
       "      <th>var</th>\n",
       "    </tr>\n",
       "  </thead>\n",
       "  <tbody>\n",
       "    <tr>\n",
       "      <th>1900</th>\n",
       "      <td>1</td>\n",
       "      <td>0</td>\n",
       "      <td>0</td>\n",
       "      <td>0</td>\n",
       "      <td>0</td>\n",
       "      <td>0</td>\n",
       "      <td>0</td>\n",
       "      <td>0.007908</td>\n",
       "      <td>156.185185</td>\n",
       "      <td>121.104496</td>\n",
       "      <td>...</td>\n",
       "      <td>0.0</td>\n",
       "      <td>1</td>\n",
       "      <td>0</td>\n",
       "      <td>0</td>\n",
       "      <td>0</td>\n",
       "      <td>0.222222</td>\n",
       "      <td>0.111111</td>\n",
       "      <td>0.185185</td>\n",
       "      <td>0.000000</td>\n",
       "      <td>101.7800</td>\n",
       "    </tr>\n",
       "    <tr>\n",
       "      <th>1411</th>\n",
       "      <td>0</td>\n",
       "      <td>0</td>\n",
       "      <td>0</td>\n",
       "      <td>0</td>\n",
       "      <td>1</td>\n",
       "      <td>0</td>\n",
       "      <td>0</td>\n",
       "      <td>0.032025</td>\n",
       "      <td>139.290323</td>\n",
       "      <td>108.793143</td>\n",
       "      <td>...</td>\n",
       "      <td>0.0</td>\n",
       "      <td>0</td>\n",
       "      <td>0</td>\n",
       "      <td>0</td>\n",
       "      <td>0</td>\n",
       "      <td>0.258065</td>\n",
       "      <td>0.064516</td>\n",
       "      <td>0.096774</td>\n",
       "      <td>0.032258</td>\n",
       "      <td>36.1714</td>\n",
       "    </tr>\n",
       "    <tr>\n",
       "      <th>2363</th>\n",
       "      <td>0</td>\n",
       "      <td>0</td>\n",
       "      <td>0</td>\n",
       "      <td>0</td>\n",
       "      <td>0</td>\n",
       "      <td>1</td>\n",
       "      <td>0</td>\n",
       "      <td>0.007228</td>\n",
       "      <td>130.150000</td>\n",
       "      <td>122.578454</td>\n",
       "      <td>...</td>\n",
       "      <td>0.0</td>\n",
       "      <td>0</td>\n",
       "      <td>1</td>\n",
       "      <td>0</td>\n",
       "      <td>0</td>\n",
       "      <td>0.300000</td>\n",
       "      <td>0.150000</td>\n",
       "      <td>0.125000</td>\n",
       "      <td>0.050000</td>\n",
       "      <td>27.9942</td>\n",
       "    </tr>\n",
       "    <tr>\n",
       "      <th>1348</th>\n",
       "      <td>0</td>\n",
       "      <td>0</td>\n",
       "      <td>0</td>\n",
       "      <td>0</td>\n",
       "      <td>0</td>\n",
       "      <td>1</td>\n",
       "      <td>0</td>\n",
       "      <td>0.000862</td>\n",
       "      <td>132.909091</td>\n",
       "      <td>147.457310</td>\n",
       "      <td>...</td>\n",
       "      <td>0.0</td>\n",
       "      <td>0</td>\n",
       "      <td>1</td>\n",
       "      <td>0</td>\n",
       "      <td>0</td>\n",
       "      <td>0.484848</td>\n",
       "      <td>0.181818</td>\n",
       "      <td>0.151515</td>\n",
       "      <td>0.000000</td>\n",
       "      <td>26.9405</td>\n",
       "    </tr>\n",
       "    <tr>\n",
       "      <th>2028</th>\n",
       "      <td>0</td>\n",
       "      <td>0</td>\n",
       "      <td>0</td>\n",
       "      <td>0</td>\n",
       "      <td>0</td>\n",
       "      <td>1</td>\n",
       "      <td>0</td>\n",
       "      <td>0.002480</td>\n",
       "      <td>176.257143</td>\n",
       "      <td>142.849440</td>\n",
       "      <td>...</td>\n",
       "      <td>0.0</td>\n",
       "      <td>0</td>\n",
       "      <td>1</td>\n",
       "      <td>0</td>\n",
       "      <td>0</td>\n",
       "      <td>0.342857</td>\n",
       "      <td>0.057143</td>\n",
       "      <td>0.285714</td>\n",
       "      <td>0.000000</td>\n",
       "      <td>30.5249</td>\n",
       "    </tr>\n",
       "  </tbody>\n",
       "</table>\n",
       "<p>5 rows × 48 columns</p>\n",
       "</div>"
      ],
      "text/plain": [
       "      Fri  Mon  Sat  Sun  Thurs  Tue  Wed  area_ratio  degree_mean  \\\n",
       "1900    1    0    0    0      0    0    0    0.007908   156.185185   \n",
       "1411    0    0    0    0      1    0    0    0.032025   139.290323   \n",
       "2363    0    0    0    0      0    1    0    0.007228   130.150000   \n",
       "1348    0    0    0    0      0    1    0    0.000862   132.909091   \n",
       "2028    0    0    0    0      0    1    0    0.002480   176.257143   \n",
       "\n",
       "      degree_std    ...     overall_dir_left_down  overall_dir_left_up  \\\n",
       "1900  121.104496    ...                       0.0                    1   \n",
       "1411  108.793143    ...                       0.0                    0   \n",
       "2363  122.578454    ...                       0.0                    0   \n",
       "1348  147.457310    ...                       0.0                    0   \n",
       "2028  142.849440    ...                       0.0                    0   \n",
       "\n",
       "      overall_dir_right  overall_dir_right_down  overall_dir_right_up  \\\n",
       "1900                  0                       0                     0   \n",
       "1411                  0                       0                     0   \n",
       "2363                  1                       0                     0   \n",
       "1348                  1                       0                     0   \n",
       "2028                  1                       0                     0   \n",
       "\n",
       "         right  right_down  right_up        up       var  \n",
       "1900  0.222222    0.111111  0.185185  0.000000  101.7800  \n",
       "1411  0.258065    0.064516  0.096774  0.032258   36.1714  \n",
       "2363  0.300000    0.150000  0.125000  0.050000   27.9942  \n",
       "1348  0.484848    0.181818  0.151515  0.000000   26.9405  \n",
       "2028  0.342857    0.057143  0.285714  0.000000   30.5249  \n",
       "\n",
       "[5 rows x 48 columns]"
      ]
     },
     "execution_count": 56,
     "metadata": {},
     "output_type": "execute_result"
    }
   ],
   "source": [
    "dataset_df =pd.DataFrame()\n",
    "\n",
    "day_lst = [\"20170416\", \"20170417\", \"20170418\", \"20170420\", \"20170421\"]\n",
    "\n",
    "for day in day_lst:\n",
    "    for t_idx in range(9, 17):\n",
    "        tmp_dataset_df = pd.read_csv(\"../../data/datasets/{0}/normalize/time_series_{1}.csv\".format(day, t_idx))\n",
    "\n",
    "        # check NaN count\n",
    "        assert tmp_dataset_df.isnull().values.sum() == 0\n",
    "\n",
    "        dataset_df = pd.concat([dataset_df, tmp_dataset_df])\n",
    "\n",
    "    # shuffle dataset\n",
    "    dataset_df = dataset_df.sample(frac=1)\n",
    "    dataset_df = dataset_df.fillna(0)\n",
    "\n",
    "    # check NaN count\n",
    "    assert dataset_df.isnull().values.sum() == 0\n",
    "    \n",
    "    \n",
    "dataset_df.head()"
   ]
  },
  {
   "cell_type": "code",
   "execution_count": 10,
   "metadata": {
    "collapsed": false
   },
   "outputs": [
    {
     "data": {
      "text/plain": [
       "[<matplotlib.lines.Line2D at 0x11bd34748>]"
      ]
     },
     "execution_count": 10,
     "metadata": {},
     "output_type": "execute_result"
    },
    {
     "data": {
      "image/png": "[encoded data removed]",
      "text/plain": [
       "<matplotlib.figure.Figure at 0x119a069e8>"
      ]
     },
     "metadata": {},
     "output_type": "display_data"
    }
   ],
   "source": [
    "plt.figure(figsize=(12, 4))\n",
    "plt.plot(np.array(dataset_df[\"max\"])/400)\n",
    "plt.plot(np.array(dataset_df[\"label\"]))"
   ]
  },
  {
   "cell_type": "code",
   "execution_count": 41,
   "metadata": {
    "collapsed": false
   },
   "outputs": [
    {
     "data": {
      "text/plain": [
       "Index(['Fri', 'Mon', 'Sat', 'Sun', 'Thurs', 'Tue', 'Wed', 'area_ratio',\n",
       "       'degree_mean', 'degree_std', 'diver', 'down', 'feed', 'grid_0_0',\n",
       "       'grid_0_1', 'grid_0_2', 'grid_0_3', 'grid_0_4', 'grid_0_5', 'grid_0_6',\n",
       "       'grid_0_7', 'label', 'left', 'left_down', 'left_up', 'max',\n",
       "       'max_index_grid_0_0', 'max_index_grid_0_1', 'max_index_grid_0_2',\n",
       "       'max_index_grid_0_3', 'max_index_grid_0_4', 'max_index_grid_0_5',\n",
       "       'max_index_grid_0_6', 'max_index_grid_0_7', 'mean', 'overall_dir_down',\n",
       "       'overall_dir_left', 'overall_dir_left_down', 'overall_dir_left_up',\n",
       "       'overall_dir_right', 'overall_dir_right_down', 'overall_dir_right_up',\n",
       "       'right', 'right_down', 'right_up', 'up', 'var'],\n",
       "      dtype='object')"
      ]
     },
     "execution_count": 41,
     "metadata": {},
     "output_type": "execute_result"
    }
   ],
   "source": [
    "dataset_df.columns"
   ]
  },
  {
   "cell_type": "code",
   "execution_count": 57,
   "metadata": {
    "collapsed": false
   },
   "outputs": [
    {
     "name": "stdout",
     "output_type": "stream",
     "text": [
      "***************** Train *****************\n",
      "Normal: 143148\n",
      "Anormal: 629\n",
      "Anormaly rate [%]: 0.4394053706653254\n"
     ]
    }
   ],
   "source": [
    "# check data balance, and convert numpy\n",
    "y_train = dataset_df[\"label\"].values\n",
    "print(\"***************** Train *****************\")\n",
    "print(\"Normal: {}\".format(np.sum(y_train==0)))\n",
    "print(\"Anormal: {}\".format(np.sum(y_train==1)))\n",
    "print(\"Anormaly rate [%]: {}\".format(100*(np.sum(y_train==1)/np.sum(y_train==0))))\n",
    "\n",
    "dataset_df = dataset_df.drop([\"label\"], axis=1)\n",
    "X_train = dataset_df.values"
   ]
  },
  {
   "cell_type": "code",
   "execution_count": 58,
   "metadata": {
    "collapsed": false
   },
   "outputs": [
    {
     "name": "stdout",
     "output_type": "stream",
     "text": [
      "***************** Test *****************\n",
      "Normal: 28615\n",
      "Anormal: 141\n",
      "Anormaly rate [%]: 0.49274855844836624\n"
     ]
    }
   ],
   "source": [
    "test_df = pd.DataFrame(columns=dataset_df.columns)\n",
    "\n",
    "for t_idx in range(9, 17):\n",
    "    tmp_test_df = pd.read_csv(\"../../data/datasets/20170422/normalize/time_series_{0}.csv\".format(t_idx))\n",
    "\n",
    "    # check NaN count\n",
    "    assert tmp_test_df.isnull().values.sum() == 0\n",
    "\n",
    "    test_df = pd.concat([test_df, tmp_test_df])\n",
    "\n",
    "\n",
    "test_df = test_df.fillna(0)\n",
    "\n",
    "# check NaN count\n",
    "assert test_df.isnull().values.sum() == 0\n",
    "    \n",
    "# check data balance, and convert numpy\n",
    "y_test = test_df[\"label\"].values\n",
    "print(\"***************** Test *****************\")\n",
    "print(\"Normal: {}\".format(np.sum(y_test==0)))\n",
    "print(\"Anormal: {}\".format(np.sum(y_test==1)))\n",
    "print(\"Anormaly rate [%]: {}\".format(100*(np.sum(y_test==1)/np.sum(y_test==0))))\n",
    "\n",
    "#test_df = test_df.drop([\"label\", \"max\"], axis=1)\n",
    "test_df = test_df.drop(\"label\", axis=1)\n",
    "X_test = test_df.values"
   ]
  },
  {
   "cell_type": "code",
   "execution_count": null,
   "metadata": {
    "collapsed": false
   },
   "outputs": [],
   "source": []
  },
  {
   "cell_type": "code",
   "execution_count": 59,
   "metadata": {
    "collapsed": false
   },
   "outputs": [
    {
     "data": {
      "text/plain": [
       "LogisticRegression(C=1.0, class_weight='balanced', dual=False,\n",
       "          fit_intercept=True, intercept_scaling=1, max_iter=100,\n",
       "          multi_class='ovr', n_jobs=1, penalty='l2', random_state=0,\n",
       "          solver='liblinear', tol=0.0001, verbose=0, warm_start=False)"
      ]
     },
     "execution_count": 59,
     "metadata": {},
     "output_type": "execute_result"
    }
   ],
   "source": [
    "#clf = LogisticRegression(random_state=0, solver=\"lbfgs\", multi_class=\"multinomial\", class_weight=\"balanced\")\n",
    "clf = LogisticRegression(random_state=0, class_weight=\"balanced\")\n",
    "clf.fit(X_train, y_train)"
   ]
  },
  {
   "cell_type": "code",
   "execution_count": 60,
   "metadata": {
    "collapsed": false
   },
   "outputs": [
    {
     "name": "stdout",
     "output_type": "stream",
     "text": [
      "*********************************************\n",
      "Train Accuracy: 0.9893237444097457\n",
      "Train Recall: 0.8807631160572337\n",
      "Train Precision: 0.27507447864945384\n",
      "*********************************************\n",
      "*********************************************\n",
      "Test Accuracy: 0.9872026707469745\n",
      "Test Recall: 0.9432624113475178\n",
      "Test Precision: 0.2697768762677485\n",
      "*********************************************\n"
     ]
    }
   ],
   "source": [
    "train_pred = clf.predict_proba(X_train)[:, 1]\n",
    "train_pred[train_pred <= 0.9] = 0\n",
    "train_pred[train_pred > 0.9] = 1\n",
    "test_pred = clf.predict_proba(X_test)[:, 1]\n",
    "test_pred[test_pred <= 0.9] = 0\n",
    "test_pred[test_pred > 0.9] = 1\n",
    "\n",
    "train_acc = accuracy_score(y_train, train_pred)\n",
    "train_recall = recall_score(y_train, train_pred)\n",
    "train_precision = precision_score(y_train, train_pred)\n",
    "\n",
    "test_acc = accuracy_score(y_test, test_pred)\n",
    "test_recall = recall_score(y_test, test_pred)\n",
    "test_precision = precision_score(y_test, test_pred)\n",
    "\n",
    "print(\"*********************************************\")\n",
    "print(\"Train Accuracy: {}\".format(train_acc))\n",
    "print(\"Train Recall: {}\".format(train_recall))\n",
    "print(\"Train Precision: {}\".format(train_precision))\n",
    "print(\"*********************************************\")\n",
    "\n",
    "print(\"*********************************************\")\n",
    "print(\"Test Accuracy: {}\".format(test_acc))\n",
    "print(\"Test Recall: {}\".format(test_recall))\n",
    "print(\"Test Precision: {}\".format(test_precision))\n",
    "print(\"*********************************************\")"
   ]
  },
  {
   "cell_type": "markdown",
   "metadata": {},
   "source": [
    "### default  \n",
    "*********************************************  \n",
    "Train Accuracy: 0.9640137156847062  \n",
    "Train Recall: 0.9523052464228935  \n",
    "Train Precision: 0.104300888037611  \n",
    "*********************************************  \n",
    "*********************************************  \n",
    "Test Accuracy: 0.9522534427597719  \n",
    "Test Recall: 0.9787234042553191  \n",
    "Test Precision: 0.09151193633952255  \n",
    "*********************************************  \n",
    "\n",
    "### normalize\n",
    "*********************************************  \n",
    "Train Accuracy: 0.8706121285045592  \n",
    "Train Recall: 0.8505564387917329  \n",
    "Train Precision: 0.02809283763915144  \n",
    "*********************************************  \n",
    "*********************************************  \n",
    "Test Accuracy: 0.9157393239671721  \n",
    "Test Recall: 0.9361702127659575  \n",
    "Test Precision: 0.051846032992930086  \n",
    "*********************************************  "
   ]
  },
  {
   "cell_type": "code",
   "execution_count": 46,
   "metadata": {
    "collapsed": false
   },
   "outputs": [],
   "source": [
    "test_pred = clf.predict_proba(X_test)[:, 1]"
   ]
  },
  {
   "cell_type": "code",
   "execution_count": 47,
   "metadata": {
    "collapsed": false
   },
   "outputs": [
    {
     "data": {
      "text/plain": [
       "array([0.0318445 , 0.17400197, 0.19750538, ..., 0.20680192, 0.23044862,\n",
       "       0.20502637])"
      ]
     },
     "execution_count": 47,
     "metadata": {},
     "output_type": "execute_result"
    }
   ],
   "source": [
    "test_pred"
   ]
  },
  {
   "cell_type": "code",
   "execution_count": 48,
   "metadata": {
    "collapsed": false
   },
   "outputs": [
    {
     "data": {
      "text/plain": [
       "array([0. , 0.1, 0.2, 0.3, 0.4, 0.5, 0.6, 0.7, 0.8, 0.9])"
      ]
     },
     "execution_count": 48,
     "metadata": {},
     "output_type": "execute_result"
    }
   ],
   "source": [
    "test_pred = np.array(test_pred*10, dtype=int)\n",
    "test_pred = np.array(test_pred/10, dtype=float)\n",
    "np.unique(test_pred)"
   ]
  },
  {
   "cell_type": "code",
   "execution_count": null,
   "metadata": {
    "collapsed": false
   },
   "outputs": [],
   "source": []
  },
  {
   "cell_type": "code",
   "execution_count": 49,
   "metadata": {
    "collapsed": false
   },
   "outputs": [],
   "source": [
    "true_dct = defaultdict(int)\n",
    "false_dct = defaultdict(int)\n",
    "label_cnt = defaultdict(int)\n",
    "\n",
    "for i in range(len(test_pred)):\n",
    "    label_cnt[test_pred[i]] += 1\n",
    "    if y_test[i] > 0:\n",
    "        true_dct[test_pred[i]] += 1\n",
    "    else:\n",
    "        false_dct[test_pred[i]] += 1\n",
    "        \n",
    "for key in false_dct.keys():\n",
    "    true_dct[key] /= label_cnt[key]\n",
    "    false_dct[key] /= label_cnt[key]"
   ]
  },
  {
   "cell_type": "code",
   "execution_count": 50,
   "metadata": {
    "collapsed": false,
    "scrolled": true
   },
   "outputs": [
    {
     "data": {
      "text/plain": [
       "defaultdict(int,\n",
       "            {0.0: 0.0,\n",
       "             0.1: 0.0,\n",
       "             0.2: 0.0002848191398461977,\n",
       "             0.3: 0.003457814661134163,\n",
       "             0.4: 0.0035842293906810036,\n",
       "             0.5: 0.01206896551724138,\n",
       "             0.6: 0.017316017316017316,\n",
       "             0.7: 0.010683760683760684,\n",
       "             0.8: 0.030303030303030304,\n",
       "             0.9: 0.17929759704251386})"
      ]
     },
     "execution_count": 50,
     "metadata": {},
     "output_type": "execute_result"
    }
   ],
   "source": [
    "true_dct"
   ]
  },
  {
   "cell_type": "code",
   "execution_count": 51,
   "metadata": {
    "collapsed": false
   },
   "outputs": [
    {
     "data": {
      "text/plain": [
       "defaultdict(int,\n",
       "            {0.0: 1.0,\n",
       "             0.1: 1.0,\n",
       "             0.2: 0.9997151808601538,\n",
       "             0.3: 0.9965421853388658,\n",
       "             0.4: 0.996415770609319,\n",
       "             0.5: 0.9879310344827587,\n",
       "             0.6: 0.9826839826839827,\n",
       "             0.7: 0.9893162393162394,\n",
       "             0.8: 0.9696969696969697,\n",
       "             0.9: 0.8207024029574861})"
      ]
     },
     "execution_count": 51,
     "metadata": {},
     "output_type": "execute_result"
    }
   ],
   "source": [
    "false_dct"
   ]
  },
  {
   "cell_type": "code",
   "execution_count": 52,
   "metadata": {
    "collapsed": false
   },
   "outputs": [
    {
     "data": {
      "text/plain": [
       "<Container object of 10 artists>"
      ]
     },
     "execution_count": 52,
     "metadata": {},
     "output_type": "execute_result"
    },
    {
     "data": {
      "image/png": "[encoded data removed]",
      "text/plain": [
       "<matplotlib.figure.Figure at 0x11dcad0f0>"
      ]
     },
     "metadata": {},
     "output_type": "display_data"
    }
   ],
   "source": [
    "value_lst = []\n",
    "name_lst = []\n",
    "\n",
    "for k, v in sorted(true_dct.items()):\n",
    "    value_lst.append(v)\n",
    "    name_lst.append(k)\n",
    "    \n",
    "\n",
    "plt.title(\"accelaration rate \")\n",
    "plt.xlabel(\"anormaly level\")\n",
    "plt.ylabel(\"rate\")\n",
    "plt.bar(range(len(true_dct)), value_lst, tick_label=name_lst)"
   ]
  },
  {
   "cell_type": "code",
   "execution_count": 53,
   "metadata": {
    "collapsed": false
   },
   "outputs": [
    {
     "data": {
      "text/plain": [
       "<Container object of 10 artists>"
      ]
     },
     "execution_count": 53,
     "metadata": {},
     "output_type": "execute_result"
    },
    {
     "data": {
      "image/png": "[encoded data removed]",
      "text/plain": [
       "<matplotlib.figure.Figure at 0x11dcadbe0>"
      ]
     },
     "metadata": {},
     "output_type": "display_data"
    }
   ],
   "source": [
    "value_lst = []\n",
    "name_lst = []\n",
    "\n",
    "for k, v in sorted(false_dct.items()):\n",
    "    value_lst.append(v)\n",
    "    name_lst.append(k)\n",
    "\n",
    "plt.title(\"normal rate \")\n",
    "plt.xlabel(\"anormaly level\")\n",
    "plt.ylabel(\"rate\")\n",
    "plt.bar(range(len(false_dct)), value_lst, tick_label=name_lst)"
   ]
  },
  {
   "cell_type": "code",
   "execution_count": 39,
   "metadata": {
    "collapsed": false
   },
   "outputs": [
    {
     "name": "stdout",
     "output_type": "stream",
     "text": [
      "right : 12.392099449688533\n",
      "feed : -10.649405272001609\n",
      "right_up : 8.188637314987771\n",
      "left_down : -8.089089211479626\n",
      "area_ratio : -6.994599629675853\n",
      "down : -6.052530223870274\n",
      "left_up : -5.086673083963745\n",
      "up : -2.9779994213942476\n",
      "left : -2.9778374770943805\n",
      "Thurs : -2.1013412932330287\n",
      "Tue : -1.7048652012171965\n",
      "overall_dir_left : -1.5100432691437855\n",
      "overall_dir_right : -1.4536551369360287\n",
      "Mon : -1.4444004921326175\n",
      "overall_dir_right_down : -1.1848518609388277\n",
      "overall_dir_left_up : -1.1787937662135983\n",
      "max_index_grid_0_1 : -1.1644763679014132\n",
      "diver : 1.125263617261483\n",
      "max_index_grid_0_3 : -1.0868691305853726\n",
      "max_index_grid_0_4 : -0.8918353385643489\n",
      "max_index_grid_0_5 : -0.8490111237925229\n",
      "right_down : -0.7554480492155055\n",
      "max_index_grid_0_6 : -0.7205680170274293\n",
      "max_index_grid_0_2 : -0.4361797970870246\n",
      "grid_0_0 : -0.17373413209073563\n",
      "max_index_grid_0_7 : -0.16981785277551326\n",
      "max : 0.13284982377717997\n",
      "grid_0_5 : 0.1266383689948969\n",
      "grid_0_3 : 0.10961545483049381\n",
      "Fri : -0.10823371576628099\n",
      "grid_0_6 : 0.10159279728198137\n",
      "max_count : -0.10031590316446692\n",
      "overall_dir_right_up : -0.09667164538598964\n",
      "grid_0_1 : 0.08941972870037956\n",
      "degree_std : -0.08746112206504138\n",
      "mean : -0.08662157818819838\n",
      "grid_0_7 : 0.0847013544842437\n",
      "grid_0_4 : -0.08065118030674294\n",
      "overall_dir_left_down : 0.06519779006234629\n",
      "max_index_grid_0_0 : -0.04008307460926861\n",
      "degree_mean : 0.020968251967495112\n",
      "grid_0_2 : 0.018702668273798\n",
      "var : 0.0008401382669869253\n",
      "overall_dir_down : -2.281379078307583e-05\n",
      "Wed : 0.0\n",
      "Sun : 0.0\n",
      "Sat : 0.0\n"
     ]
    }
   ],
   "source": [
    "coef_dict = {}\n",
    "for value, col in zip(clf.coef_[0,:], dataset_df.columns):\n",
    "    coef_dict[col] = value\n",
    "    \n",
    "for key, value in sorted(coef_dict.items(), key=lambda x: -abs(x[1])):\n",
    "    print(\"{} : {}\".format(key, value))"
   ]
  },
  {
   "cell_type": "code",
   "execution_count": null,
   "metadata": {
    "collapsed": false
   },
   "outputs": [],
   "source": []
  },
  {
   "cell_type": "markdown",
   "metadata": {},
   "source": [
    "# test"
   ]
  },
  {
   "cell_type": "code",
   "execution_count": 299,
   "metadata": {
    "collapsed": true
   },
   "outputs": [],
   "source": [
    "def conv_level(pred_arr):\n",
    "    conv_arr = np.array(pred_arr*10, dtype=int)\n",
    "    conv_arr = np.array(conv_arr/10, dtype=float)\n",
    "    return conv_arr"
   ]
  },
  {
   "cell_type": "code",
   "execution_count": 328,
   "metadata": {
    "collapsed": false
   },
   "outputs": [
    {
     "data": {
      "text/html": [
       "<div>\n",
       "<style scoped>\n",
       "    .dataframe tbody tr th:only-of-type {\n",
       "        vertical-align: middle;\n",
       "    }\n",
       "\n",
       "    .dataframe tbody tr th {\n",
       "        vertical-align: top;\n",
       "    }\n",
       "\n",
       "    .dataframe thead th {\n",
       "        text-align: right;\n",
       "    }\n",
       "</style>\n",
       "<table border=\"1\" class=\"dataframe\">\n",
       "  <thead>\n",
       "    <tr style=\"text-align: right;\">\n",
       "      <th></th>\n",
       "      <th>Fri</th>\n",
       "      <th>Mon</th>\n",
       "      <th>Sat</th>\n",
       "      <th>Sun</th>\n",
       "      <th>Thurs</th>\n",
       "      <th>Tue</th>\n",
       "      <th>Wed</th>\n",
       "      <th>area_ratio</th>\n",
       "      <th>degree_mean</th>\n",
       "      <th>degree_std</th>\n",
       "      <th>...</th>\n",
       "      <th>overall_dir_left_down</th>\n",
       "      <th>overall_dir_left_up</th>\n",
       "      <th>overall_dir_right</th>\n",
       "      <th>overall_dir_right_down</th>\n",
       "      <th>overall_dir_right_up</th>\n",
       "      <th>right</th>\n",
       "      <th>right_down</th>\n",
       "      <th>right_up</th>\n",
       "      <th>up</th>\n",
       "      <th>var</th>\n",
       "    </tr>\n",
       "  </thead>\n",
       "  <tbody>\n",
       "    <tr>\n",
       "      <th>0</th>\n",
       "      <td>0</td>\n",
       "      <td>0</td>\n",
       "      <td>1</td>\n",
       "      <td>0</td>\n",
       "      <td>0</td>\n",
       "      <td>0</td>\n",
       "      <td>0</td>\n",
       "      <td>0.000030</td>\n",
       "      <td>149.783784</td>\n",
       "      <td>119.499663</td>\n",
       "      <td>...</td>\n",
       "      <td>0</td>\n",
       "      <td>0</td>\n",
       "      <td>1</td>\n",
       "      <td>0</td>\n",
       "      <td>0</td>\n",
       "      <td>0.297297</td>\n",
       "      <td>0.054054</td>\n",
       "      <td>0.189189</td>\n",
       "      <td>0.027027</td>\n",
       "      <td>0.0000</td>\n",
       "    </tr>\n",
       "    <tr>\n",
       "      <th>1</th>\n",
       "      <td>0</td>\n",
       "      <td>0</td>\n",
       "      <td>1</td>\n",
       "      <td>0</td>\n",
       "      <td>0</td>\n",
       "      <td>0</td>\n",
       "      <td>0</td>\n",
       "      <td>0.000045</td>\n",
       "      <td>121.428571</td>\n",
       "      <td>116.511422</td>\n",
       "      <td>...</td>\n",
       "      <td>0</td>\n",
       "      <td>0</td>\n",
       "      <td>1</td>\n",
       "      <td>0</td>\n",
       "      <td>0</td>\n",
       "      <td>0.357143</td>\n",
       "      <td>0.119048</td>\n",
       "      <td>0.095238</td>\n",
       "      <td>0.000000</td>\n",
       "      <td>19.7564</td>\n",
       "    </tr>\n",
       "    <tr>\n",
       "      <th>2</th>\n",
       "      <td>0</td>\n",
       "      <td>0</td>\n",
       "      <td>1</td>\n",
       "      <td>0</td>\n",
       "      <td>0</td>\n",
       "      <td>0</td>\n",
       "      <td>0</td>\n",
       "      <td>0.000000</td>\n",
       "      <td>106.333333</td>\n",
       "      <td>124.348301</td>\n",
       "      <td>...</td>\n",
       "      <td>0</td>\n",
       "      <td>0</td>\n",
       "      <td>1</td>\n",
       "      <td>0</td>\n",
       "      <td>0</td>\n",
       "      <td>0.472222</td>\n",
       "      <td>0.083333</td>\n",
       "      <td>0.111111</td>\n",
       "      <td>0.027778</td>\n",
       "      <td>23.1904</td>\n",
       "    </tr>\n",
       "    <tr>\n",
       "      <th>3</th>\n",
       "      <td>0</td>\n",
       "      <td>0</td>\n",
       "      <td>1</td>\n",
       "      <td>0</td>\n",
       "      <td>0</td>\n",
       "      <td>0</td>\n",
       "      <td>0</td>\n",
       "      <td>0.000045</td>\n",
       "      <td>111.000000</td>\n",
       "      <td>140.305549</td>\n",
       "      <td>...</td>\n",
       "      <td>0</td>\n",
       "      <td>0</td>\n",
       "      <td>1</td>\n",
       "      <td>0</td>\n",
       "      <td>0</td>\n",
       "      <td>0.500000</td>\n",
       "      <td>0.088235</td>\n",
       "      <td>0.205882</td>\n",
       "      <td>0.000000</td>\n",
       "      <td>20.9167</td>\n",
       "    </tr>\n",
       "    <tr>\n",
       "      <th>4</th>\n",
       "      <td>0</td>\n",
       "      <td>0</td>\n",
       "      <td>1</td>\n",
       "      <td>0</td>\n",
       "      <td>0</td>\n",
       "      <td>0</td>\n",
       "      <td>0</td>\n",
       "      <td>0.000000</td>\n",
       "      <td>86.454545</td>\n",
       "      <td>129.904415</td>\n",
       "      <td>...</td>\n",
       "      <td>0</td>\n",
       "      <td>0</td>\n",
       "      <td>1</td>\n",
       "      <td>0</td>\n",
       "      <td>0</td>\n",
       "      <td>0.666667</td>\n",
       "      <td>0.060606</td>\n",
       "      <td>0.090909</td>\n",
       "      <td>0.000000</td>\n",
       "      <td>21.9560</td>\n",
       "    </tr>\n",
       "  </tbody>\n",
       "</table>\n",
       "<p>5 rows × 48 columns</p>\n",
       "</div>"
      ],
      "text/plain": [
       "   Fri  Mon  Sat  Sun  Thurs  Tue  Wed  area_ratio  degree_mean  degree_std  \\\n",
       "0    0    0    1    0      0    0    0    0.000030   149.783784  119.499663   \n",
       "1    0    0    1    0      0    0    0    0.000045   121.428571  116.511422   \n",
       "2    0    0    1    0      0    0    0    0.000000   106.333333  124.348301   \n",
       "3    0    0    1    0      0    0    0    0.000045   111.000000  140.305549   \n",
       "4    0    0    1    0      0    0    0    0.000000    86.454545  129.904415   \n",
       "\n",
       "    ...     overall_dir_left_down  overall_dir_left_up  overall_dir_right  \\\n",
       "0   ...                         0                    0                  1   \n",
       "1   ...                         0                    0                  1   \n",
       "2   ...                         0                    0                  1   \n",
       "3   ...                         0                    0                  1   \n",
       "4   ...                         0                    0                  1   \n",
       "\n",
       "   overall_dir_right_down  overall_dir_right_up     right  right_down  \\\n",
       "0                       0                     0  0.297297    0.054054   \n",
       "1                       0                     0  0.357143    0.119048   \n",
       "2                       0                     0  0.472222    0.083333   \n",
       "3                       0                     0  0.500000    0.088235   \n",
       "4                       0                     0  0.666667    0.060606   \n",
       "\n",
       "   right_up        up      var  \n",
       "0  0.189189  0.027027   0.0000  \n",
       "1  0.095238  0.000000  19.7564  \n",
       "2  0.111111  0.027778  23.1904  \n",
       "3  0.205882  0.000000  20.9167  \n",
       "4  0.090909  0.000000  21.9560  \n",
       "\n",
       "[5 rows x 48 columns]"
      ]
     },
     "execution_count": 328,
     "metadata": {},
     "output_type": "execute_result"
    }
   ],
   "source": [
    "test_df = pd.DataFrame(columns=dataset_df.columns)\n",
    "\n",
    "for t_idx in range(9, 17):\n",
    "    tmp_test_df = pd.read_csv(\"../../data/datasets_10/20170422/time_series_{0}.csv\".format(t_idx))\n",
    "\n",
    "    # check NaN count\n",
    "    assert tmp_test_df.isnull().values.sum() == 0\n",
    "\n",
    "    test_df = pd.concat([test_df, tmp_test_df])\n",
    "\n",
    "\n",
    "test_df = test_df.fillna(0)\n",
    "\n",
    "# check NaN count\n",
    "assert test_df.isnull().values.sum() == 0\n",
    "\n",
    "# drop label\n",
    "#test_df = test_df.drop(\"label\", axis=1)\n",
    "\n",
    "test_df.head()"
   ]
  },
  {
   "cell_type": "code",
   "execution_count": 329,
   "metadata": {
    "collapsed": false
   },
   "outputs": [
    {
     "data": {
      "text/plain": [
       "(28756, 47)"
      ]
     },
     "execution_count": 329,
     "metadata": {},
     "output_type": "execute_result"
    }
   ],
   "source": [
    "test_data = test_df.drop(\"label\", axis=1).values\n",
    "test_data.shape"
   ]
  },
  {
   "cell_type": "code",
   "execution_count": 330,
   "metadata": {
    "collapsed": false
   },
   "outputs": [],
   "source": [
    "conv_arr = conv_level(clf.predict_proba(test_data)[:, 1])\n",
    "test_df[\"pred\"] = conv_arr"
   ]
  },
  {
   "cell_type": "code",
   "execution_count": null,
   "metadata": {
    "collapsed": false
   },
   "outputs": [],
   "source": []
  },
  {
   "cell_type": "code",
   "execution_count": 331,
   "metadata": {
    "collapsed": false
   },
   "outputs": [
    {
     "data": {
      "text/plain": [
       "[<matplotlib.lines.Line2D at 0x17c20e518>]"
      ]
     },
     "execution_count": 331,
     "metadata": {},
     "output_type": "execute_result"
    },
    {
     "data": {
      "image/png": "[encoded data removed]",
      "text/plain": [
       "<matplotlib.figure.Figure at 0x1612dd080>"
      ]
     },
     "metadata": {},
     "output_type": "display_data"
    }
   ],
   "source": [
    "plt.figure(figsize=(16, 4))\n",
    "plt.plot(np.array(test_df[\"max\"]))\n",
    "plt.plot(test_pred*400)"
   ]
  },
  {
   "cell_type": "code",
   "execution_count": 332,
   "metadata": {
    "collapsed": false
   },
   "outputs": [
    {
     "name": "stdout",
     "output_type": "stream",
     "text": [
      "Accuracy: 0.4354221727639449\n",
      "Recall: 0.8307086614173228\n",
      "Precision: 0.049920151416573015\n"
     ]
    }
   ],
   "source": [
    "test_pred = clf.predict_proba(test_data)[:, 1]\n",
    "test_pred[test_pred <= 0.5] = 0\n",
    "test_pred[test_pred > 0.5] = 1\n",
    "\n",
    "print(\"Accuracy: {}\".format(accuracy_score(test_df[\"label\"].values, test_pred)))\n",
    "print(\"Recall: {}\".format(recall_score(test_df[\"label\"].values, test_pred)))\n",
    "print(\"Precision: {}\".format(precision_score(test_df[\"label\"].values, test_pred)))"
   ]
  },
  {
   "cell_type": "code",
   "execution_count": null,
   "metadata": {
    "collapsed": false
   },
   "outputs": [],
   "source": []
  },
  {
   "cell_type": "code",
   "execution_count": null,
   "metadata": {
    "collapsed": true
   },
   "outputs": [],
   "source": []
  }
 ],
 "metadata": {
  "anaconda-cloud": {},
  "kernelspec": {
   "display_name": "Python [conda env:anaconda3-4.2.0]",
   "language": "python",
   "name": "conda-env-anaconda3-4.2.0-py"
  },
  "language_info": {
   "codemirror_mode": {
    "name": "ipython",
    "version": 3
   },
   "file_extension": ".py",
   "mimetype": "text/x-python",
   "name": "python",
   "nbconvert_exporter": "python",
   "pygments_lexer": "ipython3",
   "version": "3.5.2"
  }
 },
 "nbformat": 4,
 "nbformat_minor": 1
}
