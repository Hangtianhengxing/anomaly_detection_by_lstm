{
 "cells": [
  {
   "cell_type": "code",
   "execution_count": 1,
   "metadata": {
    "collapsed": false,
    "scrolled": true
   },
   "outputs": [
    {
     "name": "stderr",
     "output_type": "stream",
     "text": [
      "/Users/sakka/.pyenv/versions/anaconda3-4.2.0/lib/python3.5/site-packages/lightgbm/__init__.py:46: UserWarning: Starting from version 2.2.1, the library file in distribution wheels for macOS is built by the Apple Clang (Xcode_8.3.1) compiler.\n",
      "This means that in case of installing LightGBM from PyPI via the ``pip install lightgbm`` command, you don't need to install the gcc compiler anymore.\n",
      "Instead of that, you need to install the OpenMP library, which is required for running LightGBM on the system with the Apple Clang compiler.\n",
      "You can install the OpenMP library by the following command: ``brew install libomp``.\n",
      "  \"You can install the OpenMP library by the following command: ``brew install libomp``.\", UserWarning)\n"
     ]
    }
   ],
   "source": [
    "import lightgbm as lgb\n",
    "from sklearn.model_selection import train_test_split\n",
    "from sklearn.model_selection import GridSearchCV\n",
    "from sklearn.metrics import accuracy_score\n",
    "from sklearn.metrics import precision_score\n",
    "from sklearn.metrics import recall_score\n",
    "from sklearn.metrics import confusion_matrix\n",
    "from sklearn.metrics import classification_report"
   ]
  },
  {
   "cell_type": "markdown",
   "metadata": {},
   "source": [
    "# Datasets"
   ]
  },
  {
   "cell_type": "code",
   "execution_count": 16,
   "metadata": {
    "collapsed": true
   },
   "outputs": [],
   "source": [
    "train_df = pd.read_csv(\"../../data/datasets/train_600_10.csv\")\n",
    "test_df = pd.read_csv(\"../../data/datasets/test_600_10.csv\")"
   ]
  },
  {
   "cell_type": "code",
   "execution_count": 17,
   "metadata": {
    "collapsed": false
   },
   "outputs": [
    {
     "name": "stdout",
     "output_type": "stream",
     "text": [
      "***************** Train *****************\n",
      "Level 1: 93648 (47.542123779692254 %)\n",
      "Level 2: 31345 (15.912863807817077 %)\n",
      "Level 3: 61618 (31.28150716573848 %)\n",
      "Level 4: 9750 (4.949766218733977 %)\n",
      "Level 5: 618 (0.3137390280182151 %)\n",
      "****************************************\n",
      "Train shape: (196979, 2946)\n"
     ]
    }
   ],
   "source": [
    "# check data balance, and convert numpy\n",
    "y_train = train_df[\"label\"].values\n",
    "print(\"***************** Train *****************\")\n",
    "print(\"Level 1: {0} ({1} %)\".format(np.sum(y_train == 0), 100*np.sum(y_train == 0)/len(y_train)))\n",
    "print(\"Level 2: {0} ({1} %)\".format(np.sum(y_train == 1), 100*np.sum(y_train == 1)/len(y_train)))\n",
    "print(\"Level 3: {0} ({1} %)\".format(np.sum(y_train == 2), 100*np.sum(y_train == 2)/len(y_train)))\n",
    "print(\"Level 4: {0} ({1} %)\".format(np.sum(y_train == 3), 100*np.sum(y_train == 3)/len(y_train)))\n",
    "print(\"Level 5: {0} ({1} %)\".format(np.sum(y_train == 4), 100*np.sum(y_train == 4)/len(y_train)))\n",
    "print(\"****************************************\")\n",
    "\n",
    "#dataset_df = dataset_df.drop([\"label\", \"max\", \"var\"], axis=1)\n",
    "train_df = train_df.drop([\"label\"], axis=1)\n",
    "X_train = train_df.values\n",
    "\n",
    "print(\"Train shape: {}\".format(X_train.shape))"
   ]
  },
  {
   "cell_type": "code",
   "execution_count": 18,
   "metadata": {
    "collapsed": false
   },
   "outputs": [
    {
     "name": "stdout",
     "output_type": "stream",
     "text": [
      "***************** Test *****************\n",
      "Level 1: 14903 (52.960199004975124 %)\n",
      "Level 2: 3888 (13.816631130063966 %)\n",
      "Level 3: 8072 (28.68514570007107 %)\n",
      "Level 4: 1207 (4.289267945984364 %)\n",
      "Level 5: 70 (0.24875621890547264 %)\n",
      "****************************************\n",
      "Test shape: (28140, 2946)\n"
     ]
    }
   ],
   "source": [
    "# check data balance, and convert numpy\n",
    "y_test = test_df[\"label\"].values\n",
    "print(\"***************** Test *****************\")\n",
    "print(\"Level 1: {0} ({1} %)\".format(np.sum(y_test == 0), 100*np.sum(y_test == 0)/len(y_test)))\n",
    "print(\"Level 2: {0} ({1} %)\".format(np.sum(y_test == 1), 100*np.sum(y_test == 1)/len(y_test)))\n",
    "print(\"Level 3: {0} ({1} %)\".format(np.sum(y_test == 2), 100*np.sum(y_test == 2)/len(y_test)))\n",
    "print(\"Level 4: {0} ({1} %)\".format(np.sum(y_test == 3), 100*np.sum(y_test == 3)/len(y_test)))\n",
    "print(\"Level 5: {0} ({1} %)\".format(np.sum(y_test == 4), 100*np.sum(y_test == 4)/len(y_test)))\n",
    "print(\"****************************************\")\n",
    "\n",
    "#test_df = test_df.drop([\"label\", \"max\", \"var\"], axis=1)\n",
    "test_df = test_df.drop(\"label\", axis=1)\n",
    "X_test = test_df.values\n",
    "\n",
    "print(\"Test shape: {}\".format(X_test.shape))"
   ]
  },
  {
   "cell_type": "code",
   "execution_count": null,
   "metadata": {
    "collapsed": false
   },
   "outputs": [],
   "source": []
  },
  {
   "cell_type": "markdown",
   "metadata": {},
   "source": [
    "# Train"
   ]
  },
  {
   "cell_type": "code",
   "execution_count": 20,
   "metadata": {
    "collapsed": false
   },
   "outputs": [
    {
     "name": "stdout",
     "output_type": "stream",
     "text": [
      "[1]\tvalid_0's multi_logloss: 1.09286\n",
      "Training until validation scores don't improve for 5 rounds.\n",
      "[2]\tvalid_0's multi_logloss: 1.0787\n",
      "[3]\tvalid_0's multi_logloss: 1.06566\n",
      "[4]\tvalid_0's multi_logloss: 1.05546\n",
      "[5]\tvalid_0's multi_logloss: 1.04575\n",
      "[6]\tvalid_0's multi_logloss: 1.03735\n",
      "[7]\tvalid_0's multi_logloss: 1.02966\n",
      "[8]\tvalid_0's multi_logloss: 1.02316\n",
      "[9]\tvalid_0's multi_logloss: 1.01789\n",
      "[10]\tvalid_0's multi_logloss: 1.01301\n",
      "[11]\tvalid_0's multi_logloss: 1.00909\n",
      "[12]\tvalid_0's multi_logloss: 1.00514\n",
      "[13]\tvalid_0's multi_logloss: 1.00191\n",
      "[14]\tvalid_0's multi_logloss: 0.999534\n",
      "[15]\tvalid_0's multi_logloss: 0.997689\n",
      "[16]\tvalid_0's multi_logloss: 0.996074\n",
      "[17]\tvalid_0's multi_logloss: 0.994824\n",
      "[18]\tvalid_0's multi_logloss: 0.992774\n",
      "[19]\tvalid_0's multi_logloss: 0.991774\n",
      "[20]\tvalid_0's multi_logloss: 0.990362\n",
      "[21]\tvalid_0's multi_logloss: 0.989016\n",
      "[22]\tvalid_0's multi_logloss: 0.988079\n",
      "[23]\tvalid_0's multi_logloss: 0.98706\n",
      "[24]\tvalid_0's multi_logloss: 0.98671\n",
      "[25]\tvalid_0's multi_logloss: 0.985758\n",
      "[26]\tvalid_0's multi_logloss: 0.985296\n",
      "[27]\tvalid_0's multi_logloss: 0.984897\n",
      "[28]\tvalid_0's multi_logloss: 0.984585\n",
      "[29]\tvalid_0's multi_logloss: 0.983837\n",
      "[30]\tvalid_0's multi_logloss: 0.983492\n",
      "[31]\tvalid_0's multi_logloss: 0.983297\n",
      "[32]\tvalid_0's multi_logloss: 0.98345\n",
      "[33]\tvalid_0's multi_logloss: 0.983041\n",
      "[34]\tvalid_0's multi_logloss: 0.982989\n",
      "[35]\tvalid_0's multi_logloss: 0.982758\n",
      "[36]\tvalid_0's multi_logloss: 0.983785\n",
      "[37]\tvalid_0's multi_logloss: 0.984102\n",
      "[38]\tvalid_0's multi_logloss: 0.983606\n",
      "[39]\tvalid_0's multi_logloss: 0.9833\n",
      "[40]\tvalid_0's multi_logloss: 0.98343\n",
      "Early stopping, best iteration is:\n",
      "[35]\tvalid_0's multi_logloss: 0.982758\n"
     ]
    }
   ],
   "source": [
    "lgb_train = lgb.Dataset(X_train, y_train, feature_name=list(train_df.columns))\n",
    "lgb_test  = lgb.Dataset(X_test, y_test, reference=lgb_train)\n",
    "\n",
    "prams = {\n",
    "    'boosting_type': 'gbdt',\n",
    "    'objective': 'multiclass',\n",
    "    'num_class': 5,\n",
    "    'num_leaves' : 2**6, # changed\n",
    "    'learning_rate': 0.1,\n",
    "    'feature_fraction': 0.9,\n",
    "    'bagging_fraction': 0.9,\n",
    "    'metric': 'multi_logloss',\n",
    "    # added \n",
    "    'max_depth': 5,\n",
    "    'bagging_freq': 1,\n",
    "    'min_data_in_leaf': 1,\n",
    "    'min_sum_hessian_in_leaf': 1,\n",
    "    'lambda_l2': 1,\n",
    "    'verbose': -1,\n",
    "}\n",
    "\n",
    "gbm = lgb.train(prams,\n",
    "                lgb_train,\n",
    "                num_boost_round=100,\n",
    "                valid_sets=lgb_test,\n",
    "                early_stopping_rounds=5)"
   ]
  },
  {
   "cell_type": "code",
   "execution_count": 21,
   "metadata": {
    "collapsed": false
   },
   "outputs": [
    {
     "data": {
      "text/plain": [
       "array([2, 2, 2, ..., 2, 2, 2])"
      ]
     },
     "execution_count": 21,
     "metadata": {},
     "output_type": "execute_result"
    }
   ],
   "source": [
    "np.argmax(gbm.predict(X_test, num_iteration=gbm.best_iteration), axis=1)"
   ]
  },
  {
   "cell_type": "code",
   "execution_count": 22,
   "metadata": {
    "collapsed": false
   },
   "outputs": [
    {
     "name": "stdout",
     "output_type": "stream",
     "text": [
      "*********************************************\n",
      "Train Accuracy: 0.6165682636220104\n",
      "Confusion Matrix: \n",
      "[[73769    34 19832     0    13]\n",
      " [11091  1158 19089     0     7]\n",
      " [15694    12 45901     0    11]\n",
      " [ 2733     0  6998    12     7]\n",
      " [    2     0     5     0   611]]\n",
      "Classification report: \n",
      "             precision    recall  f1-score   support\n",
      "\n",
      "    level 1       0.71      0.79      0.75     93648\n",
      "    level 2       0.96      0.04      0.07     31345\n",
      "    level 3       0.50      0.74      0.60     61618\n",
      "    level 4       1.00      0.00      0.00      9750\n",
      "    level 5       0.94      0.99      0.96       618\n",
      "\n",
      "avg / total       0.70      0.62      0.56    196979\n",
      "\n",
      "*********************************************\n",
      "*********************************************\n",
      "Test Accuracy: 0.5735252309879175\n",
      "Confusion Matrix: \n",
      "[[11894    53  2953     0     3]\n",
      " [ 2194     4  1690     0     0]\n",
      " [ 3892     3  4172     1     4]\n",
      " [  555     0   651     0     1]\n",
      " [    1     0     0     0    69]]\n",
      "Classification report: \n",
      "             precision    recall  f1-score   support\n",
      "\n",
      "    level 1       0.64      0.80      0.71     14903\n",
      "    level 2       0.07      0.00      0.00      3888\n",
      "    level 3       0.44      0.52      0.48      8072\n",
      "    level 4       0.00      0.00      0.00      1207\n",
      "    level 5       0.90      0.99      0.94        70\n",
      "\n",
      "avg / total       0.48      0.57      0.52     28140\n",
      "\n",
      "*********************************************\n"
     ]
    }
   ],
   "source": [
    "pred_train = np.argmax(gbm.predict(X_train, num_iteration=gbm.best_iteration), axis=1)\n",
    "pred_test = np.argmax(gbm.predict(X_test, num_iteration=gbm.best_iteration), axis=1)\n",
    "\n",
    "train_acc = accuracy_score(y_train, pred_train)\n",
    "test_acc = accuracy_score(y_test, pred_test)\n",
    "\n",
    "target_names = [\"level 1\", \"level 2\", \"level 3\", \"level 4\", \"level 5\"]\n",
    "\n",
    "print(\"*********************************************\")\n",
    "print(\"Train Accuracy: {}\".format(train_acc))\n",
    "print(\"Confusion Matrix: \\n{}\".format(confusion_matrix(y_train, pred_train)))\n",
    "print(\"Classification report: \\n{}\".format(classification_report(y_train, pred_train, target_names=target_names)))\n",
    "print(\"*********************************************\")\n",
    "\n",
    "print(\"*********************************************\")\n",
    "print(\"Test Accuracy: {}\".format(test_acc))\n",
    "print(\"Confusion Matrix: \\n{}\".format(confusion_matrix(y_test, pred_test)))\n",
    "print(\"Classification report: \\n{}\".format(classification_report(y_test, pred_test, target_names=target_names)))\n",
    "print(\"*********************************************\")"
   ]
  },
  {
   "cell_type": "code",
   "execution_count": 23,
   "metadata": {
    "collapsed": false
   },
   "outputs": [
    {
     "data": {
      "text/plain": [
       "[<matplotlib.lines.Line2D at 0x122955a20>]"
      ]
     },
     "execution_count": 23,
     "metadata": {},
     "output_type": "execute_result"
    },
    {
     "data": {
      "image/png": "[encoded data removed]",
      "text/plain": [
       "<matplotlib.figure.Figure at 0x11ac738d0>"
      ]
     },
     "metadata": {},
     "output_type": "display_data"
    }
   ],
   "source": [
    "plt.figure(figsize=(16, 4))\n",
    "plt.plot(pred_test)"
   ]
  },
  {
   "cell_type": "markdown",
   "metadata": {
    "collapsed": true
   },
   "source": [
    "*********************************************\n",
    "Train Accuracy: 0.6518253113176818\n",
    "Confusion Matrix: \n",
    "[[75543    81 18358     3     4]\n",
    " [ 7648  1146 23764     4     3]\n",
    " [ 9642    80 52681     9     2]\n",
    " [ 1679    43  8156    73     4]\n",
    " [    0     0     0     0   632]]\n",
    "Classification report: \n",
    "             precision    recall  f1-score   support\n",
    "\n",
    "    level 1       0.80      0.80      0.80     93989\n",
    "    level 2       0.85      0.04      0.07     32565\n",
    "    level 3       0.51      0.84      0.64     62414\n",
    "    level 4       0.82      0.01      0.01      9955\n",
    "    level 5       0.98      1.00      0.99       632\n",
    "\n",
    "avg / total       0.72      0.65      0.59    199555\n",
    "\n",
    "*********************************************\n",
    "*********************************************\n",
    "Test Accuracy: 0.6644099901781956\n",
    "Confusion Matrix: \n",
    "[[11910     0  2976     0     4]\n",
    " [ 1103     1  2754     0     0]\n",
    " [ 1455     1  6956     1     6]\n",
    " [  192     0  1073     1     1]\n",
    " [    1     0     0     0    73]]\n",
    "Classification report: \n",
    "             precision    recall  f1-score   support\n",
    "\n",
    "    level 1       0.81      0.80      0.81     14890\n",
    "    level 2       0.50      0.00      0.00      3858\n",
    "    level 3       0.51      0.83      0.63      8419\n",
    "    level 4       0.50      0.00      0.00      1267\n",
    "    level 5       0.87      0.99      0.92        74\n",
    "\n",
    "avg / total       0.67      0.66      0.61     28508\n",
    "\n",
    "*********************************************"
   ]
  },
  {
   "cell_type": "code",
   "execution_count": null,
   "metadata": {
    "collapsed": true
   },
   "outputs": [],
   "source": []
  }
 ],
 "metadata": {
  "anaconda-cloud": {},
  "kernelspec": {
   "display_name": "Python [conda env:anaconda3-4.2.0]",
   "language": "python",
   "name": "conda-env-anaconda3-4.2.0-py"
  },
  "language_info": {
   "codemirror_mode": {
    "name": "ipython",
    "version": 3
   },
   "file_extension": ".py",
   "mimetype": "text/x-python",
   "name": "python",
   "nbconvert_exporter": "python",
   "pygments_lexer": "ipython3",
   "version": "3.5.4"
  }
 },
 "nbformat": 4,
 "nbformat_minor": 1
}
