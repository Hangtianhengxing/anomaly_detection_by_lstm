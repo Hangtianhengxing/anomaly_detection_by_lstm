{
 "cells": [
  {
   "cell_type": "code",
   "execution_count": 1,
   "metadata": {
    "collapsed": false
   },
   "outputs": [
    {
     "name": "stderr",
     "output_type": "stream",
     "text": [
      "/Users/sakka/.pyenv/versions/anaconda3-4.2.0/lib/python3.5/site-packages/lightgbm/__init__.py:46: UserWarning: Starting from version 2.2.1, the library file in distribution wheels for macOS is built by the Apple Clang (Xcode_8.3.1) compiler.\n",
      "This means that in case of installing LightGBM from PyPI via the ``pip install lightgbm`` command, you don't need to install the gcc compiler anymore.\n",
      "Instead of that, you need to install the OpenMP library, which is required for running LightGBM on the system with the Apple Clang compiler.\n",
      "You can install the OpenMP library by the following command: ``brew install libomp``.\n",
      "  \"You can install the OpenMP library by the following command: ``brew install libomp``.\", UserWarning)\n"
     ]
    }
   ],
   "source": [
    "import lightgbm as lgb\n",
    "from sklearn.model_selection import train_test_split\n",
    "from sklearn.model_selection import GridSearchCV\n",
    "from sklearn.metrics import accuracy_score\n",
    "from sklearn.metrics import precision_score\n",
    "from sklearn.metrics import recall_score\n",
    "from sklearn.metrics import confusion_matrix\n",
    "from sklearn.metrics import classification_report"
   ]
  },
  {
   "cell_type": "code",
   "execution_count": 23,
   "metadata": {
    "collapsed": false
   },
   "outputs": [
    {
     "data": {
      "text/html": [
       "<div>\n",
       "<style scoped>\n",
       "    .dataframe tbody tr th:only-of-type {\n",
       "        vertical-align: middle;\n",
       "    }\n",
       "\n",
       "    .dataframe tbody tr th {\n",
       "        vertical-align: top;\n",
       "    }\n",
       "\n",
       "    .dataframe thead th {\n",
       "        text-align: right;\n",
       "    }\n",
       "</style>\n",
       "<table border=\"1\" class=\"dataframe\">\n",
       "  <thead>\n",
       "    <tr style=\"text-align: right;\">\n",
       "      <th></th>\n",
       "      <th>Fri</th>\n",
       "      <th>Mon</th>\n",
       "      <th>Sat</th>\n",
       "      <th>Sun</th>\n",
       "      <th>Thurs</th>\n",
       "      <th>Tue</th>\n",
       "      <th>Wed</th>\n",
       "      <th>area_ratio</th>\n",
       "      <th>degree_mean</th>\n",
       "      <th>degree_mean_shift1</th>\n",
       "      <th>...</th>\n",
       "      <th>overall_dir_left_up</th>\n",
       "      <th>overall_dir_right</th>\n",
       "      <th>overall_dir_right_down</th>\n",
       "      <th>overall_dir_right_up</th>\n",
       "      <th>right</th>\n",
       "      <th>right_down</th>\n",
       "      <th>right_up</th>\n",
       "      <th>up</th>\n",
       "      <th>var</th>\n",
       "      <th>var_shift1</th>\n",
       "    </tr>\n",
       "  </thead>\n",
       "  <tbody>\n",
       "    <tr>\n",
       "      <th>3094</th>\n",
       "      <td>1</td>\n",
       "      <td>0</td>\n",
       "      <td>0</td>\n",
       "      <td>0</td>\n",
       "      <td>0</td>\n",
       "      <td>0</td>\n",
       "      <td>0</td>\n",
       "      <td>0.120360</td>\n",
       "      <td>168.107143</td>\n",
       "      <td>29.571429</td>\n",
       "      <td>...</td>\n",
       "      <td>0</td>\n",
       "      <td>1</td>\n",
       "      <td>0</td>\n",
       "      <td>0</td>\n",
       "      <td>0.392857</td>\n",
       "      <td>0.000000</td>\n",
       "      <td>0.250000</td>\n",
       "      <td>0.035714</td>\n",
       "      <td>27.4229</td>\n",
       "      <td>1.7509</td>\n",
       "    </tr>\n",
       "    <tr>\n",
       "      <th>939</th>\n",
       "      <td>1</td>\n",
       "      <td>0</td>\n",
       "      <td>0</td>\n",
       "      <td>0</td>\n",
       "      <td>0</td>\n",
       "      <td>0</td>\n",
       "      <td>0</td>\n",
       "      <td>0.112527</td>\n",
       "      <td>160.250000</td>\n",
       "      <td>6.607143</td>\n",
       "      <td>...</td>\n",
       "      <td>0</td>\n",
       "      <td>0</td>\n",
       "      <td>0</td>\n",
       "      <td>0</td>\n",
       "      <td>0.281250</td>\n",
       "      <td>0.062500</td>\n",
       "      <td>0.125000</td>\n",
       "      <td>0.000000</td>\n",
       "      <td>38.1433</td>\n",
       "      <td>-0.4018</td>\n",
       "    </tr>\n",
       "    <tr>\n",
       "      <th>2830</th>\n",
       "      <td>0</td>\n",
       "      <td>0</td>\n",
       "      <td>0</td>\n",
       "      <td>1</td>\n",
       "      <td>0</td>\n",
       "      <td>0</td>\n",
       "      <td>0</td>\n",
       "      <td>0.000121</td>\n",
       "      <td>122.848485</td>\n",
       "      <td>-16.556921</td>\n",
       "      <td>...</td>\n",
       "      <td>0</td>\n",
       "      <td>1</td>\n",
       "      <td>0</td>\n",
       "      <td>0</td>\n",
       "      <td>0.393939</td>\n",
       "      <td>0.060606</td>\n",
       "      <td>0.121212</td>\n",
       "      <td>0.000000</td>\n",
       "      <td>29.3093</td>\n",
       "      <td>-2.8756</td>\n",
       "    </tr>\n",
       "    <tr>\n",
       "      <th>2748</th>\n",
       "      <td>0</td>\n",
       "      <td>0</td>\n",
       "      <td>1</td>\n",
       "      <td>0</td>\n",
       "      <td>0</td>\n",
       "      <td>0</td>\n",
       "      <td>0</td>\n",
       "      <td>0.049807</td>\n",
       "      <td>155.522727</td>\n",
       "      <td>31.972727</td>\n",
       "      <td>...</td>\n",
       "      <td>0</td>\n",
       "      <td>1</td>\n",
       "      <td>0</td>\n",
       "      <td>0</td>\n",
       "      <td>0.318182</td>\n",
       "      <td>0.045455</td>\n",
       "      <td>0.113636</td>\n",
       "      <td>0.000000</td>\n",
       "      <td>21.4549</td>\n",
       "      <td>-6.1549</td>\n",
       "    </tr>\n",
       "    <tr>\n",
       "      <th>2369</th>\n",
       "      <td>1</td>\n",
       "      <td>0</td>\n",
       "      <td>0</td>\n",
       "      <td>0</td>\n",
       "      <td>0</td>\n",
       "      <td>0</td>\n",
       "      <td>0</td>\n",
       "      <td>0.044076</td>\n",
       "      <td>112.393939</td>\n",
       "      <td>17.993939</td>\n",
       "      <td>...</td>\n",
       "      <td>0</td>\n",
       "      <td>1</td>\n",
       "      <td>0</td>\n",
       "      <td>0</td>\n",
       "      <td>0.333333</td>\n",
       "      <td>0.151515</td>\n",
       "      <td>0.030303</td>\n",
       "      <td>0.000000</td>\n",
       "      <td>38.5280</td>\n",
       "      <td>-6.1714</td>\n",
       "    </tr>\n",
       "  </tbody>\n",
       "</table>\n",
       "<p>5 rows × 60 columns</p>\n",
       "</div>"
      ],
      "text/plain": [
       "      Fri  Mon  Sat  Sun  Thurs  Tue  Wed  area_ratio  degree_mean  \\\n",
       "3094    1    0    0    0      0    0    0    0.120360   168.107143   \n",
       "939     1    0    0    0      0    0    0    0.112527   160.250000   \n",
       "2830    0    0    0    1      0    0    0    0.000121   122.848485   \n",
       "2748    0    0    1    0      0    0    0    0.049807   155.522727   \n",
       "2369    1    0    0    0      0    0    0    0.044076   112.393939   \n",
       "\n",
       "      degree_mean_shift1     ...      overall_dir_left_up  overall_dir_right  \\\n",
       "3094           29.571429     ...                        0                  1   \n",
       "939             6.607143     ...                        0                  0   \n",
       "2830          -16.556921     ...                        0                  1   \n",
       "2748           31.972727     ...                        0                  1   \n",
       "2369           17.993939     ...                        0                  1   \n",
       "\n",
       "      overall_dir_right_down  overall_dir_right_up     right  right_down  \\\n",
       "3094                       0                     0  0.392857    0.000000   \n",
       "939                        0                     0  0.281250    0.062500   \n",
       "2830                       0                     0  0.393939    0.060606   \n",
       "2748                       0                     0  0.318182    0.045455   \n",
       "2369                       0                     0  0.333333    0.151515   \n",
       "\n",
       "      right_up        up      var  var_shift1  \n",
       "3094  0.250000  0.035714  27.4229      1.7509  \n",
       "939   0.125000  0.000000  38.1433     -0.4018  \n",
       "2830  0.121212  0.000000  29.3093     -2.8756  \n",
       "2748  0.113636  0.000000  21.4549     -6.1549  \n",
       "2369  0.030303  0.000000  38.5280     -6.1714  \n",
       "\n",
       "[5 rows x 60 columns]"
      ]
     },
     "execution_count": 23,
     "metadata": {},
     "output_type": "execute_result"
    }
   ],
   "source": [
    "dataset_df = pd.DataFrame()\n",
    "\n",
    "day_lst = [\"20170416\", \"20170417\", \"20170420\", \"20170421\", \"20170422\", \"20181030\"]\n",
    "\n",
    "for day in day_lst:\n",
    "    for t_idx in range(9, 17):\n",
    "        tmp_dataset_df = pd.read_csv(\"../../data/datasets/{0}/default/time_series_leveled_{1}.csv\".format(day, t_idx))\n",
    "\n",
    "        # check NaN count\n",
    "        assert tmp_dataset_df.isnull().values.sum() == 0\n",
    "\n",
    "        dataset_df = pd.concat([dataset_df, tmp_dataset_df])\n",
    "\n",
    "    # shuffle dataset\n",
    "    dataset_df = dataset_df.sample(frac=1)\n",
    "    dataset_df = dataset_df.fillna(0)\n",
    "    \n",
    "    # check NaN count\n",
    "    assert dataset_df.isnull().values.sum() == 0\n",
    "    \n",
    "dataset_df.head()"
   ]
  },
  {
   "cell_type": "code",
   "execution_count": 18,
   "metadata": {
    "collapsed": false
   },
   "outputs": [
    {
     "data": {
      "text/plain": [
       "Index(['Fri', 'Mon', 'Sat', 'Sun', 'Thurs', 'Tue', 'Wed', 'area_ratio',\n",
       "       'degree_mean', 'degree_mean_shift1', 'degree_std', 'degree_std_shift1',\n",
       "       'diver', 'down', 'feed', 'grid_0_0', 'grid_0_1', 'grid_0_2', 'grid_0_3',\n",
       "       'grid_0_4', 'grid_0_5', 'grid_0_6', 'grid_0_7', 'hour_10', 'hour_11',\n",
       "       'hour_12', 'hour_13', 'hour_14', 'hour_15', 'hour_16', 'hour_9',\n",
       "       'label', 'left', 'left_down', 'left_up', 'max', 'max_index_grid_0_0',\n",
       "       'max_index_grid_0_1', 'max_index_grid_0_2', 'max_index_grid_0_3',\n",
       "       'max_index_grid_0_4', 'max_index_grid_0_5', 'max_index_grid_0_6',\n",
       "       'max_index_grid_0_7', 'max_shift1', 'mean', 'mean_shift1',\n",
       "       'overall_dir_down', 'overall_dir_left', 'overall_dir_left_down',\n",
       "       'overall_dir_left_up', 'overall_dir_right', 'overall_dir_right_down',\n",
       "       'overall_dir_right_up', 'right', 'right_down', 'right_up', 'up', 'var',\n",
       "       'var_shift1'],\n",
       "      dtype='object')"
      ]
     },
     "execution_count": 18,
     "metadata": {},
     "output_type": "execute_result"
    }
   ],
   "source": [
    "dataset_df.columns"
   ]
  },
  {
   "cell_type": "code",
   "execution_count": 19,
   "metadata": {
    "collapsed": false
   },
   "outputs": [
    {
     "data": {
      "text/plain": [
       "[<matplotlib.lines.Line2D at 0x11a273f98>]"
      ]
     },
     "execution_count": 19,
     "metadata": {},
     "output_type": "execute_result"
    },
    {
     "data": {
      "image/png": "[encoded data removed]",
      "text/plain": [
       "<matplotlib.figure.Figure at 0x119a8e278>"
      ]
     },
     "metadata": {},
     "output_type": "display_data"
    }
   ],
   "source": [
    "plt.figure(figsize=(16, 4))\n",
    "plt.plot(list(dataset_df[\"label\"]))"
   ]
  },
  {
   "cell_type": "code",
   "execution_count": 20,
   "metadata": {
    "collapsed": false
   },
   "outputs": [
    {
     "data": {
      "text/plain": [
       "[<matplotlib.lines.Line2D at 0x119adfc18>]"
      ]
     },
     "execution_count": 20,
     "metadata": {},
     "output_type": "execute_result"
    },
    {
     "data": {
      "image/png": "[encoded data removed]",
      "text/plain": [
       "<matplotlib.figure.Figure at 0x119adc240>"
      ]
     },
     "metadata": {},
     "output_type": "display_data"
    }
   ],
   "source": [
    "plt.figure(figsize=(16, 4))\n",
    "plt.plot(list(dataset_df[\"max_shift1\"]))"
   ]
  },
  {
   "cell_type": "code",
   "execution_count": 24,
   "metadata": {
    "collapsed": false
   },
   "outputs": [
    {
     "name": "stdout",
     "output_type": "stream",
     "text": [
      "***************** Train *****************\n",
      "Level 1: 88182\n",
      "Level 2: 26483\n",
      "Level 3: 49555\n",
      "Level 4: 7785\n",
      "Level 5: 480\n"
     ]
    }
   ],
   "source": [
    "# check data balance, and convert numpy\n",
    "y_train = dataset_df[\"label\"].values\n",
    "print(\"***************** Train *****************\")\n",
    "# print(\"Normal: {}\".format(np.sum(y_train==0)))\n",
    "# print(\"Anormal: {}\".format(np.sum(y_train==1)))\n",
    "# print(\"Anormaly rate [%]: {}\".format(100*(np.sum(y_train==1)/np.sum(y_train==0))))\n",
    "\n",
    "print(\"Level 1: {}\".format(np.sum(y_train == 1)))\n",
    "print(\"Level 2: {}\".format(np.sum(y_train == 2)))\n",
    "print(\"Level 3: {}\".format(np.sum(y_train == 3)))\n",
    "print(\"Level 4: {}\".format(np.sum(y_train == 4)))\n",
    "print(\"Level 5: {}\".format(np.sum(y_train == 5)))\n",
    "\n",
    "#dataset_df = dataset_df.drop([\"label\", \"max\", \"var\"], axis=1)\n",
    "dataset_df = dataset_df.drop([\"label\"], axis=1)\n",
    "X_train = dataset_df.values"
   ]
  },
  {
   "cell_type": "code",
   "execution_count": 27,
   "metadata": {
    "collapsed": false
   },
   "outputs": [
    {
     "name": "stdout",
     "output_type": "stream",
     "text": [
      "***************** Test *****************\n",
      "Level 1: 14950\n",
      "Level 2: 3888\n",
      "Level 3: 8569\n",
      "Level 4: 1267\n",
      "Level 5: 74\n"
     ]
    }
   ],
   "source": [
    "test_df = pd.DataFrame(columns=dataset_df.columns)\n",
    "\n",
    "for t_idx in range(9, 17):\n",
    "    tmp_test_df = pd.read_csv(\"../../data/datasets/20170418/default/time_series_leveled_{0}.csv\".format(t_idx))\n",
    "\n",
    "    # check NaN count\n",
    "    assert tmp_test_df.isnull().values.sum() == 0\n",
    "\n",
    "    test_df = pd.concat([test_df, tmp_test_df])\n",
    "\n",
    "\n",
    "test_df = test_df.fillna(0)\n",
    "\n",
    "# check NaN count\n",
    "assert test_df.isnull().values.sum() == 0\n",
    "    \n",
    "# check data balance, and convert numpy\n",
    "y_test = test_df[\"label\"].values\n",
    "print(\"***************** Test *****************\")\n",
    "# print(\"Normal: {}\".format(np.sum(y_test==0)))\n",
    "# print(\"Anormal: {}\".format(np.sum(y_test==1)))\n",
    "# print(\"Anormaly rate [%]: {}\".format(100*(np.sum(y_test==1)/np.sum(y_test==0))))\n",
    "\n",
    "print(\"Level 1: {}\".format(np.sum(y_test == 1)))\n",
    "print(\"Level 2: {}\".format(np.sum(y_test == 2)))\n",
    "print(\"Level 3: {}\".format(np.sum(y_test == 3)))\n",
    "print(\"Level 4: {}\".format(np.sum(y_test == 4)))\n",
    "print(\"Level 5: {}\".format(np.sum(y_test == 5)))\n",
    "\n",
    "#test_df = test_df.drop([\"label\", \"max\", \"var\"], axis=1)\n",
    "test_df = test_df.drop(\"label\", axis=1)\n",
    "X_test = test_df.values"
   ]
  },
  {
   "cell_type": "code",
   "execution_count": 28,
   "metadata": {
    "collapsed": false
   },
   "outputs": [
    {
     "data": {
      "text/plain": [
       "LGBMRegressor(boosting_type='gbdt', class_weight=None, colsample_bytree=1.0,\n",
       "       importance_type='split', learning_rate=0.1, max_depth=-1,\n",
       "       min_child_samples=20, min_child_weight=0.001, min_split_gain=0.0,\n",
       "       n_estimators=100, n_jobs=-1, num_leaves=31, objective=None,\n",
       "       random_state=None, reg_alpha=0.0, reg_lambda=0.0, silent=True,\n",
       "       subsample=1.0, subsample_for_bin=200000, subsample_freq=0)"
      ]
     },
     "execution_count": 28,
     "metadata": {},
     "output_type": "execute_result"
    }
   ],
   "source": [
    "model = lgb.LGBMRegressor()\n",
    "model.fit(X_train, y_train)"
   ]
  },
  {
   "cell_type": "code",
   "execution_count": 76,
   "metadata": {
    "collapsed": false
   },
   "outputs": [
    {
     "name": "stdout",
     "output_type": "stream",
     "text": [
      "*********************************************\n",
      "Train Accuracy: 0.9993738585963997\n",
      "Train Recall: 0.7770833333333333\n",
      "Train Precision: 0.9973262032085561\n",
      "*********************************************\n",
      "*********************************************\n",
      "Test Accuracy: 0.9987129539446222\n",
      "Test Recall: 0.581081081081081\n",
      "Test Precision: 0.8775510204081632\n",
      "*********************************************\n"
     ]
    }
   ],
   "source": [
    "train_pred = model.predict(X_train)\n",
    "train_pred[train_pred <= 0.5] = 0\n",
    "train_pred[train_pred > 0.5] = 1\n",
    "test_pred = model.predict(X_test)\n",
    "test_pred[test_pred <= 0.5] = 0\n",
    "test_pred[test_pred > 0.5] = 1\n",
    "\n",
    "train_acc = accuracy_score(y_train, train_pred)\n",
    "train_recall = recall_score(y_train, train_pred)\n",
    "train_precision = precision_score(y_train, train_pred)\n",
    "\n",
    "test_acc = accuracy_score(y_test, test_pred)\n",
    "test_recall = recall_score(y_test, test_pred)\n",
    "test_precision = precision_score(y_test, test_pred)\n",
    "\n",
    "print(\"*********************************************\")\n",
    "print(\"Train Accuracy: {}\".format(train_acc))\n",
    "print(\"Train Recall: {}\".format(train_recall))\n",
    "print(\"Train Precision: {}\".format(train_precision))\n",
    "print(\"*********************************************\")\n",
    "\n",
    "print(\"*********************************************\")\n",
    "print(\"Test Accuracy: {}\".format(test_acc))\n",
    "print(\"Test Recall: {}\".format(test_recall))\n",
    "print(\"Test Precision: {}\".format(test_precision))\n",
    "print(\"*********************************************\")"
   ]
  },
  {
   "cell_type": "code",
   "execution_count": 77,
   "metadata": {
    "collapsed": false
   },
   "outputs": [
    {
     "data": {
      "text/plain": [
       "array([[172004,      1],\n",
       "       [   107,    373]])"
      ]
     },
     "execution_count": 77,
     "metadata": {},
     "output_type": "execute_result"
    }
   ],
   "source": [
    "confusion_matrix(y_train, train_pred)"
   ]
  },
  {
   "cell_type": "code",
   "execution_count": 78,
   "metadata": {
    "collapsed": false
   },
   "outputs": [
    {
     "data": {
      "text/plain": [
       "array([[28668,     6],\n",
       "       [   31,    43]])"
      ]
     },
     "execution_count": 78,
     "metadata": {},
     "output_type": "execute_result"
    }
   ],
   "source": [
    "confusion_matrix(y_test, test_pred)"
   ]
  },
  {
   "cell_type": "code",
   "execution_count": 79,
   "metadata": {
    "collapsed": false
   },
   "outputs": [
    {
     "data": {
      "text/plain": [
       "[<matplotlib.lines.Line2D at 0x1232ca940>]"
      ]
     },
     "execution_count": 79,
     "metadata": {},
     "output_type": "execute_result"
    },
    {
     "data": {
      "image/png": "[encoded data removed]",
      "text/plain": [
       "<matplotlib.figure.Figure at 0x114a6c9b0>"
      ]
     },
     "metadata": {},
     "output_type": "display_data"
    }
   ],
   "source": [
    "test_pred = model.predict(X_test)\n",
    "plt.figure(figsize=(16, 4))\n",
    "plt.plot(list(test_pred))"
   ]
  },
  {
   "cell_type": "code",
   "execution_count": 80,
   "metadata": {
    "collapsed": false
   },
   "outputs": [
    {
     "data": {
      "text/plain": [
       "[<matplotlib.lines.Line2D at 0x1222dae48>]"
      ]
     },
     "execution_count": 80,
     "metadata": {},
     "output_type": "execute_result"
    },
    {
     "data": {
      "image/png": "[encoded data removed]",
      "text/plain": [
       "<matplotlib.figure.Figure at 0x12b4d1be0>"
      ]
     },
     "metadata": {},
     "output_type": "display_data"
    }
   ],
   "source": [
    "plt.figure(figsize=(16, 4))\n",
    "plt.plot(np.array(y_test))"
   ]
  },
  {
   "cell_type": "code",
   "execution_count": 81,
   "metadata": {
    "collapsed": false
   },
   "outputs": [
    {
     "name": "stdout",
     "output_type": "stream",
     "text": [
      "Feature ranking:\n",
      "1. var_shift1 (258)\n",
      "2. max_shift1 (183)\n",
      "3. left_down (181)\n",
      "4. area_ratio (172)\n",
      "5. degree_std_shift1 (159)\n",
      "6. grid_0_2 (154)\n",
      "7. degree_mean_shift1 (131)\n",
      "8. mean_shift1 (128)\n",
      "9. grid_0_4 (120)\n",
      "10. grid_0_1 (116)\n",
      "11. left_up (102)\n",
      "12. left (98)\n",
      "13. grid_0_3 (96)\n",
      "14. grid_0_6 (95)\n",
      "15. right (92)\n",
      "16. grid_0_5 (91)\n",
      "17. grid_0_0 (90)\n",
      "18. degree_mean (87)\n",
      "19. right_up (85)\n",
      "20. right_down (84)\n",
      "21. degree_std (78)\n",
      "22. grid_0_7 (57)\n",
      "23. hour_9 (55)\n",
      "24. hour_14 (49)\n",
      "25. Tue (41)\n",
      "26. hour_11 (29)\n",
      "27. hour_13 (25)\n",
      "28. Fri (17)\n",
      "29. hour_16 (16)\n",
      "30. hour_10 (15)\n",
      "31. down (12)\n",
      "32. hour_12 (12)\n",
      "33. Sat (10)\n",
      "34. max_index_grid_0_1 (9)\n",
      "35. hour_15 (8)\n",
      "36. Mon (7)\n",
      "37. feed (6)\n",
      "38. overall_dir_right (5)\n",
      "39. Sun (5)\n",
      "40. up (5)\n",
      "41. Thurs (4)\n",
      "42. max_index_grid_0_2 (4)\n",
      "43. max_index_grid_0_3 (4)\n",
      "44. overall_dir_left_up (1)\n",
      "45. overall_dir_right_down (1)\n",
      "46. overall_dir_left (1)\n",
      "47. overall_dir_left_down (1)\n",
      "48. diver (1)\n",
      "49. overall_dir_right_up (0)\n",
      "50. Wed (0)\n",
      "51. overall_dir_down (0)\n",
      "52. max_index_grid_0_7 (0)\n",
      "53. max_index_grid_0_6 (0)\n",
      "54. max_index_grid_0_5 (0)\n",
      "55. max_index_grid_0_4 (0)\n",
      "56. max_index_grid_0_0 (0)\n"
     ]
    }
   ],
   "source": [
    "importances = model.feature_importances_\n",
    "indices = np.argsort(importances)[::-1]\n",
    "cols = dataset_df.columns\n",
    "\n",
    "# Print the feature ranking\n",
    "print(\"Feature ranking:\")\n",
    "\n",
    "for f in range(X_train.shape[1]):\n",
    "    print(\"{0}. {1} ({2})\".format(f + 1, cols[indices[f]], importances[indices[f]]))"
   ]
  },
  {
   "cell_type": "code",
   "execution_count": null,
   "metadata": {
    "collapsed": true
   },
   "outputs": [],
   "source": []
  }
 ],
 "metadata": {
  "anaconda-cloud": {},
  "kernelspec": {
   "display_name": "Python [conda env:anaconda3-4.2.0]",
   "language": "python",
   "name": "conda-env-anaconda3-4.2.0-py"
  },
  "language_info": {
   "codemirror_mode": {
    "name": "ipython",
    "version": 3
   },
   "file_extension": ".py",
   "mimetype": "text/x-python",
   "name": "python",
   "nbconvert_exporter": "python",
   "pygments_lexer": "ipython3",
   "version": "3.5.2"
  }
 },
 "nbformat": 4,
 "nbformat_minor": 1
}
