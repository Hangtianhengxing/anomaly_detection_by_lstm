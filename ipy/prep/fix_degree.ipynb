{
 "cells": [
  {
   "cell_type": "code",
   "execution_count": 2,
   "metadata": {
    "collapsed": true
   },
   "outputs": [],
   "source": [
    "import csv"
   ]
  },
  {
   "cell_type": "code",
   "execution_count": 3,
   "metadata": {
    "collapsed": false
   },
   "outputs": [],
   "source": [
    "root_stats_dirc = \"../data/statistics/20170418/\"\n",
    "\n",
    "for time_idx in range(9, 17):\n",
    "    degree_lst = []\n",
    "    with open(root_stats_dirc+\"{}/degree.csv\".format(time_idx), \"r\") as f:\n",
    "        reader = csv.reader(f)\n",
    "        header = next(reader)\n",
    "        frame_lst = []\n",
    "        for rows in reader:\n",
    "            tmp_degree_lst = []\n",
    "            frame_lst.append(int(rows[0]))\n",
    "            for row in rows[1:]:\n",
    "                tmp_degree_lst.append(row)\n",
    "            degree_lst.append(tmp_degree_lst)\n",
    "    \n",
    "    new_degree_lst = []\n",
    "    for i in range(29, len(degree_lst), 30):\n",
    "        for j in range(30):\n",
    "            new_degree_lst.append([frame_lst[i-29+j]])\n",
    "            new_degree_lst[i-29+j].extend(degree_lst[i])\n",
    "    \n",
    "    with open(root_stats_dirc+\"{}/degree.csv\".format(time_idx), \"w\") as f:\n",
    "        writer = csv.writer(f, lineterminator=\"\\n\")\n",
    "        writer.writerow(header)\n",
    "        writer.writerows(new_degree_lst)"
   ]
  },
  {
   "cell_type": "code",
   "execution_count": null,
   "metadata": {
    "collapsed": false
   },
   "outputs": [],
   "source": []
  },
  {
   "cell_type": "code",
   "execution_count": null,
   "metadata": {
    "collapsed": false
   },
   "outputs": [],
   "source": []
  },
  {
   "cell_type": "code",
   "execution_count": null,
   "metadata": {
    "collapsed": false
   },
   "outputs": [],
   "source": []
  },
  {
   "cell_type": "code",
   "execution_count": null,
   "metadata": {
    "collapsed": false
   },
   "outputs": [],
   "source": []
  },
  {
   "cell_type": "code",
   "execution_count": null,
   "metadata": {
    "collapsed": false
   },
   "outputs": [],
   "source": []
  },
  {
   "cell_type": "code",
   "execution_count": null,
   "metadata": {
    "collapsed": true
   },
   "outputs": [],
   "source": []
  }
 ],
 "metadata": {
  "anaconda-cloud": {},
  "kernelspec": {
   "display_name": "Python [conda env:anaconda3-4.2.0]",
   "language": "python",
   "name": "conda-env-anaconda3-4.2.0-py"
  },
  "language_info": {
   "codemirror_mode": {
    "name": "ipython",
    "version": 3
   },
   "file_extension": ".py",
   "mimetype": "text/x-python",
   "name": "python",
   "nbconvert_exporter": "python",
   "pygments_lexer": "ipython3",
   "version": "3.5.2"
  }
 },
 "nbformat": 4,
 "nbformat_minor": 1
}
