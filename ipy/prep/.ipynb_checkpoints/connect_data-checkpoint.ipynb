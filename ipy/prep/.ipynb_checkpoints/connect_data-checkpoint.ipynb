{
 "cells": [
  {
   "cell_type": "code",
   "execution_count": 1,
   "metadata": {
    "collapsed": true
   },
   "outputs": [],
   "source": [
    "from tqdm import tqdm"
   ]
  },
  {
   "cell_type": "code",
   "execution_count": 1,
   "metadata": {
    "collapsed": false
   },
   "outputs": [],
   "source": [
    "## degreeのデータにフレーム番号を付与\n",
    "\n",
    "# import csv\n",
    "# root_stats_dirc = \"../data/statistics/20170418/\"\n",
    "# for time_idx in range(9, 17):\n",
    "#     frame_lst = list(pd.read_csv(root_stats_dirc+\"{}/frame_num.csv\".format(time_idx), header=None)[0])\n",
    "\n",
    "#     degree_lst = [[\"frame_num\", \"degree\"]]\n",
    "#     with open(root_stats_dirc+\"{}/degree.csv\".format(time_idx), \"r\") as f:\n",
    "#         reader = csv.reader(f)\n",
    "#         for i, rows in enumerate(reader):\n",
    "#             tmp_degree_lst = [frame_lst[i]]\n",
    "#             for row in rows:\n",
    "#                 if row != \"\":\n",
    "#                     tmp_degree_lst.append(row)\n",
    "#             degree_lst.append(tmp_degree_lst)\n",
    "\n",
    "#     with open(root_stats_dirc+\"{}/degree.csv\".format(time_idx), \"w\") as f:\n",
    "#         writer = csv.writer(f, lineterminator=\"\\n\")\n",
    "#         writer.writerows(degree_lst)"
   ]
  },
  {
   "cell_type": "code",
   "execution_count": 8,
   "metadata": {
    "collapsed": false
   },
   "outputs": [],
   "source": [
    "# connect statistic value and frame number\n",
    "#　今後は各統計量の取得と同時にフレームナンバーを付与したcsvを作成する\n",
    "# 角度についてはカラム数が各フレームで異なるので変更が必要\n",
    "\n",
    "# root_stats_dirc = \"../data/statistics/20170416/\"\n",
    "# for i in range(9, 17):\n",
    "#     frame_df = pd.read_csv(root_stats_dirc+\"{}/frame_num.csv\".format(i), header=None)\n",
    "    \n",
    "#     mean_df = pd.read_csv(root_stats_dirc+\"{}/mean.csv\".format(i), header=None)\n",
    "#     mean_df = mean_df.rename(columns={0:\"mean\"})\n",
    "#     assert len(frame_df) == len(mean_df)\n",
    "#     mean_df[\"frame_num\"] = frame_df\n",
    "#     mean_df.to_csv(root_stats_dirc+\"{}/mean.csv\".format(i), index=False)\n",
    "    \n",
    "#     var_df = pd.read_csv(root_stats_dirc+\"{}/var.csv\".format(i), header=None)\n",
    "#     var_df = var_df.rename(columns={0:\"var\"})\n",
    "#     assert len(frame_df) == len(var_df)\n",
    "#     var_df[\"frame_num\"] = frame_df\n",
    "#     var_df.to_csv(root_stats_dirc+\"{}/var.csv\".format(i), index=False)\n",
    "    \n",
    "#     max_df = pd.read_csv(root_stats_dirc+\"{}/max.csv\".format(i), header=None)\n",
    "#     max_df = max_df.rename(columns={0:\"max\"})\n",
    "#     assert len(frame_df) == len(max_df)\n",
    "#     max_df[\"frame_num\"] = frame_df\n",
    "#     max_df.to_csv(root_stats_dirc+\"{}/max.csv\".format(i), index=False)\n",
    "    \n",
    "#     thresh_df = pd.read_csv(root_stats_dirc+\"{}/acc_thresh.csv\".format(i), header=None)\n",
    "#     thresh_df = thresh_df.rename(columns={0:\"acc_thresh\"})\n",
    "#     assert len(frame_df) == len(thresh_df)\n",
    "#     thresh_df[\"frame_num\"] = frame_df\n",
    "#     thresh_df.to_csv(root_stats_dirc+\"{}/acc_thresh.csv\".format(i), index=False) "
   ]
  },
  {
   "cell_type": "code",
   "execution_count": 1,
   "metadata": {
    "collapsed": false
   },
   "outputs": [],
   "source": [
    "## human areaにフレーム番号を付与\n",
    "\n",
    "root_human_dirc = \"../../data/human_area/20181030/\"\n",
    "for i in range(9, 11):\n",
    "    area_dictlst = {\"area_ratio\":[], \"frame_num\":[]}\n",
    "    human_df= pd.read_csv(root_human_dirc+\"human_{}.csv\".format(i), header=None)\n",
    "    frame_df = pd.read_csv(root_human_dirc+\"frame_num_{}.csv\".format(i), header=None)\n",
    "\n",
    "    for area, frame in zip(human_df[0], frame_df[0]):\n",
    "        area_dictlst[\"area_ratio\"].append(area)\n",
    "        area_dictlst[\"frame_num\"].append(frame)\n",
    "\n",
    "    area_df = pd.DataFrame(area_dictlst)\n",
    "    area_df.to_csv(root_human_dirc+\"{}.csv\".format(i), index=False)"
   ]
  },
  {
   "cell_type": "code",
   "execution_count": 2,
   "metadata": {
    "collapsed": false,
    "scrolled": true
   },
   "outputs": [],
   "source": [
    "## feed の時系列データ\n",
    "\n",
    "root_stats_dirc = \"../../data/statistics/20181031/\"\n",
    "root_feed_dirc = \"../../data/feed/20181031/\"\n",
    "\n",
    "for i in range(9, 17):\n",
    "    feed_dictlst = {\"frame_num\":[], \"feed\":[]}\n",
    "    time_length = len(pd.read_csv(root_stats_dirc+\"{}/mean.csv\".format(i)))\n",
    "    feed_arr = np.zeros(time_length, dtype=np.int8)\n",
    "    feed_dictlst[\"frame_num\"] = [121+i for i in range(time_length)]\n",
    "    feed_dictlst[\"feed\"] = list(feed_arr)\n",
    "    pd.DataFrame(feed_dictlst).to_csv(root_feed_dirc+\"feed_{}.csv\".format(i), index=False)"
   ]
  },
  {
   "cell_type": "markdown",
   "metadata": {},
   "source": [
    "feed time:  \n",
    "4/16: 14:38-14:41  \n",
    "4/17: 14:37-14:39  \n",
    "4/18: 14:37-14:40  \n",
    "4/20: 14:26-14:38  \n",
    "4/21: 15:06-15:10  \n",
    "4/22: 14:36-14:40  \n",
    "10/30 14:36-14:42  "
   ]
  },
  {
   "cell_type": "code",
   "execution_count": 3,
   "metadata": {
    "collapsed": false
   },
   "outputs": [
    {
     "name": "stdout",
     "output_type": "stream",
     "text": [
      "64800\n"
     ]
    }
   ],
   "source": [
    "feed_dictlst = {\"frame_num\":[], \"feed\":[]}\n",
    "time_length = len(pd.read_csv(root_stats_dirc+\"{}/mean.csv\".format(14)))\n",
    "feed_arr = np.zeros(time_length, dtype=np.int8)\n",
    "start_idx = 36*60*30 \n",
    "end_idx = 42*60*30\n",
    "print(start_idx)\n",
    "feed_arr[start_idx:end_idx] = 1\n",
    "feed_dictlst[\"frame_num\"] = [121+i for i in range(time_length)]\n",
    "feed_dictlst[\"feed\"] = list(feed_arr)\n",
    "pd.DataFrame(feed_dictlst).to_csv(root_feed_dirc+\"feed_{}.csv\".format(14), index=False)"
   ]
  },
  {
   "cell_type": "markdown",
   "metadata": {},
   "source": [
    "diver time:  \n",
    "4/21 9:22-12:04"
   ]
  },
  {
   "cell_type": "code",
   "execution_count": 30,
   "metadata": {
    "collapsed": false
   },
   "outputs": [],
   "source": [
    "root_stats_dirc = \"../../data/statistics/20170421/\"\n",
    "root_diver_dirc = \"../../data/feed/20181030/\"\n",
    "diver_lst = []\n",
    "\n",
    "for i in range(9, 17):\n",
    "    diver_df = pd.read_csv(\"{}/feed_{}.csv\".format(root_diver_dirc, i))\n",
    "    diver_lst.extend(diver_df[\"feed_cur\"])"
   ]
  },
  {
   "cell_type": "code",
   "execution_count": 31,
   "metadata": {
    "collapsed": false
   },
   "outputs": [
    {
     "data": {
      "text/plain": [
       "[<matplotlib.lines.Line2D at 0x114ceb9b0>]"
      ]
     },
     "execution_count": 31,
     "metadata": {},
     "output_type": "execute_result"
    },
    {
     "data": {
      "image/png": "[encoded data removed]",
      "text/plain": [
       "<matplotlib.figure.Figure at 0x114ccc438>"
      ]
     },
     "metadata": {},
     "output_type": "display_data"
    }
   ],
   "source": [
    "plt.figure(figsize=(16, 4))\n",
    "plt.plot(diver_lst)"
   ]
  },
  {
   "cell_type": "code",
   "execution_count": 3,
   "metadata": {
    "collapsed": false
   },
   "outputs": [],
   "source": [
    "## diver の時系列データ\n",
    "## flag: 0\n",
    "\n",
    "root_stats_dirc = \"../../data/statistics/20181031/\"\n",
    "root_diver_dirc = \"../../data/diver/20181031/\"\n",
    "\n",
    "for i in range(9, 17):\n",
    "    diver_dictlst = {\"frame_num\":[], \"diver\":[]}\n",
    "    time_length = len(pd.read_csv(root_stats_dirc+\"{}/mean.csv\".format(i)))\n",
    "    diver_arr = np.zeros(time_length, dtype=np.int8)\n",
    "    diver_dictlst[\"frame_num\"] = [121+i for i in range(time_length)]\n",
    "    diver_dictlst[\"diver\"] = list(diver_arr)\n",
    "    pd.DataFrame(diver_dictlst).to_csv(root_diver_dirc+\"diver_{}.csv\".format(i), index=False)"
   ]
  },
  {
   "cell_type": "code",
   "execution_count": 11,
   "metadata": {
    "collapsed": false
   },
   "outputs": [],
   "source": [
    "## ダイバーが入っている時刻\n",
    "## flag: 1\n",
    "\n",
    "time_idx = 12\n",
    "\n",
    "diver_dictlst = {\"frame_num\":[], \"diver\":[]}\n",
    "time_length = len(pd.read_csv(root_stats_dirc+\"{}/mean.csv\".format(time_idx)))\n",
    "diver_arr = np.zeros(time_length, dtype=np.int8)\n",
    "diver_dictlst[\"frame_num\"] = [121+i for i in range(time_length)]\n",
    "start_idx = 0\n",
    "end_idx = 4*60*30\n",
    "diver_arr[start_idx:end_idx] = 1\n",
    "diver_dictlst[\"diver\"] = list(diver_arr)\n",
    "pd.DataFrame(diver_dictlst).to_csv(root_diver_dirc+\"diver_{}.csv\".format(time_idx), index=False)"
   ]
  },
  {
   "cell_type": "code",
   "execution_count": 77,
   "metadata": {
    "collapsed": false
   },
   "outputs": [
    {
     "data": {
      "text/html": [
       "<div>\n",
       "<style scoped>\n",
       "    .dataframe tbody tr th:only-of-type {\n",
       "        vertical-align: middle;\n",
       "    }\n",
       "\n",
       "    .dataframe tbody tr th {\n",
       "        vertical-align: top;\n",
       "    }\n",
       "\n",
       "    .dataframe thead th {\n",
       "        text-align: right;\n",
       "    }\n",
       "</style>\n",
       "<table border=\"1\" class=\"dataframe\">\n",
       "  <thead>\n",
       "    <tr style=\"text-align: right;\">\n",
       "      <th></th>\n",
       "      <th>max</th>\n",
       "      <th>frame_num</th>\n",
       "      <th>acc_thresh</th>\n",
       "      <th>label</th>\n",
       "    </tr>\n",
       "  </thead>\n",
       "  <tbody>\n",
       "    <tr>\n",
       "      <th>0</th>\n",
       "      <td>4.12311</td>\n",
       "      <td>121</td>\n",
       "      <td>143.911024</td>\n",
       "      <td>0</td>\n",
       "    </tr>\n",
       "    <tr>\n",
       "      <th>1</th>\n",
       "      <td>4.12311</td>\n",
       "      <td>122</td>\n",
       "      <td>143.911024</td>\n",
       "      <td>0</td>\n",
       "    </tr>\n",
       "    <tr>\n",
       "      <th>2</th>\n",
       "      <td>8.24621</td>\n",
       "      <td>123</td>\n",
       "      <td>143.911024</td>\n",
       "      <td>0</td>\n",
       "    </tr>\n",
       "    <tr>\n",
       "      <th>3</th>\n",
       "      <td>8.24621</td>\n",
       "      <td>124</td>\n",
       "      <td>143.911024</td>\n",
       "      <td>0</td>\n",
       "    </tr>\n",
       "    <tr>\n",
       "      <th>4</th>\n",
       "      <td>12.36930</td>\n",
       "      <td>125</td>\n",
       "      <td>143.911024</td>\n",
       "      <td>0</td>\n",
       "    </tr>\n",
       "  </tbody>\n",
       "</table>\n",
       "</div>"
      ],
      "text/plain": [
       "        max  frame_num  acc_thresh  label\n",
       "0   4.12311        121  143.911024      0\n",
       "1   4.12311        122  143.911024      0\n",
       "2   8.24621        123  143.911024      0\n",
       "3   8.24621        124  143.911024      0\n",
       "4  12.36930        125  143.911024      0"
      ]
     },
     "execution_count": 77,
     "metadata": {},
     "output_type": "execute_result"
    }
   ],
   "source": [
    "# label 作成\n",
    "\n",
    "root_stats_dirc = \"../data/statistics/20170416/\"\n",
    "max_df = pd.read_csv(root_stats_dirc+\"{}/max.csv\".format(9))\n",
    "thresh_df = pd.read_csv(root_stats_dirc+\"{}/acc_thresh.csv\".format(9))\n",
    "label_df = pd.merge(max_df, thresh_df, on=\"frame_num\")\n",
    "label_df[\"label\"] = pd.Series(label_df[\"max\"] > label_df[\"acc_thresh\"], dtype=int)\n",
    "label_df.head()"
   ]
  },
  {
   "cell_type": "code",
   "execution_count": 78,
   "metadata": {
    "collapsed": false
   },
   "outputs": [
    {
     "name": "stdout",
     "output_type": "stream",
     "text": [
      "652\n",
      "832\n"
     ]
    }
   ],
   "source": [
    "print(np.sum(label_df[\"label\"] == 1))\n",
    "for end_idx in list(label_df.query('label == 1').index):\n",
    "    start_idx = end_idx-pred_width if end_idx >= pred_width else 0\n",
    "    label_df.loc[start_idx:end_idx, \"label\"] = 1\n",
    "    \n",
    "print(np.sum(label_df[\"label\"] == 1))"
   ]
  },
  {
   "cell_type": "code",
   "execution_count": null,
   "metadata": {
    "collapsed": false
   },
   "outputs": [],
   "source": []
  },
  {
   "cell_type": "code",
   "execution_count": 6,
   "metadata": {
    "collapsed": false
   },
   "outputs": [
    {
     "name": "stderr",
     "output_type": "stream",
     "text": [
      "100%|██████████| 8/8 [00:41<00:00,  5.23s/it]\n"
     ]
    }
   ],
   "source": [
    "root_stats_dirc = \"../data/statistics/20170416/\"\n",
    "root_grid_dirc = \"../data/grid_count/20170416/\"\n",
    "root_human_dirc = \"../data/human_area/20170416/\"\n",
    "root_diver_dirc = \"../data/diver/20170416/\"\n",
    "root_feed_dirc = \"../data/feed/20170416/\"\n",
    "data_day = \"Sun\"\n",
    "# 5分前から予測\n",
    "pred_width = 10*30*5\n",
    "\n",
    "day_lst = [\"Sun\", \"Mon\",\"Tue\", \"Wed\", \"Thurs\", \"Fri\", \"Sat\"]\n",
    "for i in tqdm(range(9, 17)):    \n",
    "    mean_df = pd.read_csv(root_stats_dirc+\"{}/mean.csv\".format(i))\n",
    "    var_df = pd.read_csv(root_stats_dirc+\"{}/var.csv\".format(i))\n",
    "    max_df = pd.read_csv(root_stats_dirc+\"{}/max.csv\".format(i))\n",
    "    thresh_df = pd.read_csv(root_stats_dirc+\"{}/acc_thresh.csv\".format(i))\n",
    "    degree_df = pd.read_csv(root_stats_dirc+\"{}/prep_degree.csv\".format(i))\n",
    "    grid_df = pd.read_csv(root_grid_dirc+\"{}.csv\".format(i))\n",
    "    grid_df = grid_df.drop([\"raw_data\", \"sum_count\"], axis=1)\n",
    "    grid_df = pd.get_dummies(grid_df)\n",
    "    human_df = pd.read_csv(root_human_dirc+\"{}.csv\".format(i))\n",
    "    diver_df = pd.read_csv(root_diver_dirc + \"diver_{}.csv\".format(i))\n",
    "    feed_df = pd.read_csv(root_feed_dirc+\"feed_{}.csv\".format(i))    \n",
    "    \n",
    "    # concat ttime series data\n",
    "    time_series_df = mean_df\n",
    "    time_series_df = pd.merge(time_series_df, var_df,  on=\"frame_num\")\n",
    "    time_series_df = pd.merge(time_series_df, max_df,  on=\"frame_num\")\n",
    "    time_series_df = pd.merge(time_series_df, thresh_df,  on=\"frame_num\")\n",
    "    time_series_df = pd.merge(time_series_df, degree_df,  on=\"frame_num\")\n",
    "    time_series_df = pd.merge(time_series_df, grid_df,  on=\"frame_num\")\n",
    "    time_series_df = pd.merge(time_series_df, human_df,  on=\"frame_num\")\n",
    "    time_series_df = pd.merge(time_series_df, diver_df, on=\"frame_num\")\n",
    "    time_series_df = pd.merge(time_series_df, feed_df, on=\"frame_num\")\n",
    "    \n",
    "    # make answer label\n",
    "    time_series_df[\"label\"] = pd.Series(time_series_df[\"max\"] > time_series_df[\"acc_thresh\"], dtype=int)\n",
    "    time_series_df = time_series_df.drop(\"acc_thresh\", axis=1)\n",
    "    for end_idx in list(time_series_df.query('label == 1').index):\n",
    "        start_idx = end_idx-pred_width if end_idx > pred_width else 0\n",
    "        time_series_df.loc[start_idx:end_idx, \"label\"] = 1\n",
    "    \n",
    "    # weekly infomation\n",
    "    for day in day_lst:\n",
    "        if day == data_day:\n",
    "            time_series_df[day] = 1\n",
    "        else:\n",
    "            time_series_df[day] = 0\n",
    "    \n",
    "    time_series_df.to_csv(\"../data/datasets/20170416/time_series_{}.csv\".format(i), index=False)"
   ]
  },
  {
   "cell_type": "code",
   "execution_count": 124,
   "metadata": {
    "collapsed": false
   },
   "outputs": [
    {
     "name": "stdout",
     "output_type": "stream",
     "text": [
      "Index(['mean', 'frame_num', 'var', 'max', 'degree_mean', 'degree_std', 'down',\n",
      "       'left', 'left_down', 'left_up', 'overall_dir', 'right', 'right_down',\n",
      "       'right_up', 'up', 'grid_0_0', 'grid_0_1', 'grid_0_2', 'grid_0_3',\n",
      "       'grid_0_4', 'grid_0_5', 'grid_0_6', 'grid_0_7', 'max_count',\n",
      "       'max_index_grid_0_1', 'max_index_grid_0_2', 'max_index_grid_0_3',\n",
      "       'max_index_grid_0_4', 'max_index_grid_0_5', 'max_index_grid_0_6',\n",
      "       'area_ratio', 'diver', 'feed', 'label', 'Sun', 'Mon', 'Tue', 'Wed',\n",
      "       'Thurs', 'Fri', 'Sat'],\n",
      "      dtype='object')\n"
     ]
    },
    {
     "data": {
      "text/html": [
       "<div>\n",
       "<style scoped>\n",
       "    .dataframe tbody tr th:only-of-type {\n",
       "        vertical-align: middle;\n",
       "    }\n",
       "\n",
       "    .dataframe tbody tr th {\n",
       "        vertical-align: top;\n",
       "    }\n",
       "\n",
       "    .dataframe thead th {\n",
       "        text-align: right;\n",
       "    }\n",
       "</style>\n",
       "<table border=\"1\" class=\"dataframe\">\n",
       "  <thead>\n",
       "    <tr style=\"text-align: right;\">\n",
       "      <th></th>\n",
       "      <th>mean</th>\n",
       "      <th>frame_num</th>\n",
       "      <th>var</th>\n",
       "      <th>max</th>\n",
       "      <th>degree_mean</th>\n",
       "      <th>degree_std</th>\n",
       "      <th>down</th>\n",
       "      <th>left</th>\n",
       "      <th>left_down</th>\n",
       "      <th>left_up</th>\n",
       "      <th>...</th>\n",
       "      <th>diver</th>\n",
       "      <th>feed</th>\n",
       "      <th>label</th>\n",
       "      <th>Sun</th>\n",
       "      <th>Mon</th>\n",
       "      <th>Tue</th>\n",
       "      <th>Wed</th>\n",
       "      <th>Thurs</th>\n",
       "      <th>Fri</th>\n",
       "      <th>Sat</th>\n",
       "    </tr>\n",
       "  </thead>\n",
       "  <tbody>\n",
       "    <tr>\n",
       "      <th>0</th>\n",
       "      <td>0.00000</td>\n",
       "      <td>121</td>\n",
       "      <td>0.00000</td>\n",
       "      <td>0.00000</td>\n",
       "      <td>121.064516</td>\n",
       "      <td>132.06937</td>\n",
       "      <td>0.0</td>\n",
       "      <td>0.129032</td>\n",
       "      <td>0.032258</td>\n",
       "      <td>0.129032</td>\n",
       "      <td>...</td>\n",
       "      <td>0</td>\n",
       "      <td>0</td>\n",
       "      <td>0</td>\n",
       "      <td>0</td>\n",
       "      <td>1</td>\n",
       "      <td>0</td>\n",
       "      <td>0</td>\n",
       "      <td>0</td>\n",
       "      <td>0</td>\n",
       "      <td>0</td>\n",
       "    </tr>\n",
       "    <tr>\n",
       "      <th>1</th>\n",
       "      <td>1.75367</td>\n",
       "      <td>122</td>\n",
       "      <td>1.15043</td>\n",
       "      <td>3.16228</td>\n",
       "      <td>121.064516</td>\n",
       "      <td>132.06937</td>\n",
       "      <td>0.0</td>\n",
       "      <td>0.129032</td>\n",
       "      <td>0.032258</td>\n",
       "      <td>0.129032</td>\n",
       "      <td>...</td>\n",
       "      <td>0</td>\n",
       "      <td>0</td>\n",
       "      <td>0</td>\n",
       "      <td>0</td>\n",
       "      <td>1</td>\n",
       "      <td>0</td>\n",
       "      <td>0</td>\n",
       "      <td>0</td>\n",
       "      <td>0</td>\n",
       "      <td>0</td>\n",
       "    </tr>\n",
       "    <tr>\n",
       "      <th>2</th>\n",
       "      <td>1.75367</td>\n",
       "      <td>123</td>\n",
       "      <td>1.15043</td>\n",
       "      <td>3.16228</td>\n",
       "      <td>121.064516</td>\n",
       "      <td>132.06937</td>\n",
       "      <td>0.0</td>\n",
       "      <td>0.129032</td>\n",
       "      <td>0.032258</td>\n",
       "      <td>0.129032</td>\n",
       "      <td>...</td>\n",
       "      <td>0</td>\n",
       "      <td>0</td>\n",
       "      <td>0</td>\n",
       "      <td>0</td>\n",
       "      <td>1</td>\n",
       "      <td>0</td>\n",
       "      <td>0</td>\n",
       "      <td>0</td>\n",
       "      <td>0</td>\n",
       "      <td>0</td>\n",
       "    </tr>\n",
       "    <tr>\n",
       "      <th>3</th>\n",
       "      <td>3.71474</td>\n",
       "      <td>124</td>\n",
       "      <td>2.88531</td>\n",
       "      <td>7.28538</td>\n",
       "      <td>121.064516</td>\n",
       "      <td>132.06937</td>\n",
       "      <td>0.0</td>\n",
       "      <td>0.129032</td>\n",
       "      <td>0.032258</td>\n",
       "      <td>0.129032</td>\n",
       "      <td>...</td>\n",
       "      <td>0</td>\n",
       "      <td>0</td>\n",
       "      <td>0</td>\n",
       "      <td>0</td>\n",
       "      <td>1</td>\n",
       "      <td>0</td>\n",
       "      <td>0</td>\n",
       "      <td>0</td>\n",
       "      <td>0</td>\n",
       "      <td>0</td>\n",
       "    </tr>\n",
       "    <tr>\n",
       "      <th>4</th>\n",
       "      <td>3.71474</td>\n",
       "      <td>125</td>\n",
       "      <td>2.88531</td>\n",
       "      <td>7.28538</td>\n",
       "      <td>121.064516</td>\n",
       "      <td>132.06937</td>\n",
       "      <td>0.0</td>\n",
       "      <td>0.129032</td>\n",
       "      <td>0.032258</td>\n",
       "      <td>0.129032</td>\n",
       "      <td>...</td>\n",
       "      <td>0</td>\n",
       "      <td>0</td>\n",
       "      <td>0</td>\n",
       "      <td>0</td>\n",
       "      <td>1</td>\n",
       "      <td>0</td>\n",
       "      <td>0</td>\n",
       "      <td>0</td>\n",
       "      <td>0</td>\n",
       "      <td>0</td>\n",
       "    </tr>\n",
       "  </tbody>\n",
       "</table>\n",
       "<p>5 rows × 41 columns</p>\n",
       "</div>"
      ],
      "text/plain": [
       "      mean  frame_num      var      max  degree_mean  degree_std  down  \\\n",
       "0  0.00000        121  0.00000  0.00000   121.064516   132.06937   0.0   \n",
       "1  1.75367        122  1.15043  3.16228   121.064516   132.06937   0.0   \n",
       "2  1.75367        123  1.15043  3.16228   121.064516   132.06937   0.0   \n",
       "3  3.71474        124  2.88531  7.28538   121.064516   132.06937   0.0   \n",
       "4  3.71474        125  2.88531  7.28538   121.064516   132.06937   0.0   \n",
       "\n",
       "       left  left_down   left_up ...  diver  feed  label  Sun  Mon  Tue  Wed  \\\n",
       "0  0.129032   0.032258  0.129032 ...      0     0      0    0    1    0    0   \n",
       "1  0.129032   0.032258  0.129032 ...      0     0      0    0    1    0    0   \n",
       "2  0.129032   0.032258  0.129032 ...      0     0      0    0    1    0    0   \n",
       "3  0.129032   0.032258  0.129032 ...      0     0      0    0    1    0    0   \n",
       "4  0.129032   0.032258  0.129032 ...      0     0      0    0    1    0    0   \n",
       "\n",
       "   Thurs  Fri  Sat  \n",
       "0      0    0    0  \n",
       "1      0    0    0  \n",
       "2      0    0    0  \n",
       "3      0    0    0  \n",
       "4      0    0    0  \n",
       "\n",
       "[5 rows x 41 columns]"
      ]
     },
     "execution_count": 124,
     "metadata": {},
     "output_type": "execute_result"
    }
   ],
   "source": [
    "print(time_series_df.columns)\n",
    "time_series_df.head()"
   ]
  },
  {
   "cell_type": "code",
   "execution_count": 125,
   "metadata": {
    "collapsed": false
   },
   "outputs": [
    {
     "data": {
      "text/plain": [
       "11015"
      ]
     },
     "execution_count": 125,
     "metadata": {},
     "output_type": "execute_result"
    }
   ],
   "source": [
    "np.sum(time_series_df[\"label\"] == 1)git a"
   ]
  },
  {
   "cell_type": "code",
   "execution_count": 7,
   "metadata": {
    "collapsed": false
   },
   "outputs": [
    {
     "data": {
      "text/plain": [
       "[<matplotlib.lines.Line2D at 0x105ec8b70>]"
      ]
     },
     "execution_count": 7,
     "metadata": {},
     "output_type": "execute_result"
    },
    {
     "data": {
      "image/png": "[encoded data removed]",
      "text/plain": [
       "<matplotlib.figure.Figure at 0x110e28320>"
      ]
     },
     "metadata": {},
     "output_type": "display_data"
    }
   ],
   "source": [
    "plt.plot(time_series_df[\"label\"])\n",
    "plt.plot(np.array(time_series_df[\"max\"])/400)"
   ]
  },
  {
   "cell_type": "code",
   "execution_count": null,
   "metadata": {
    "collapsed": false
   },
   "outputs": [],
   "source": []
  },
  {
   "cell_type": "code",
   "execution_count": null,
   "metadata": {
    "collapsed": true
   },
   "outputs": [],
   "source": []
  }
 ],
 "metadata": {
  "anaconda-cloud": {},
  "kernelspec": {
   "display_name": "Python [conda env:anaconda3-4.2.0]",
   "language": "python",
   "name": "conda-env-anaconda3-4.2.0-py"
  },
  "language_info": {
   "codemirror_mode": {
    "name": "ipython",
    "version": 3
   },
   "file_extension": ".py",
   "mimetype": "text/x-python",
   "name": "python",
   "nbconvert_exporter": "python",
   "pygments_lexer": "ipython3",
   "version": "3.5.2"
  }
 },
 "nbformat": 4,
 "nbformat_minor": 1
}
