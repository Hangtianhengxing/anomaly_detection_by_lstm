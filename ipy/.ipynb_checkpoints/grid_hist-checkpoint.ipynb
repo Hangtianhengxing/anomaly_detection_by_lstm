{
 "cells": [
  {
   "cell_type": "code",
   "execution_count": 1,
   "metadata": {
    "collapsed": true
   },
   "outputs": [],
   "source": [
    "%matplotlib inline\n",
    "import numpy as np\n",
    "import pandas as pd\n",
    "import matplotlib.pyplot as plt\n",
    "import seaborn as sns\n",
    "import glob\n",
    "from tqdm import tqdm\n",
    "from tqdm import trange"
   ]
  },
  {
   "cell_type": "code",
   "execution_count": 2,
   "metadata": {
    "collapsed": true
   },
   "outputs": [],
   "source": [
    "def total_cord(cord_dircpath):\n",
    "    cord_file_lst = glob.glob(cord_dircpath+\"*.csv\")\n",
    "\n",
    "    cord_dictlst = {\"x\":[], \"y\":[]}\n",
    "    for path in tqdm(cord_file_lst):\n",
    "        cord_arr = np.loadtxt(path, delimiter=\",\", dtype=int)\n",
    "        cord_arr = cord_arr[~((cord_arr[:, 0] < 400) * (cord_arr[:, 1] < 100))]\n",
    "        cord_dictlst[\"x\"].extend(cord_arr[:,0])\n",
    "        cord_dictlst[\"y\"].extend(cord_arr[:, 1])\n",
    "        \n",
    "    assert len(cord_dictlst[\"x\"]) == len(cord_dictlst[\"y\"]) \n",
    "\n",
    "    return cord_dictlst"
   ]
  },
  {
   "cell_type": "code",
   "execution_count": 3,
   "metadata": {
    "collapsed": false
   },
   "outputs": [
    {
     "name": "stderr",
     "output_type": "stream",
     "text": [
      "100%|██████████| 3597/3597 [00:02<00:00, 1447.95it/s]\n"
     ]
    },
    {
     "data": {
      "text/html": [
       "<div>\n",
       "<style scoped>\n",
       "    .dataframe tbody tr th:only-of-type {\n",
       "        vertical-align: middle;\n",
       "    }\n",
       "\n",
       "    .dataframe tbody tr th {\n",
       "        vertical-align: top;\n",
       "    }\n",
       "\n",
       "    .dataframe thead th {\n",
       "        text-align: right;\n",
       "    }\n",
       "</style>\n",
       "<table border=\"1\" class=\"dataframe\">\n",
       "  <thead>\n",
       "    <tr style=\"text-align: right;\">\n",
       "      <th></th>\n",
       "      <th>x</th>\n",
       "      <th>y</th>\n",
       "    </tr>\n",
       "  </thead>\n",
       "  <tbody>\n",
       "    <tr>\n",
       "      <th>0</th>\n",
       "      <td>548</td>\n",
       "      <td>155</td>\n",
       "    </tr>\n",
       "    <tr>\n",
       "      <th>1</th>\n",
       "      <td>515</td>\n",
       "      <td>103</td>\n",
       "    </tr>\n",
       "    <tr>\n",
       "      <th>2</th>\n",
       "      <td>439</td>\n",
       "      <td>119</td>\n",
       "    </tr>\n",
       "    <tr>\n",
       "      <th>3</th>\n",
       "      <td>311</td>\n",
       "      <td>167</td>\n",
       "    </tr>\n",
       "    <tr>\n",
       "      <th>4</th>\n",
       "      <td>765</td>\n",
       "      <td>145</td>\n",
       "    </tr>\n",
       "  </tbody>\n",
       "</table>\n",
       "</div>"
      ],
      "text/plain": [
       "     x    y\n",
       "0  548  155\n",
       "1  515  103\n",
       "2  439  119\n",
       "3  311  167\n",
       "4  765  145"
      ]
     },
     "execution_count": 3,
     "metadata": {},
     "output_type": "execute_result"
    }
   ],
   "source": [
    "cord_dictlst = total_cord(\"../data/20170421/10/\")\n",
    "cord_df = pd.DataFrame(cord_dictlst)\n",
    "cord_df.head()"
   ]
  },
  {
   "cell_type": "code",
   "execution_count": 4,
   "metadata": {
    "collapsed": false
   },
   "outputs": [
    {
     "name": "stdout",
     "output_type": "stream",
     "text": [
      "img: 1280, grid number: 5, grid width: 256\n"
     ]
    }
   ],
   "source": [
    "WIDTH = 1280\n",
    "grid_num = 5\n",
    "grid_width = int(WIDTH/grid_num)\n",
    "print(\"img: {}, grid number: {}, grid width: {}\".format(WIDTH, grid_num, grid_width))"
   ]
  },
  {
   "cell_type": "code",
   "execution_count": 5,
   "metadata": {
    "collapsed": false
   },
   "outputs": [
    {
     "data": {
      "text/html": [
       "<div>\n",
       "<style scoped>\n",
       "    .dataframe tbody tr th:only-of-type {\n",
       "        vertical-align: middle;\n",
       "    }\n",
       "\n",
       "    .dataframe tbody tr th {\n",
       "        vertical-align: top;\n",
       "    }\n",
       "\n",
       "    .dataframe thead th {\n",
       "        text-align: right;\n",
       "    }\n",
       "</style>\n",
       "<table border=\"1\" class=\"dataframe\">\n",
       "  <thead>\n",
       "    <tr style=\"text-align: right;\">\n",
       "      <th></th>\n",
       "      <th>x</th>\n",
       "      <th>y</th>\n",
       "      <th>grid_x</th>\n",
       "    </tr>\n",
       "  </thead>\n",
       "  <tbody>\n",
       "    <tr>\n",
       "      <th>0</th>\n",
       "      <td>548</td>\n",
       "      <td>155</td>\n",
       "      <td>2</td>\n",
       "    </tr>\n",
       "    <tr>\n",
       "      <th>1</th>\n",
       "      <td>515</td>\n",
       "      <td>103</td>\n",
       "      <td>2</td>\n",
       "    </tr>\n",
       "    <tr>\n",
       "      <th>2</th>\n",
       "      <td>439</td>\n",
       "      <td>119</td>\n",
       "      <td>1</td>\n",
       "    </tr>\n",
       "    <tr>\n",
       "      <th>3</th>\n",
       "      <td>311</td>\n",
       "      <td>167</td>\n",
       "      <td>1</td>\n",
       "    </tr>\n",
       "    <tr>\n",
       "      <th>4</th>\n",
       "      <td>765</td>\n",
       "      <td>145</td>\n",
       "      <td>2</td>\n",
       "    </tr>\n",
       "  </tbody>\n",
       "</table>\n",
       "</div>"
      ],
      "text/plain": [
       "     x    y  grid_x\n",
       "0  548  155       2\n",
       "1  515  103       2\n",
       "2  439  119       1\n",
       "3  311  167       1\n",
       "4  765  145       2"
      ]
     },
     "execution_count": 5,
     "metadata": {},
     "output_type": "execute_result"
    }
   ],
   "source": [
    "cord_df[\"grid_x\"] = (cord_df[\"x\"]/grid_width).astype(np.int32)\n",
    "cord_df.head()"
   ]
  },
  {
   "cell_type": "code",
   "execution_count": 6,
   "metadata": {
    "collapsed": false
   },
   "outputs": [
    {
     "name": "stdout",
     "output_type": "stream",
     "text": [
      "{0: 0.09350322871590179, 1: 0.3051784189366826, 2: 0.33851143243684095, 3: 0.1985684267086288, 4: 0.06423849320194587}\n"
     ]
    }
   ],
   "source": [
    "count_dict = {}\n",
    "for grid_index in range(grid_num):\n",
    "    count = len(cord_df[cord_df[\"grid_x\"] == grid_index])\n",
    "    count_dict[grid_index] = count/len(cord_df)\n",
    "    \n",
    "print(count_dict)"
   ]
  },
  {
   "cell_type": "code",
   "execution_count": 7,
   "metadata": {
    "collapsed": false
   },
   "outputs": [],
   "source": [
    "label_lst = []\n",
    "count_lst = []\n",
    "\n",
    "for key, value in count_dict.items():\n",
    "    label_lst.append(key+1)\n",
    "    count_lst.append(value)"
   ]
  },
  {
   "cell_type": "code",
   "execution_count": 31,
   "metadata": {
    "collapsed": false
   },
   "outputs": [
    {
     "data": {
      "image/png": "[encoded data removed]",
      "text/plain": [
       "<matplotlib.figure.Figure at 0x120101be0>"
      ]
     },
     "metadata": {},
     "output_type": "display_data"
    }
   ],
   "source": [
    "plt.bar(label_lst, count_lst)\n",
    "plt.ylim(0, 1)\n",
    "plt.title(\"ratio of each grid (time={})\".format(9))\n",
    "plt.ylabel(\"ratio\")\n",
    "plt.xlabel(\"gird ID\")\n",
    "plt.savefig(\"./grid_img/grid_9.png\")"
   ]
  },
  {
   "cell_type": "code",
   "execution_count": 16,
   "metadata": {
    "collapsed": true
   },
   "outputs": [],
   "source": [
    "def grid_fig(time, grid_num=5):\n",
    "    cord_dictlst = total_cord(\"../data/20170421/{}/\".format(time))\n",
    "    cord_df = pd.DataFrame(cord_dictlst)\n",
    "    \n",
    "    WIDTH = 1280\n",
    "    grid_width = int(WIDTH/grid_num)\n",
    "    \n",
    "    cord_df[\"grid_x\"] = (cord_df[\"x\"]/grid_width).astype(np.int32)\n",
    "    \n",
    "    count_dict = {}\n",
    "    for grid_index in range(grid_num):\n",
    "        count = len(cord_df[cord_df[\"grid_x\"] == grid_index])\n",
    "        count_dict[grid_index] = count/len(cord_df)\n",
    "        \n",
    "    label_lst = []\n",
    "    count_lst = []\n",
    "\n",
    "    for key, value in count_dict.items():\n",
    "        label_lst.append(key+1)\n",
    "        count_lst.append(value)\n",
    "        \n",
    "    plt.bar(label_lst, count_lst, color=\"b\")\n",
    "    plt.ylim(0, 1)\n",
    "    plt.title(\"ratio of each grid (time={})\".format(time))\n",
    "    plt.ylabel(\"ratio\")\n",
    "    plt.xlabel(\"gird ID\")\n",
    "    plt.xticks(label_lst)\n",
    "    plt.savefig(\"./grid_img/grid_{}.png\".format(time))"
   ]
  },
  {
   "cell_type": "code",
   "execution_count": 17,
   "metadata": {
    "collapsed": false
   },
   "outputs": [
    {
     "name": "stderr",
     "output_type": "stream",
     "text": [
      "100%|██████████| 3597/3597 [00:01<00:00, 2149.91it/s]\n",
      "100%|██████████| 3597/3597 [00:01<00:00, 2381.35it/s]\n",
      "100%|██████████| 3597/3597 [00:01<00:00, 2315.13it/s]\n",
      "100%|██████████| 3597/3597 [00:01<00:00, 2180.73it/s]\n",
      "100%|██████████| 3597/3597 [00:01<00:00, 2387.93it/s]\n",
      "100%|██████████| 3597/3597 [00:01<00:00, 2404.25it/s]\n",
      "100%|██████████| 3597/3597 [00:01<00:00, 2326.55it/s]\n",
      "100%|██████████| 3597/3597 [00:01<00:00, 2164.87it/s]\n"
     ]
    },
    {
     "data": {
      "image/png": "[encoded data removed]",
      "text/plain": [
       "<matplotlib.figure.Figure at 0x11bc2cba8>"
      ]
     },
     "metadata": {},
     "output_type": "display_data"
    }
   ],
   "source": [
    "for i in range(9, 17):\n",
    "    grid_fig(i, grid_num=10)"
   ]
  },
  {
   "cell_type": "code",
   "execution_count": 9,
   "metadata": {
    "collapsed": false
   },
   "outputs": [
    {
     "name": "stderr",
     "output_type": "stream",
     "text": [
      "100%|██████████| 3597/3597 [00:01<00:00, 2314.22it/s]\n"
     ]
    },
    {
     "data": {
      "image/png": "[encoded data removed]",
      "text/plain": [
       "<matplotlib.figure.Figure at 0x118cb87f0>"
      ]
     },
     "metadata": {},
     "output_type": "display_data"
    }
   ],
   "source": [
    "grid_fig(9, grid_num=10)"
   ]
  },
  {
   "cell_type": "code",
   "execution_count": null,
   "metadata": {
    "collapsed": true
   },
   "outputs": [],
   "source": []
  }
 ],
 "metadata": {
  "anaconda-cloud": {},
  "kernelspec": {
   "display_name": "Python [conda env:anaconda3-4.2.0]",
   "language": "python",
   "name": "conda-env-anaconda3-4.2.0-py"
  },
  "language_info": {
   "codemirror_mode": {
    "name": "ipython",
    "version": 3
   },
   "file_extension": ".py",
   "mimetype": "text/x-python",
   "name": "python",
   "nbconvert_exporter": "python",
   "pygments_lexer": "ipython3",
   "version": "3.5.2"
  }
 },
 "nbformat": 4,
 "nbformat_minor": 1
}
