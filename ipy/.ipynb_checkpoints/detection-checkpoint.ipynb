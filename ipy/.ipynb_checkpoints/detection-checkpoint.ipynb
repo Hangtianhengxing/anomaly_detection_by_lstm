{
 "cells": [
  {
   "cell_type": "code",
   "execution_count": 7,
   "metadata": {
    "collapsed": true
   },
   "outputs": [],
   "source": [
    "%matplotlib inline\n",
    "import numpy as np\n",
    "import pandas as pd\n",
    "import matplotlib.pyplot as plt\n",
    "import seaborn as sns\n",
    "import os\n",
    "import glob\n",
    "from tqdm import tqdm\n",
    "from tqdm import trange"
   ]
  },
  {
   "cell_type": "code",
   "execution_count": 2,
   "metadata": {
    "collapsed": false
   },
   "outputs": [
    {
     "name": "stdout",
     "output_type": "stream",
     "text": [
      "(107933,)\n",
      "[ 0.       5.09902  5.09902 10.198   10.198   14.3211  18.4443  18.4443\n",
      " 18.4443  22.5674 ]\n"
     ]
    }
   ],
   "source": [
    "max_arr = np.loadtxt(\"/Users/sakka/cnn_anomaly_detection/data/statistics/20170421/9/max.csv\", delimiter=\",\")\n",
    "print(max_arr.shape)\n",
    "print(max_arr[:10])"
   ]
  },
  {
   "cell_type": "code",
   "execution_count": 3,
   "metadata": {
    "collapsed": false
   },
   "outputs": [],
   "source": [
    "def detect_acceleration(value_lst, weight=3, window=5, min_value=200):\n",
    "    pad_size = window - len(value_lst)\n",
    "    if pad_size > 0:\n",
    "        pad_lst = [0 for _ in range(pad_size)]\n",
    "        value_lst = pad_lst + value_lst\n",
    "    window_mean = weight * np.mean(value_lst[-window:])\n",
    "    return min(window_mean, min_value)"
   ]
  },
  {
   "cell_type": "code",
   "execution_count": 12,
   "metadata": {
    "collapsed": false
   },
   "outputs": [],
   "source": [
    "def plot_threshold(root_stats_dirc, stats_format):\n",
    "    # get time series directory list under the root directory\n",
    "    times_lst = os.listdir(root_stats_dirc)\n",
    "    times_lst = [time for time in times_lst if os.path.isdir(root_stats_dirc + time)]\n",
    "    # sort by numerical number (directory is time series)\n",
    "    times_lst.sort(key=int)\n",
    "\n",
    "    thresh_dictlst = {}\n",
    "    for time in tqdm(times_lst):\n",
    "        stats_lst = list(np.loadtxt(root_stats_dirc+time+\"/\"+stats_format))\n",
    "        thresh_dictlst[int(time)] = []\n",
    "        for frame_index in range(len(stats_lst)):\n",
    "            current_thresh = detect_acceleration(stats_lst[:frame_index], weight=3, window=30*60*10)\n",
    "            thresh_dictlst[int(time)].append(current_thresh)\n",
    "            break\n",
    "    \n",
    "    return thresh_dictlst"
   ]
  },
  {
   "cell_type": "code",
   "execution_count": 13,
   "metadata": {
    "collapsed": false
   },
   "outputs": [
    {
     "name": "stderr",
     "output_type": "stream",
     "text": [
      "100%|██████████| 8/8 [00:02<00:00,  2.81it/s]\n"
     ]
    }
   ],
   "source": [
    "root_stats_dirc = \"/Users/sakka/cnn_anomaly_detection/data/statistics/20170421/\"\n",
    "stats_format = \"max.csv\"\n",
    "\n",
    "thresh_lst = plot_threshold(root_stats_dirc,stats_format)"
   ]
  },
  {
   "cell_type": "code",
   "execution_count": null,
   "metadata": {
    "collapsed": false
   },
   "outputs": [],
   "source": []
  },
  {
   "cell_type": "code",
   "execution_count": null,
   "metadata": {
    "collapsed": false
   },
   "outputs": [],
   "source": []
  },
  {
   "cell_type": "code",
   "execution_count": null,
   "metadata": {
    "collapsed": false
   },
   "outputs": [],
   "source": []
  },
  {
   "cell_type": "code",
   "execution_count": null,
   "metadata": {
    "collapsed": false
   },
   "outputs": [],
   "source": []
  },
  {
   "cell_type": "code",
   "execution_count": null,
   "metadata": {
    "collapsed": true
   },
   "outputs": [],
   "source": []
  }
 ],
 "metadata": {
  "anaconda-cloud": {},
  "kernelspec": {
   "display_name": "Python [conda env:anaconda3-4.2.0]",
   "language": "python",
   "name": "conda-env-anaconda3-4.2.0-py"
  },
  "language_info": {
   "codemirror_mode": {
    "name": "ipython",
    "version": 3
   },
   "file_extension": ".py",
   "mimetype": "text/x-python",
   "name": "python",
   "nbconvert_exporter": "python",
   "pygments_lexer": "ipython3",
   "version": "3.5.2"
  }
 },
 "nbformat": 4,
 "nbformat_minor": 1
}
