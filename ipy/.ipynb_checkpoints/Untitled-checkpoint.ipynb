{
 "cells": [
  {
   "cell_type": "code",
   "execution_count": 3,
   "metadata": {
    "collapsed": true
   },
   "outputs": [],
   "source": [
    "import os\n",
    "import glob\n",
    "import shutil\n",
    "from tqdm import tqdm"
   ]
  },
  {
   "cell_type": "code",
   "execution_count": 20,
   "metadata": {
    "collapsed": false
   },
   "outputs": [
    {
     "name": "stderr",
     "output_type": "stream",
     "text": [
      "100%|██████████| 5/5 [08:39<00:00, 103.96s/it]\n"
     ]
    }
   ],
   "source": [
    "root_dirc = \"../data/cord/\"\n",
    "day_lst = {\"20170416\", \"20170417\", \"20170418\", \"20170420\", \"20170422\"}\n",
    "\n",
    "for day in tqdm(day_lst):\n",
    "    for t in range(9, 17):\n",
    "        path_lst = glob.glob(root_dirc+\"{}/{}/*.csv\".format(day, t))\n",
    "        for path in path_lst:\n",
    "            file_num = int(path.split(\"/\")[-1][:-4])\n",
    "            new_path = \"../data/cord2/{}/{}/{}.csv\".format(day, t, file_num+90)\n",
    "            shutil.copyfile(path, new_path)"
   ]
  },
  {
   "cell_type": "code",
   "execution_count": null,
   "metadata": {
    "collapsed": false
   },
   "outputs": [],
   "source": []
  },
  {
   "cell_type": "code",
   "execution_count": 7,
   "metadata": {
    "collapsed": false
   },
   "outputs": [
    {
     "name": "stderr",
     "output_type": "stream",
     "text": [
      "\n",
      "\n",
      "  0%|          | 0/8 [00:00<?, ?it/s]\u001b[A\u001b[A\n",
      "\n",
      " 12%|█▎        | 1/8 [00:00<00:03,  1.90it/s]\u001b[A\u001b[A\n",
      "\n",
      " 25%|██▌       | 2/8 [00:01<00:03,  1.95it/s]\u001b[A\u001b[A\n",
      "\n",
      " 38%|███▊      | 3/8 [00:01<00:02,  1.79it/s]\u001b[A\u001b[A\n",
      "\n",
      " 50%|█████     | 4/8 [00:02<00:02,  1.36it/s]\u001b[A\u001b[A\n",
      "\n",
      " 62%|██████▎   | 5/8 [00:04<00:02,  1.12it/s]\u001b[A\u001b[A\n",
      "\n",
      " 75%|███████▌  | 6/8 [00:05<00:01,  1.19it/s]\u001b[A\u001b[A\n",
      "\n",
      " 88%|████████▊ | 7/8 [00:05<00:00,  1.25it/s]\u001b[A\u001b[A\n",
      "\n",
      "100%|██████████| 8/8 [00:06<00:00,  1.29it/s]\u001b[A\u001b[A\n",
      "\n",
      "\u001b[A\u001b[A"
     ]
    }
   ],
   "source": [
    "root_dirc = \"../data/cord/\"\n",
    "\n",
    "for t in tqdm(range(9, 17)):\n",
    "    path_lst = glob.glob(root_dirc+\"20170421/{}/*.csv\".format(t))\n",
    "    for path in path_lst:\n",
    "        file_num = int(path.split(\"/\")[-1][:-4])\n",
    "        new_path = \"../data/cord2/20170421/{}/{}.csv\".format(t, file_num+120)\n",
    "        shutil.copyfile(path, new_path)"
   ]
  },
  {
   "cell_type": "code",
   "execution_count": null,
   "metadata": {
    "collapsed": true
   },
   "outputs": [],
   "source": []
  }
 ],
 "metadata": {
  "anaconda-cloud": {},
  "kernelspec": {
   "display_name": "Python [conda env:anaconda3-4.2.0]",
   "language": "python",
   "name": "conda-env-anaconda3-4.2.0-py"
  },
  "language_info": {
   "codemirror_mode": {
    "name": "ipython",
    "version": 3
   },
   "file_extension": ".py",
   "mimetype": "text/x-python",
   "name": "python",
   "nbconvert_exporter": "python",
   "pygments_lexer": "ipython3",
   "version": "3.5.2"
  }
 },
 "nbformat": 4,
 "nbformat_minor": 1
}
