{
 "cells": [
  {
   "cell_type": "code",
   "execution_count": 1,
   "metadata": {
    "collapsed": false
   },
   "outputs": [],
   "source": [
    "%matplotlib inline\n",
    "import numpy as np\n",
    "import pandas as pd\n",
    "import matplotlib.pyplot as plt\n",
    "import seaborn as sns\n",
    "import glob\n",
    "from tqdm import tqdm\n",
    "from tqdm import trange\n",
    "import csv\n",
    "from collections import defaultdict "
   ]
  },
  {
   "cell_type": "code",
   "execution_count": 2,
   "metadata": {
    "collapsed": false
   },
   "outputs": [
    {
     "name": "stdout",
     "output_type": "stream",
     "text": [
      "964439\n"
     ]
    },
    {
     "data": {
      "text/plain": [
       "defaultdict(int,\n",
       "            {0: 283418,\n",
       "             5: 22881,\n",
       "             10: 23896,\n",
       "             15: 20746,\n",
       "             20: 11040,\n",
       "             25: 8206,\n",
       "             30: 3893,\n",
       "             35: 2192,\n",
       "             40: 1016,\n",
       "             45: 2383,\n",
       "             50: 820,\n",
       "             55: 751,\n",
       "             60: 821,\n",
       "             65: 370,\n",
       "             70: 512,\n",
       "             75: 428,\n",
       "             80: 278,\n",
       "             85: 66,\n",
       "             90: 6985,\n",
       "             95: 266,\n",
       "             100: 399,\n",
       "             105: 391,\n",
       "             110: 240,\n",
       "             115: 594,\n",
       "             120: 441,\n",
       "             125: 403,\n",
       "             130: 169,\n",
       "             135: 1662,\n",
       "             140: 854,\n",
       "             145: 1344,\n",
       "             150: 2609,\n",
       "             155: 3794,\n",
       "             160: 8337,\n",
       "             165: 10946,\n",
       "             170: 13051,\n",
       "             175: 15852,\n",
       "             180: 162792,\n",
       "             185: 34118,\n",
       "             190: 48153,\n",
       "             195: 40332,\n",
       "             200: 21267,\n",
       "             205: 11894,\n",
       "             210: 5801,\n",
       "             215: 3422,\n",
       "             220: 1450,\n",
       "             225: 3474,\n",
       "             230: 1453,\n",
       "             235: 1392,\n",
       "             240: 1470,\n",
       "             245: 860,\n",
       "             250: 1011,\n",
       "             255: 980,\n",
       "             260: 727,\n",
       "             265: 171,\n",
       "             270: 6854,\n",
       "             275: 744,\n",
       "             280: 1041,\n",
       "             285: 1027,\n",
       "             290: 823,\n",
       "             295: 1473,\n",
       "             300: 1335,\n",
       "             305: 1466,\n",
       "             310: 763,\n",
       "             315: 3844,\n",
       "             320: 2824,\n",
       "             325: 4251,\n",
       "             330: 7258,\n",
       "             335: 11158,\n",
       "             340: 27013,\n",
       "             345: 37246,\n",
       "             350: 30349,\n",
       "             355: 32149})"
      ]
     },
     "execution_count": 2,
     "metadata": {},
     "output_type": "execute_result"
    }
   ],
   "source": [
    "root_dirc = \"/Users/sakka/cnn_anomaly_detection/data/statistics/20170417/\"\n",
    "degree_count_dict = defaultdict(int)\n",
    "total = 0\n",
    "\n",
    "for i in range(9, 17):\n",
    "    with open(root_dirc+\"{}/degree.csv\".format(i), \"r\") as f:\n",
    "        reader = csv.reader(f)\n",
    "        for row in reader:\n",
    "            for deg in row[:-1]:\n",
    "                if deg == \"360\":\n",
    "                    break\n",
    "                else:\n",
    "                    total += 1\n",
    "                    tmp_deg = int(int(deg)/5)*5\n",
    "                    degree_count_dict[tmp_deg] += 1 \n",
    "                \n",
    "                \n",
    "print(total)\n",
    "degree_count_dict"
   ]
  },
  {
   "cell_type": "code",
   "execution_count": 3,
   "metadata": {
    "collapsed": false
   },
   "outputs": [
    {
     "data": {
      "text/plain": [
       "{0: 29.386824879541372,\n",
       " 5: 2.3724673100113125,\n",
       " 10: 2.4777098396062374,\n",
       " 15: 2.151095092587504,\n",
       " 20: 1.1447069228847029,\n",
       " 25: 0.8508573377891189,\n",
       " 30: 0.4036543524266438,\n",
       " 35: 0.22728238903652795,\n",
       " 40: 0.10534621681620093,\n",
       " 45: 0.24708664830020355,\n",
       " 50: 0.08502352144614642,\n",
       " 55: 0.07786910317811702,\n",
       " 60: 0.0851272086674222,\n",
       " 65: 0.03836427187204167,\n",
       " 70: 0.053087857293203616,\n",
       " 75: 0.0443781307060374,\n",
       " 80: 0.02882504751466915,\n",
       " 85: 0.006843356604202029,\n",
       " 90: 0.7242552406113812,\n",
       " 95: 0.02758080085935969,\n",
       " 100: 0.04137120128903953,\n",
       " 105: 0.040541703518833225,\n",
       " 110: 0.02488493310618919,\n",
       " 115: 0.061590209437818254,\n",
       " 120: 0.04572606458262265,\n",
       " 125: 0.04178595017414269,\n",
       " 130: 0.017523140395608223,\n",
       " 135: 0.17232816176036017,\n",
       " 140: 0.08854888696952322,\n",
       " 145: 0.13935562539465948,\n",
       " 150: 0.2705199603085317,\n",
       " 155: 0.3933893175203408,\n",
       " 160: 0.8644403637762471,\n",
       " 165: 1.1349603240847788,\n",
       " 170: 1.3532219248703132,\n",
       " 175: 1.6436498316637964,\n",
       " 180: 16.87945012592813,\n",
       " 185: 3.5376006154873454,\n",
       " 190: 4.992850766093034,\n",
       " 195: 4.181913008495094,\n",
       " 200: 2.2051161348721897,\n",
       " 205: 1.2332558098542261,\n",
       " 210: 0.601489570620848,\n",
       " 215: 0.3548176712057476,\n",
       " 220: 0.15034647084989305,\n",
       " 225: 0.36020940671208856,\n",
       " 230: 0.1506575325137204,\n",
       " 235: 0.14433261201589734,\n",
       " 240: 0.1524202152754088,\n",
       " 245: 0.08917101029717794,\n",
       " 250: 0.10482778070982199,\n",
       " 255: 0.10161347685027254,\n",
       " 260: 0.0753806098674981,\n",
       " 265: 0.017730514838159798,\n",
       " 270: 0.710672214624253,\n",
       " 275: 0.0771432926291865,\n",
       " 280: 0.10793839734809564,\n",
       " 285: 0.10648677625023459,\n",
       " 290: 0.08533458310997377,\n",
       " 295: 0.15273127693923616,\n",
       " 300: 0.1384224404031774,\n",
       " 305: 0.15200546639030565,\n",
       " 310: 0.07911334983342648,\n",
       " 315: 0.3985736785841303,\n",
       " 320: 0.2928127128828262,\n",
       " 325: 0.44077437764337607,\n",
       " 330: 0.7525618520196715,\n",
       " 335: 1.1569420149952458,\n",
       " 340: 2.8009029083228696,\n",
       " 345: 3.8619342436380113,\n",
       " 350: 3.1468034784988994,\n",
       " 355: 3.3334404767953183,\n",
       " 360: 0}"
      ]
     },
     "execution_count": 3,
     "metadata": {},
     "output_type": "execute_result"
    }
   ],
   "source": [
    "degree_dict = {}\n",
    "for key, value in degree_count_dict.items():\n",
    "    degree_dict[key] = value/total*100\n",
    "    \n",
    "degree_dict[360] = 0\n",
    "degree_dict"
   ]
  },
  {
   "cell_type": "code",
   "execution_count": 10,
   "metadata": {
    "collapsed": false
   },
   "outputs": [
    {
     "data": {
      "image/png": "[encoded data removed]",
      "text/plain": [
       "<matplotlib.figure.Figure at 0x118d69e80>"
      ]
     },
     "metadata": {},
     "output_type": "display_data"
    }
   ],
   "source": [
    "plt.figure(figsize=(20, 6))\n",
    "plt.tick_params(labelsize=24)\n",
    "plt.bar(list(degree_dict.keys()), degree_dict.values(), width=10)\n",
    "plt.ylim(0, 30)\n",
    "plt.grid()"
   ]
  },
  {
   "cell_type": "code",
   "execution_count": null,
   "metadata": {
    "collapsed": true
   },
   "outputs": [],
   "source": []
  },
  {
   "cell_type": "code",
   "execution_count": null,
   "metadata": {
    "collapsed": true
   },
   "outputs": [],
   "source": []
  }
 ],
 "metadata": {
  "anaconda-cloud": {},
  "kernelspec": {
   "display_name": "Python [conda env:anaconda3-4.2.0]",
   "language": "python",
   "name": "conda-env-anaconda3-4.2.0-py"
  },
  "language_info": {
   "codemirror_mode": {
    "name": "ipython",
    "version": 3
   },
   "file_extension": ".py",
   "mimetype": "text/x-python",
   "name": "python",
   "nbconvert_exporter": "python",
   "pygments_lexer": "ipython3",
   "version": "3.5.2"
  }
 },
 "nbformat": 4,
 "nbformat_minor": 1
}
